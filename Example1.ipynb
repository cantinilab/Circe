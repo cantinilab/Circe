{
 "cells": [
  {
   "cell_type": "code",
   "execution_count": 31,
   "id": "8b881bd5-3386-44c8-acf9-d88aa756b0ba",
   "metadata": {
    "collapsed": true,
    "jupyter": {
     "outputs_hidden": true
    },
    "tags": []
   },
   "outputs": [
    {
     "name": "stdout",
     "output_type": "stream",
     "text": [
      "Obtaining atac-networks from git+https://github.com/r-trimbour/atac-networks.git#egg=atac-networks\n",
      "  Updating ./src/atac-networks clone\n",
      "  Running command git fetch -q --tags\n",
      "  Running command git reset --hard -q 268b9bd6643b34aab6dfca2ea835caf1bdca9e94\n",
      "  Installing build dependencies ... \u001b[?25ldone\n",
      "\u001b[?25h  Checking if build backend supports build_editable ... \u001b[?25ldone\n",
      "\u001b[?25h  Getting requirements to build wheel ... \u001b[?25ldone\n",
      "\u001b[?25h  Preparing metadata (pyproject.toml) ... \u001b[?25ldone\n",
      "\u001b[?25hRequirement already satisfied: joblib<2.0.0,>=1.1.0 in /home/rtrimbou/miniconda3/envs/atac_testing/lib/python3.11/site-packages (from atac-networks) (1.3.2)\n",
      "Requirement already satisfied: numpy<2.0.0,>=1.25.0 in /home/rtrimbou/miniconda3/envs/atac_testing/lib/python3.11/site-packages (from atac-networks) (1.25.2)\n",
      "Requirement already satisfied: pandas<3.0.0,>=2.1.1 in /home/rtrimbou/miniconda3/envs/atac_testing/lib/python3.11/site-packages (from atac-networks) (2.1.1)\n",
      "Requirement already satisfied: scanpy<2.0.0,>=1.8.1 in /home/rtrimbou/miniconda3/envs/atac_testing/lib/python3.11/site-packages (from atac-networks) (1.9.5)\n",
      "Requirement already satisfied: scikit-learn<2.0.0,>=1.3.1 in /home/rtrimbou/miniconda3/envs/atac_testing/lib/python3.11/site-packages (from atac-networks) (1.3.1)\n",
      "Requirement already satisfied: tqdm<5.0.0,>=4.66.1 in /home/rtrimbou/miniconda3/envs/atac_testing/lib/python3.11/site-packages (from atac-networks) (4.66.1)\n",
      "Requirement already satisfied: python-dateutil>=2.8.2 in /home/rtrimbou/miniconda3/envs/atac_testing/lib/python3.11/site-packages (from pandas<3.0.0,>=2.1.1->atac-networks) (2.8.2)\n",
      "Requirement already satisfied: pytz>=2020.1 in /home/rtrimbou/miniconda3/envs/atac_testing/lib/python3.11/site-packages (from pandas<3.0.0,>=2.1.1->atac-networks) (2023.3.post1)\n",
      "Requirement already satisfied: tzdata>=2022.1 in /home/rtrimbou/miniconda3/envs/atac_testing/lib/python3.11/site-packages (from pandas<3.0.0,>=2.1.1->atac-networks) (2023.3)\n",
      "Requirement already satisfied: anndata>=0.7.4 in /home/rtrimbou/miniconda3/envs/atac_testing/lib/python3.11/site-packages (from scanpy<2.0.0,>=1.8.1->atac-networks) (0.9.2)\n",
      "Requirement already satisfied: matplotlib>=3.4 in /home/rtrimbou/miniconda3/envs/atac_testing/lib/python3.11/site-packages (from scanpy<2.0.0,>=1.8.1->atac-networks) (3.8.0)\n",
      "Requirement already satisfied: scipy>=1.4 in /home/rtrimbou/miniconda3/envs/atac_testing/lib/python3.11/site-packages (from scanpy<2.0.0,>=1.8.1->atac-networks) (1.11.2)\n",
      "Requirement already satisfied: seaborn in /home/rtrimbou/miniconda3/envs/atac_testing/lib/python3.11/site-packages (from scanpy<2.0.0,>=1.8.1->atac-networks) (0.12.2)\n",
      "Requirement already satisfied: h5py>=3 in /home/rtrimbou/miniconda3/envs/atac_testing/lib/python3.11/site-packages (from scanpy<2.0.0,>=1.8.1->atac-networks) (3.9.0)\n",
      "Requirement already satisfied: statsmodels>=0.10.0rc2 in /home/rtrimbou/miniconda3/envs/atac_testing/lib/python3.11/site-packages (from scanpy<2.0.0,>=1.8.1->atac-networks) (0.14.0)\n",
      "Requirement already satisfied: patsy in /home/rtrimbou/miniconda3/envs/atac_testing/lib/python3.11/site-packages (from scanpy<2.0.0,>=1.8.1->atac-networks) (0.5.3)\n",
      "Requirement already satisfied: networkx>=2.3 in /home/rtrimbou/miniconda3/envs/atac_testing/lib/python3.11/site-packages (from scanpy<2.0.0,>=1.8.1->atac-networks) (3.1)\n",
      "Requirement already satisfied: natsort in /home/rtrimbou/miniconda3/envs/atac_testing/lib/python3.11/site-packages (from scanpy<2.0.0,>=1.8.1->atac-networks) (8.4.0)\n",
      "Requirement already satisfied: numba>=0.41.0 in /home/rtrimbou/miniconda3/envs/atac_testing/lib/python3.11/site-packages (from scanpy<2.0.0,>=1.8.1->atac-networks) (0.58.0)\n",
      "Requirement already satisfied: umap-learn>=0.3.10 in /home/rtrimbou/miniconda3/envs/atac_testing/lib/python3.11/site-packages (from scanpy<2.0.0,>=1.8.1->atac-networks) (0.5.4)\n",
      "Requirement already satisfied: packaging in /home/rtrimbou/miniconda3/envs/atac_testing/lib/python3.11/site-packages (from scanpy<2.0.0,>=1.8.1->atac-networks) (23.1)\n",
      "Requirement already satisfied: session-info in /home/rtrimbou/miniconda3/envs/atac_testing/lib/python3.11/site-packages (from scanpy<2.0.0,>=1.8.1->atac-networks) (1.0.0)\n",
      "Requirement already satisfied: threadpoolctl>=2.0.0 in /home/rtrimbou/miniconda3/envs/atac_testing/lib/python3.11/site-packages (from scikit-learn<2.0.0,>=1.3.1->atac-networks) (3.2.0)\n",
      "Requirement already satisfied: contourpy>=1.0.1 in /home/rtrimbou/miniconda3/envs/atac_testing/lib/python3.11/site-packages (from matplotlib>=3.4->scanpy<2.0.0,>=1.8.1->atac-networks) (1.1.1)\n",
      "Requirement already satisfied: cycler>=0.10 in /home/rtrimbou/miniconda3/envs/atac_testing/lib/python3.11/site-packages (from matplotlib>=3.4->scanpy<2.0.0,>=1.8.1->atac-networks) (0.11.0)\n",
      "Requirement already satisfied: fonttools>=4.22.0 in /home/rtrimbou/miniconda3/envs/atac_testing/lib/python3.11/site-packages (from matplotlib>=3.4->scanpy<2.0.0,>=1.8.1->atac-networks) (4.42.1)\n",
      "Requirement already satisfied: kiwisolver>=1.0.1 in /home/rtrimbou/miniconda3/envs/atac_testing/lib/python3.11/site-packages (from matplotlib>=3.4->scanpy<2.0.0,>=1.8.1->atac-networks) (1.4.5)\n",
      "Requirement already satisfied: pillow>=6.2.0 in /home/rtrimbou/miniconda3/envs/atac_testing/lib/python3.11/site-packages (from matplotlib>=3.4->scanpy<2.0.0,>=1.8.1->atac-networks) (10.0.1)\n",
      "Requirement already satisfied: pyparsing>=2.3.1 in /home/rtrimbou/miniconda3/envs/atac_testing/lib/python3.11/site-packages (from matplotlib>=3.4->scanpy<2.0.0,>=1.8.1->atac-networks) (3.1.1)\n",
      "Requirement already satisfied: llvmlite<0.42,>=0.41.0dev0 in /home/rtrimbou/miniconda3/envs/atac_testing/lib/python3.11/site-packages (from numba>=0.41.0->scanpy<2.0.0,>=1.8.1->atac-networks) (0.41.0)\n",
      "Requirement already satisfied: six>=1.5 in /home/rtrimbou/miniconda3/envs/atac_testing/lib/python3.11/site-packages (from python-dateutil>=2.8.2->pandas<3.0.0,>=2.1.1->atac-networks) (1.16.0)\n",
      "Requirement already satisfied: pynndescent>=0.5 in /home/rtrimbou/miniconda3/envs/atac_testing/lib/python3.11/site-packages (from umap-learn>=0.3.10->scanpy<2.0.0,>=1.8.1->atac-networks) (0.5.10)\n",
      "Requirement already satisfied: tbb>=2019.0 in /home/rtrimbou/miniconda3/envs/atac_testing/lib/python3.11/site-packages (from umap-learn>=0.3.10->scanpy<2.0.0,>=1.8.1->atac-networks) (2021.10.0)\n",
      "Requirement already satisfied: stdlib-list in /home/rtrimbou/miniconda3/envs/atac_testing/lib/python3.11/site-packages (from session-info->scanpy<2.0.0,>=1.8.1->atac-networks) (0.9.0)\n",
      "Installing collected packages: atac-networks\n",
      "  Attempting uninstall: atac-networks\n",
      "    Found existing installation: atac-networks 0.1.0\n",
      "    Can't uninstall 'atac-networks'. No files were found to uninstall.\n",
      "  Running setup.py develop for atac-networks\n",
      "Successfully installed atac-networks-0.1.0\n",
      "Note: you may need to restart the kernel to use updated packages.\n"
     ]
    }
   ],
   "source": [
    "pip install -e \"git+https://github.com/r-trimbour/atac-networks.git#egg=atac-networks\""
   ]
  },
  {
   "cell_type": "code",
   "execution_count": 1,
   "id": "8532bf40-6a1c-4508-8e3c-e46ef65ee758",
   "metadata": {
    "tags": []
   },
   "outputs": [],
   "source": [
    "import warnings\n",
    "warnings.filterwarnings(\"ignore\", category=FutureWarning, message=r\".*Reordering categories will always return a new Categorical object.*\")\n",
    "warnings.filterwarnings(\"ignore\", category=FutureWarning, message=r\".*is_categorical_dtype is deprecated and will be removed in a future version.*\")"
   ]
  },
  {
   "cell_type": "code",
   "execution_count": 2,
   "id": "18bcf460-6d87-487c-8433-7fa9f898970a",
   "metadata": {},
   "outputs": [],
   "source": [
    "import atac_networks as an\n",
    "import atac_networks.metacells\n",
    "import scanpy as sc"
   ]
  },
  {
   "cell_type": "code",
   "execution_count": 3,
   "id": "100e2e30-bfa4-4d24-b1d6-6913f6e19c49",
   "metadata": {
    "tags": []
   },
   "outputs": [
    {
     "data": {
      "text/plain": [
       "\u001b[0;31mSignature:\u001b[0m \u001b[0matac_networks\u001b[0m\u001b[0;34m.\u001b[0m\u001b[0madd_region_infos\u001b[0m\u001b[0;34m(\u001b[0m\u001b[0mAnnData\u001b[0m\u001b[0;34m,\u001b[0m \u001b[0msep\u001b[0m\u001b[0;34m=\u001b[0m\u001b[0;34m(\u001b[0m\u001b[0;34m'_'\u001b[0m\u001b[0;34m,\u001b[0m \u001b[0;34m'_'\u001b[0m\u001b[0;34m)\u001b[0m\u001b[0;34m,\u001b[0m \u001b[0minplace\u001b[0m\u001b[0;34m=\u001b[0m\u001b[0;32mTrue\u001b[0m\u001b[0;34m)\u001b[0m\u001b[0;34m\u001b[0m\u001b[0;34m\u001b[0m\u001b[0m\n",
       "\u001b[0;31mDocstring:\u001b[0m\n",
       "Get region informations from the var_names of AnnData object.\n",
       "e.g. chr1_12345_12346 -> 'chromosome' : chr1,\n",
       "                         'start' : 12345,\n",
       "                         'end' : 12346\n",
       "These info will be added to var of AnnData object.\n",
       "    adata.var['chromosome'] : chromosome\n",
       "    adata.var['start'] : start position\n",
       "    adata.var['end'] : end position\n",
       "\n",
       "Parameters\n",
       "----------\n",
       "AnnData : AnnData object\n",
       "    AnnData object with var_names as region names.\n",
       "sep : tuple, optional\n",
       "    Separator of region names. The default is ('_', '_').\n",
       "\n",
       "Returns\n",
       "-------\n",
       "AnnData : AnnData object\n",
       "    AnnData object with region informations in var.\n",
       "\u001b[0;31mFile:\u001b[0m      ~/ATACNet/atac_network/atac_networks/atac_networks.py\n",
       "\u001b[0;31mType:\u001b[0m      function"
      ]
     },
     "metadata": {},
     "output_type": "display_data"
    }
   ],
   "source": [
    "?atac_networks.add_region_infos"
   ]
  },
  {
   "cell_type": "code",
   "execution_count": 4,
   "id": "a1122fa9-1917-4899-beb6-ffa6d58b1d4d",
   "metadata": {},
   "outputs": [],
   "source": [
    "import numpy as np\n",
    "import pandas as pd\n",
    "import anndata as ad\n",
    "\n",
    "import scipy as sp\n",
    "from scipy import linalg\n",
    "from sklearn.datasets import make_sparse_spd_matrix\n",
    "import matplotlib.pyplot as plt"
   ]
  },
  {
   "cell_type": "markdown",
   "id": "b5b35075-2b58-4011-944d-316379912fe0",
   "metadata": {},
   "source": [
    "# Test with sparse covariance true matrix as GT"
   ]
  },
  {
   "cell_type": "markdown",
   "id": "3972a885-0c5c-4378-81c2-26b7cfdee1f6",
   "metadata": {
    "tags": []
   },
   "source": [
    "### 0. Create fake AnnData"
   ]
  },
  {
   "cell_type": "code",
   "execution_count": 5,
   "id": "79295862-9df3-4fa4-a32c-0931c73c705f",
   "metadata": {},
   "outputs": [],
   "source": [
    "# Create fake single-cell atac-seq data\n",
    "nb_cells = 300\n",
    "nb_chr = 10\n",
    "nb_regions_per_chr = 200\n",
    "between_reg = 2000\n",
    "size_reg = 50\n",
    "\n",
    "counts = []\n",
    "for chr in range(nb_chr):\n",
    "    counts.append(pd.DataFrame(np.random.randint(0,100, size=(nb_cells, nb_regions_per_chr)),\n",
    "                        index=['Cell_'+j for j in map(str, range(nb_cells))],\n",
    "                        columns=['chr'+str(chr)+'_'+str(i)+'_'+str(i+size_reg) for i in range(1, nb_regions_per_chr*between_reg+1, between_reg)]))\n",
    "atac = ad.AnnData(pd.concat(counts, axis=1))"
   ]
  },
  {
   "cell_type": "code",
   "execution_count": 6,
   "id": "f1707268-8d8f-49bb-ae0a-75c037392b22",
   "metadata": {},
   "outputs": [],
   "source": [
    "distance_threshold = 50000"
   ]
  },
  {
   "cell_type": "markdown",
   "id": "56bbfdba-4447-4778-b4d7-83be18c8923f",
   "metadata": {
    "tags": []
   },
   "source": [
    "### 1. Add region position in AnnData.obs"
   ]
  },
  {
   "cell_type": "code",
   "execution_count": 7,
   "id": "2feb1282-0e2b-4e10-bb8b-8f448e4ca2a6",
   "metadata": {},
   "outputs": [],
   "source": [
    "atac_networks.add_region_infos(atac)"
   ]
  },
  {
   "cell_type": "markdown",
   "id": "d3ac14f6-fd5e-46cd-89fd-1b583802998c",
   "metadata": {
    "tags": []
   },
   "source": [
    "### 2. Replace random data with fake cov matrix"
   ]
  },
  {
   "cell_type": "code",
   "execution_count": 8,
   "id": "fe157d99-c262-4009-8975-fe59f145ebc9",
   "metadata": {},
   "outputs": [],
   "source": [
    "n_samples, n_features = 300, nb_regions_per_chr\n",
    "\n",
    "prng = np.random.RandomState(0)\n",
    "prec = make_sparse_spd_matrix(\n",
    "    n_features, alpha=0.99, smallest_coef=0.4, largest_coef=0.7, random_state=prng\n",
    ")\n",
    "cov = linalg.inv(prec)\n",
    "\n",
    "#cov with only potential connections\n",
    "possible_co = sp.sparse.csr_matrix(atac_networks.get_distances_regions(atac)<distance_threshold/2)[:cov.shape[0],:cov.shape[1]]\n",
    "possible_co = sp.sparse.coo_matrix(possible_co).toarray() + sp.sparse.coo_matrix(possible_co).toarray().T \n",
    "cov = np.eye(len(cov))*np.diag(cov) + possible_co*cov \n",
    "d = np.sqrt(np.diag(cov))\n",
    "cov /= d\n",
    "cov /= d[:, np.newaxis]\n",
    "prec *= d\n",
    "prec *= d[:, np.newaxis]\n",
    "X = prng.multivariate_normal(np.zeros(n_features), cov, size=n_samples)\n",
    "X -= X.mean(axis=0)\n",
    "X /= X.std(axis=0)\n",
    "\n",
    "X_ = np.concatenate([X]*nb_chr, axis=1)\n",
    "atac.X = np.abs(X_)\n",
    "atac.X = np.where(X_<0, 0, X_)"
   ]
  },
  {
   "cell_type": "markdown",
   "id": "ec6c2bcd-2549-43f1-bef3-f8fe6489d369",
   "metadata": {
    "tags": []
   },
   "source": [
    "### 2.A. Remove Null rows"
   ]
  },
  {
   "cell_type": "code",
   "execution_count": 9,
   "id": "30d98f97-b3b5-4d21-ae8f-4de6c9797f29",
   "metadata": {
    "tags": []
   },
   "outputs": [
    {
     "data": {
      "text/plain": [
       "AnnData object with n_obs × n_vars = 300 × 2000\n",
       "    var: 'chromosome', 'start', 'end', 'n_cells'"
      ]
     },
     "execution_count": 9,
     "metadata": {},
     "output_type": "execute_result"
    }
   ],
   "source": [
    "sc.pp.filter_genes(atac, min_cells=1)\n",
    "atac"
   ]
  },
  {
   "cell_type": "markdown",
   "id": "6d5c7a34-66cc-4587-b8d5-e485dc975fd8",
   "metadata": {
    "tags": []
   },
   "source": [
    "### 2.B. Compute pseudocells"
   ]
  },
  {
   "cell_type": "code",
   "execution_count": 10,
   "id": "2d8f7966-3f9c-4d73-bd67-5bef4fabd53f",
   "metadata": {
    "tags": []
   },
   "outputs": [
    {
     "name": "stderr",
     "output_type": "stream",
     "text": [
      "100%|███████████████████████████████████████████████████████████████████████████████████████████████████████████████████████████████████████████████████| 299/299 [00:00<00:00, 12038.60it/s]\n"
     ]
    }
   ],
   "source": [
    "metacells = an.metacells.compute_metacells(atac)\n",
    "an.add_region_infos(metacells)"
   ]
  },
  {
   "cell_type": "markdown",
   "id": "23c4e2ef-c346-4c63-9efb-8e4bbeb95cb2",
   "metadata": {},
   "source": [
    "### 3 Calculate co-accessibility"
   ]
  },
  {
   "cell_type": "code",
   "execution_count": 12,
   "id": "b0e0cb62-fab3-4d7f-bd0f-15ab43045b39",
   "metadata": {
    "tags": []
   },
   "outputs": [
    {
     "name": "stdout",
     "output_type": "stream",
     "text": [
      "Calculating penalty coefficient alpha...\n"
     ]
    },
    {
     "name": "stderr",
     "output_type": "stream",
     "text": [
      " 21%|███████████████████████████████▋                                                                                                                       | 21/100 [00:00<00:01, 62.74it/s]"
     ]
    },
    {
     "name": "stdout",
     "output_type": "stream",
     "text": [
      "maximum number of iterations hit\n",
      "maximum number of iterations hit\n"
     ]
    },
    {
     "name": "stderr",
     "output_type": "stream",
     "text": [
      " 46%|█████████████████████████████████████████████████████████████████████▍                                                                                 | 46/100 [00:00<00:00, 75.14it/s]"
     ]
    },
    {
     "name": "stdout",
     "output_type": "stream",
     "text": [
      "maximum number of iterations hit\n"
     ]
    },
    {
     "name": "stderr",
     "output_type": "stream",
     "text": [
      " 57%|██████████████████████████████████████████████████████████████████████████████████████                                                                 | 57/100 [00:00<00:00, 67.33it/s]\n"
     ]
    },
    {
     "name": "stdout",
     "output_type": "stream",
     "text": [
      "Calculating co-accessibility scores...\n",
      "Starting to process chromosomes : ['chr0' 'chr1' 'chr2' 'chr3' 'chr4' 'chr5' 'chr6' 'chr7' 'chr8' 'chr9']\n"
     ]
    },
    {
     "name": "stderr",
     "output_type": "stream",
     "text": [
      "100%|████████████████████████████████████████████████████████████████████████████████████████████████████████████████████████████████████████████████████████| 10/10 [00:00<00:00, 57.14it/s]\n"
     ]
    },
    {
     "name": "stdout",
     "output_type": "stream",
     "text": [
      "Finishing to process chromosomes : ['chr0' 'chr1' 'chr2' 'chr3' 'chr4' 'chr5' 'chr6' 'chr7' 'chr8' 'chr9']\n"
     ]
    },
    {
     "name": "stderr",
     "output_type": "stream",
     "text": [
      "100%|████████████████████████████████████████████████████████████████████████████████████████████████████████████████████████████████████████████████████████| 10/10 [00:00<00:00, 82.39it/s]\n"
     ]
    },
    {
     "name": "stdout",
     "output_type": "stream",
     "text": [
      "Averaging co-accessibility scores across windows...\n",
      "Done !\n"
     ]
    }
   ],
   "source": [
    "an.compute_atac_network(\n",
    "    atac,\n",
    "    window_size=distance_threshold,\n",
    "    unit_distance = 1000,\n",
    "    distance_constraint=distance_threshold/2,\n",
    "    n_samples=50,\n",
    "    n_samples_maxtry=100,\n",
    "    max_alpha_iteration=60\n",
    ")"
   ]
  },
  {
   "cell_type": "markdown",
   "id": "69f7dc04-4e27-4b18-a368-8306078e6e46",
   "metadata": {},
   "source": [
    "*Can be stored externally using sliding_graphica_lasso*"
   ]
  },
  {
   "cell_type": "code",
   "execution_count": 13,
   "id": "1825591f-5177-4429-8791-54ef15537e66",
   "metadata": {
    "scrolled": true,
    "tags": []
   },
   "outputs": [
    {
     "name": "stdout",
     "output_type": "stream",
     "text": [
      "Calculating penalty coefficient alpha...\n"
     ]
    },
    {
     "name": "stderr",
     "output_type": "stream",
     "text": [
      "  0%|                                                                                                                                                                | 0/100 [00:00<?, ?it/s]"
     ]
    },
    {
     "name": "stdout",
     "output_type": "stream",
     "text": [
      "maximum number of iterations hit\n",
      "maximum number of iterations hit\n",
      "maximum number of iterations hit\n",
      "maximum number of iterations hit\n",
      "maximum number of iterations hit\n"
     ]
    },
    {
     "name": "stderr",
     "output_type": "stream",
     "text": [
      "  6%|█████████                                                                                                                                               | 6/100 [00:00<00:01, 50.84it/s]"
     ]
    },
    {
     "name": "stdout",
     "output_type": "stream",
     "text": [
      "maximum number of iterations hit\n",
      "maximum number of iterations hit\n",
      "maximum number of iterations hit\n",
      "maximum number of iterations hit\n",
      "maximum number of iterations hit\n"
     ]
    },
    {
     "name": "stderr",
     "output_type": "stream",
     "text": [
      " 12%|██████████████████                                                                                                                                     | 12/100 [00:00<00:01, 51.51it/s]"
     ]
    },
    {
     "name": "stdout",
     "output_type": "stream",
     "text": [
      "maximum number of iterations hit\n",
      "maximum number of iterations hit\n",
      "maximum number of iterations hit\n",
      "maximum number of iterations hit\n",
      "maximum number of iterations hit\n"
     ]
    },
    {
     "name": "stderr",
     "output_type": "stream",
     "text": [
      " 18%|███████████████████████████▏                                                                                                                           | 18/100 [00:00<00:01, 51.54it/s]"
     ]
    },
    {
     "name": "stdout",
     "output_type": "stream",
     "text": [
      "maximum number of iterations hit\n",
      "maximum number of iterations hit\n",
      "maximum number of iterations hit\n",
      "maximum number of iterations hit\n",
      "maximum number of iterations hit\n",
      "maximum number of iterations hit\n"
     ]
    },
    {
     "name": "stderr",
     "output_type": "stream",
     "text": [
      " 25%|█████████████████████████████████████▊                                                                                                                 | 25/100 [00:00<00:01, 54.35it/s]"
     ]
    },
    {
     "name": "stdout",
     "output_type": "stream",
     "text": [
      "maximum number of iterations hit\n",
      "maximum number of iterations hit\n",
      "maximum number of iterations hit\n",
      "maximum number of iterations hit\n",
      "maximum number of iterations hit\n"
     ]
    },
    {
     "name": "stderr",
     "output_type": "stream",
     "text": [
      " 31%|██████████████████████████████████████████████▊                                                                                                        | 31/100 [00:00<00:01, 56.01it/s]"
     ]
    },
    {
     "name": "stdout",
     "output_type": "stream",
     "text": [
      "maximum number of iterations hit\n",
      "maximum number of iterations hit\n",
      "maximum number of iterations hit\n",
      "maximum number of iterations hit\n",
      "maximum number of iterations hit\n"
     ]
    },
    {
     "name": "stderr",
     "output_type": "stream",
     "text": [
      " 37%|███████████████████████████████████████████████████████▊                                                                                               | 37/100 [00:00<00:01, 50.39it/s]"
     ]
    },
    {
     "name": "stdout",
     "output_type": "stream",
     "text": [
      "maximum number of iterations hit\n",
      "maximum number of iterations hit\n",
      "maximum number of iterations hit\n",
      "maximum number of iterations hit\n"
     ]
    },
    {
     "name": "stderr",
     "output_type": "stream",
     "text": [
      " 43%|████████████████████████████████████████████████████████████████▉                                                                                      | 43/100 [00:00<00:01, 51.38it/s]"
     ]
    },
    {
     "name": "stdout",
     "output_type": "stream",
     "text": [
      "maximum number of iterations hit\n",
      "maximum number of iterations hit\n",
      "maximum number of iterations hit\n",
      "maximum number of iterations hit\n",
      "maximum number of iterations hit\n",
      "maximum number of iterations hit\n"
     ]
    },
    {
     "name": "stderr",
     "output_type": "stream",
     "text": [
      " 49%|█████████████████████████████████████████████████████████████████████████▉                                                                             | 49/100 [00:00<00:01, 49.75it/s]"
     ]
    },
    {
     "name": "stdout",
     "output_type": "stream",
     "text": [
      "maximum number of iterations hit\n",
      "maximum number of iterations hit\n",
      "maximum number of iterations hit\n",
      "maximum number of iterations hit\n",
      "maximum number of iterations hit\n",
      "maximum number of iterations hit\n",
      "maximum number of iterations hit\n",
      "maximum number of iterations hit\n",
      "maximum number of iterations hit\n"
     ]
    },
    {
     "name": "stderr",
     "output_type": "stream",
     "text": [
      " 54%|█████████████████████████████████████████████████████████████████████████████████▌                                                                     | 54/100 [00:01<00:00, 50.91it/s]\n"
     ]
    },
    {
     "name": "stdout",
     "output_type": "stream",
     "text": [
      "maximum number of iterations hit\n",
      "Calculating co-accessibility scores...\n",
      "Starting to process chromosomes : ['chr0' 'chr1' 'chr2' 'chr3' 'chr4' 'chr5' 'chr6' 'chr7' 'chr8' 'chr9']\n"
     ]
    },
    {
     "name": "stderr",
     "output_type": "stream",
     "text": [
      "100%|████████████████████████████████████████████████████████████████████████████████████████████████████████████████████████████████████████████████████████| 10/10 [00:00<00:00, 85.52it/s]\n"
     ]
    },
    {
     "name": "stdout",
     "output_type": "stream",
     "text": [
      "Finishing to process chromosomes : ['chr0' 'chr1' 'chr2' 'chr3' 'chr4' 'chr5' 'chr6' 'chr7' 'chr8' 'chr9']\n"
     ]
    },
    {
     "name": "stderr",
     "output_type": "stream",
     "text": [
      "100%|████████████████████████████████████████████████████████████████████████████████████████████████████████████████████████████████████████████████████████| 10/10 [00:00<00:00, 69.81it/s]"
     ]
    },
    {
     "name": "stdout",
     "output_type": "stream",
     "text": [
      "Averaging co-accessibility scores across windows...\n",
      "Done !\n"
     ]
    },
    {
     "name": "stderr",
     "output_type": "stream",
     "text": [
      "\n"
     ]
    }
   ],
   "source": [
    "final_score = an.sliding_graphical_lasso(\n",
    "    metacells,\n",
    "    window_size=distance_threshold,\n",
    "    unit_distance = 1000,\n",
    "    distance_constraint=distance_threshold/2,\n",
    "    n_samples=50,\n",
    "    n_samples_maxtry=100,\n",
    "    max_alpha_iteration=60\n",
    ")\n",
    "metacells.varp['atac_network'] = final_score"
   ]
  },
  {
   "cell_type": "markdown",
   "id": "aad0c904-effe-43a0-b504-d12089176550",
   "metadata": {},
   "source": [
    "### 3. B. Extract list of edges"
   ]
  },
  {
   "cell_type": "code",
   "execution_count": 16,
   "id": "0a26c332-5a1e-4b10-bf0b-3e6339dace60",
   "metadata": {
    "tags": []
   },
   "outputs": [
    {
     "data": {
      "text/html": [
       "<div>\n",
       "<style scoped>\n",
       "    .dataframe tbody tr th:only-of-type {\n",
       "        vertical-align: middle;\n",
       "    }\n",
       "\n",
       "    .dataframe tbody tr th {\n",
       "        vertical-align: top;\n",
       "    }\n",
       "\n",
       "    .dataframe thead th {\n",
       "        text-align: right;\n",
       "    }\n",
       "</style>\n",
       "<table border=\"1\" class=\"dataframe\">\n",
       "  <thead>\n",
       "    <tr style=\"text-align: right;\">\n",
       "      <th></th>\n",
       "      <th>Peak1</th>\n",
       "      <th>Peak2</th>\n",
       "      <th>score</th>\n",
       "    </tr>\n",
       "  </thead>\n",
       "  <tbody>\n",
       "    <tr>\n",
       "      <th>5180</th>\n",
       "      <td>chr2_280001_280051</td>\n",
       "      <td>chr2_282001_282051</td>\n",
       "      <td>0.007679</td>\n",
       "    </tr>\n",
       "    <tr>\n",
       "      <th>16496</th>\n",
       "      <td>chr8_280001_280051</td>\n",
       "      <td>chr8_282001_282051</td>\n",
       "      <td>0.007679</td>\n",
       "    </tr>\n",
       "    <tr>\n",
       "      <th>10838</th>\n",
       "      <td>chr5_280001_280051</td>\n",
       "      <td>chr5_282001_282051</td>\n",
       "      <td>0.007679</td>\n",
       "    </tr>\n",
       "    <tr>\n",
       "      <th>1408</th>\n",
       "      <td>chr0_280001_280051</td>\n",
       "      <td>chr0_282001_282051</td>\n",
       "      <td>0.007679</td>\n",
       "    </tr>\n",
       "    <tr>\n",
       "      <th>8952</th>\n",
       "      <td>chr4_280001_280051</td>\n",
       "      <td>chr4_282001_282051</td>\n",
       "      <td>0.007679</td>\n",
       "    </tr>\n",
       "    <tr>\n",
       "      <th>...</th>\n",
       "      <td>...</td>\n",
       "      <td>...</td>\n",
       "      <td>...</td>\n",
       "    </tr>\n",
       "    <tr>\n",
       "      <th>1316</th>\n",
       "      <td>chr0_254001_254051</td>\n",
       "      <td>chr0_264001_264051</td>\n",
       "      <td>-0.015913</td>\n",
       "    </tr>\n",
       "    <tr>\n",
       "      <th>12632</th>\n",
       "      <td>chr6_254001_254051</td>\n",
       "      <td>chr6_264001_264051</td>\n",
       "      <td>-0.015913</td>\n",
       "    </tr>\n",
       "    <tr>\n",
       "      <th>5088</th>\n",
       "      <td>chr2_254001_254051</td>\n",
       "      <td>chr2_264001_264051</td>\n",
       "      <td>-0.015913</td>\n",
       "    </tr>\n",
       "    <tr>\n",
       "      <th>6974</th>\n",
       "      <td>chr3_254001_254051</td>\n",
       "      <td>chr3_264001_264051</td>\n",
       "      <td>-0.015913</td>\n",
       "    </tr>\n",
       "    <tr>\n",
       "      <th>14518</th>\n",
       "      <td>chr7_254001_254051</td>\n",
       "      <td>chr7_264001_264051</td>\n",
       "      <td>-0.015913</td>\n",
       "    </tr>\n",
       "  </tbody>\n",
       "</table>\n",
       "<p>18860 rows × 3 columns</p>\n",
       "</div>"
      ],
      "text/plain": [
       "                    Peak1               Peak2     score\n",
       "5180   chr2_280001_280051  chr2_282001_282051  0.007679\n",
       "16496  chr8_280001_280051  chr8_282001_282051  0.007679\n",
       "10838  chr5_280001_280051  chr5_282001_282051  0.007679\n",
       "1408   chr0_280001_280051  chr0_282001_282051  0.007679\n",
       "8952   chr4_280001_280051  chr4_282001_282051  0.007679\n",
       "...                   ...                 ...       ...\n",
       "1316   chr0_254001_254051  chr0_264001_264051 -0.015913\n",
       "12632  chr6_254001_254051  chr6_264001_264051 -0.015913\n",
       "5088   chr2_254001_254051  chr2_264001_264051 -0.015913\n",
       "6974   chr3_254001_254051  chr3_264001_264051 -0.015913\n",
       "14518  chr7_254001_254051  chr7_264001_264051 -0.015913\n",
       "\n",
       "[18860 rows x 3 columns]"
      ]
     },
     "execution_count": 16,
     "metadata": {},
     "output_type": "execute_result"
    }
   ],
   "source": [
    "an.extract_atac_links(metacells)"
   ]
  },
  {
   "cell_type": "code",
   "execution_count": 17,
   "id": "3ed59a8d-4db9-463a-a99f-b7237601ff76",
   "metadata": {
    "tags": []
   },
   "outputs": [
    {
     "data": {
      "text/html": [
       "<div>\n",
       "<style scoped>\n",
       "    .dataframe tbody tr th:only-of-type {\n",
       "        vertical-align: middle;\n",
       "    }\n",
       "\n",
       "    .dataframe tbody tr th {\n",
       "        vertical-align: top;\n",
       "    }\n",
       "\n",
       "    .dataframe thead th {\n",
       "        text-align: right;\n",
       "    }\n",
       "</style>\n",
       "<table border=\"1\" class=\"dataframe\">\n",
       "  <thead>\n",
       "    <tr style=\"text-align: right;\">\n",
       "      <th></th>\n",
       "      <th>Peak1</th>\n",
       "      <th>Peak2</th>\n",
       "      <th>score</th>\n",
       "    </tr>\n",
       "  </thead>\n",
       "  <tbody>\n",
       "    <tr>\n",
       "      <th>9863</th>\n",
       "      <td>chr3_6001_6051</td>\n",
       "      <td>chr3_30001_30051</td>\n",
       "      <td>0.070242</td>\n",
       "    </tr>\n",
       "    <tr>\n",
       "      <th>16385</th>\n",
       "      <td>chr5_6001_6051</td>\n",
       "      <td>chr5_30001_30051</td>\n",
       "      <td>0.070242</td>\n",
       "    </tr>\n",
       "    <tr>\n",
       "      <th>22907</th>\n",
       "      <td>chr7_6001_6051</td>\n",
       "      <td>chr7_30001_30051</td>\n",
       "      <td>0.070242</td>\n",
       "    </tr>\n",
       "    <tr>\n",
       "      <th>26168</th>\n",
       "      <td>chr8_6001_6051</td>\n",
       "      <td>chr8_30001_30051</td>\n",
       "      <td>0.070242</td>\n",
       "    </tr>\n",
       "    <tr>\n",
       "      <th>13124</th>\n",
       "      <td>chr4_6001_6051</td>\n",
       "      <td>chr4_30001_30051</td>\n",
       "      <td>0.070242</td>\n",
       "    </tr>\n",
       "    <tr>\n",
       "      <th>...</th>\n",
       "      <td>...</td>\n",
       "      <td>...</td>\n",
       "      <td>...</td>\n",
       "    </tr>\n",
       "    <tr>\n",
       "      <th>27571</th>\n",
       "      <td>chr8_168001_168051</td>\n",
       "      <td>chr8_184001_184051</td>\n",
       "      <td>-0.030701</td>\n",
       "    </tr>\n",
       "    <tr>\n",
       "      <th>14527</th>\n",
       "      <td>chr4_168001_168051</td>\n",
       "      <td>chr4_184001_184051</td>\n",
       "      <td>-0.030701</td>\n",
       "    </tr>\n",
       "    <tr>\n",
       "      <th>30832</th>\n",
       "      <td>chr9_168001_168051</td>\n",
       "      <td>chr9_184001_184051</td>\n",
       "      <td>-0.030701</td>\n",
       "    </tr>\n",
       "    <tr>\n",
       "      <th>8005</th>\n",
       "      <td>chr2_168001_168051</td>\n",
       "      <td>chr2_184001_184051</td>\n",
       "      <td>-0.030701</td>\n",
       "    </tr>\n",
       "    <tr>\n",
       "      <th>1483</th>\n",
       "      <td>chr0_168001_168051</td>\n",
       "      <td>chr0_184001_184051</td>\n",
       "      <td>-0.030701</td>\n",
       "    </tr>\n",
       "  </tbody>\n",
       "</table>\n",
       "<p>32610 rows × 3 columns</p>\n",
       "</div>"
      ],
      "text/plain": [
       "                    Peak1               Peak2     score\n",
       "9863       chr3_6001_6051    chr3_30001_30051  0.070242\n",
       "16385      chr5_6001_6051    chr5_30001_30051  0.070242\n",
       "22907      chr7_6001_6051    chr7_30001_30051  0.070242\n",
       "26168      chr8_6001_6051    chr8_30001_30051  0.070242\n",
       "13124      chr4_6001_6051    chr4_30001_30051  0.070242\n",
       "...                   ...                 ...       ...\n",
       "27571  chr8_168001_168051  chr8_184001_184051 -0.030701\n",
       "14527  chr4_168001_168051  chr4_184001_184051 -0.030701\n",
       "30832  chr9_168001_168051  chr9_184001_184051 -0.030701\n",
       "8005   chr2_168001_168051  chr2_184001_184051 -0.030701\n",
       "1483   chr0_168001_168051  chr0_184001_184051 -0.030701\n",
       "\n",
       "[32610 rows x 3 columns]"
      ]
     },
     "execution_count": 17,
     "metadata": {},
     "output_type": "execute_result"
    }
   ],
   "source": [
    "an.extract_atac_links(atac)"
   ]
  },
  {
   "cell_type": "markdown",
   "id": "1c66dcfb-1a1d-4309-bf57-ee9b4ee1f3b4",
   "metadata": {},
   "source": [
    "### 4. Plot comparison between co-accessibility scores and covariance matrix used to generate the data"
   ]
  },
  {
   "cell_type": "code",
   "execution_count": 18,
   "id": "6b39291c-d812-4c2f-8754-f295f09a8a30",
   "metadata": {},
   "outputs": [
    {
     "name": "stdout",
     "output_type": "stream",
     "text": [
      "0.4475 0.215\n"
     ]
    },
    {
     "data": {
      "image/png": "[encoded data removed]",
      "text/plain": [
       "<Figure size 1000x1000 with 2 Axes>"
      ]
     },
     "metadata": {},
     "output_type": "display_data"
    }
   ],
   "source": [
    "def diag_block_mat_slicing(L):\n",
    "    shp = L[0].shape\n",
    "    N = len(L)\n",
    "    r = range(N)\n",
    "    out = np.zeros((N,shp[0],N,shp[1]),dtype=int)\n",
    "    out[r,:,r,:] = L\n",
    "    return out.reshape(np.asarray(shp)*N)\n",
    "\n",
    "corrected = final_score.toarray()[:200, :200]\n",
    "corrected = np.where(corrected <= 0, corrected, corrected)\n",
    "corrected = corrected - np.diag(corrected)*np.eye(len(cov))\n",
    "\n",
    "cov_ = cov - np.diag(cov)*np.eye(len(cov))\n",
    "\n",
    "fig, ax = plt.subplots(1, 2, figsize=(10,10))\n",
    "ax[0].imshow(corrected)\n",
    "ax[1].imshow(np.where(cov_<=0, cov_, cov_))\n",
    "\n",
    "\n",
    "print((cov_[:20,:20]>0).sum()/(400), (corrected[:20,:20]>0).sum()/(400), )"
   ]
  },
  {
   "cell_type": "code",
   "execution_count": 19,
   "id": "bacf88f0-3339-4aa8-b0a3-8aaac651c603",
   "metadata": {
    "scrolled": true
   },
   "outputs": [
    {
     "name": "stdout",
     "output_type": "stream",
     "text": [
      "0.53 0.01\n"
     ]
    },
    {
     "data": {
      "image/png": "[encoded data removed]",
      "text/plain": [
       "<Figure size 1000x1000 with 2 Axes>"
      ]
     },
     "metadata": {},
     "output_type": "display_data"
    }
   ],
   "source": [
    "corrected = final_score.toarray()[:200, :200]\n",
    "corrected = np.where(corrected <= 0, 0, 1)\n",
    "\n",
    "\n",
    "fig, ax = plt.subplots(1, 2, figsize=(10,10))\n",
    "ax[0].imshow(corrected)\n",
    "ax[1].imshow(np.where(cov<=0, 0, 1))\n",
    "\n",
    "print((cov[:10,:10]>0).sum()/(100), (corrected[10,10]>0).sum()/(100), )"
   ]
  }
 ],
 "metadata": {
  "kernelspec": {
   "display_name": "Python 3 (ipykernel)",
   "language": "python",
   "name": "python3"
  },
  "language_info": {
   "codemirror_mode": {
    "name": "ipython",
    "version": 3
   },
   "file_extension": ".py",
   "mimetype": "text/x-python",
   "name": "python",
   "nbconvert_exporter": "python",
   "pygments_lexer": "ipython3",
   "version": "3.11.5"
  }
 },
 "nbformat": 4,
 "nbformat_minor": 5
}
