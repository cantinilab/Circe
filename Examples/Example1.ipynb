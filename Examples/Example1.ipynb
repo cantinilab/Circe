{
 "cells": [
  {
   "cell_type": "code",
   "execution_count": null,
   "id": "4f0a488c-3d0c-481b-a63f-0d4e76f89c95",
   "metadata": {
    "scrolled": true,
    "tags": []
   },
   "outputs": [],
   "source": [
    "pip install git+https://github.com/r-trimbour/atacnet --force-reinstall --no-deps"
   ]
  },
  {
   "cell_type": "code",
   "execution_count": null,
   "id": "95b838aa-86b3-46df-af7a-6a37c13219c9",
   "metadata": {},
   "outputs": [],
   "source": [
    "pip install snapatac2"
   ]
  },
  {
   "cell_type": "code",
   "execution_count": null,
   "id": "94129491-8cb0-46fc-93f5-2d802f7d38a6",
   "metadata": {},
   "outputs": [],
   "source": [
    "pip install ipywidgets"
   ]
  },
  {
   "cell_type": "code",
   "execution_count": null,
   "id": "8532bf40-6a1c-4508-8e3c-e46ef65ee758",
   "metadata": {
    "tags": []
   },
   "outputs": [],
   "source": [
    "import warnings\n",
    "warnings.filterwarnings(\"ignore\", category=FutureWarning, message=r\".*Reordering categories will always return a new Categorical object.*\")\n",
    "warnings.filterwarnings(\"ignore\", category=FutureWarning, message=r\".*is_categorical_dtype is deprecated and will be removed in a future version.*\")"
   ]
  },
  {
   "cell_type": "code",
   "execution_count": null,
   "id": "18bcf460-6d87-487c-8433-7fa9f898970a",
   "metadata": {},
   "outputs": [],
   "source": [
    "import atacnet as an\n",
    "import scanpy as sc"
   ]
  },
  {
   "cell_type": "code",
   "execution_count": null,
   "id": "a1122fa9-1917-4899-beb6-ffa6d58b1d4d",
   "metadata": {},
   "outputs": [],
   "source": [
    "import numpy as np\n",
    "import pandas as pd\n",
    "import anndata as ad\n",
    "\n",
    "import scipy as sp\n",
    "from scipy import linalg\n",
    "from sklearn.datasets import make_sparse_spd_matrix\n",
    "import matplotlib.pyplot as plt"
   ]
  },
  {
   "cell_type": "code",
   "execution_count": null,
   "id": "d781f5ba-4f38-4fa2-b536-66e244734ad6",
   "metadata": {},
   "outputs": [],
   "source": [
    "sc.datasets.pbmc3k()"
   ]
  },
  {
   "cell_type": "markdown",
   "id": "b5b35075-2b58-4011-944d-316379912fe0",
   "metadata": {},
   "source": [
    "# Test with sparse covariance true matrix as GT"
   ]
  },
  {
   "cell_type": "markdown",
   "id": "3972a885-0c5c-4378-81c2-26b7cfdee1f6",
   "metadata": {
    "tags": []
   },
   "source": [
    "### 0. Create fake AnnData"
   ]
  },
  {
   "cell_type": "code",
   "execution_count": null,
   "id": "79295862-9df3-4fa4-a32c-0931c73c705f",
   "metadata": {},
   "outputs": [],
   "source": [
    "# Create fake single-cell atac-seq data\n",
    "nb_cells = 300\n",
    "nb_chr = 10\n",
    "nb_regions_per_chr = 200\n",
    "between_reg = 2000\n",
    "size_reg = 50\n",
    "\n",
    "counts = []\n",
    "for chr in range(nb_chr):\n",
    "    counts.append(pd.DataFrame(np.random.randint(0,100, size=(nb_cells, nb_regions_per_chr)),\n",
    "                        index=['Cell_'+j for j in map(str, range(nb_cells))],\n",
    "                        columns=['chr'+str(chr)+'_'+str(i)+'_'+str(i+size_reg) for i in range(1, nb_regions_per_chr*between_reg+1, between_reg)]))\n",
    "atac = ad.AnnData(pd.concat(counts, axis=1))"
   ]
  },
  {
   "cell_type": "code",
   "execution_count": null,
   "id": "f1707268-8d8f-49bb-ae0a-75c037392b22",
   "metadata": {},
   "outputs": [],
   "source": [
    "distance_threshold = 50000"
   ]
  },
  {
   "cell_type": "markdown",
   "id": "56bbfdba-4447-4778-b4d7-83be18c8923f",
   "metadata": {
    "tags": []
   },
   "source": [
    "### 1. Add region position in AnnData.obs"
   ]
  },
  {
   "cell_type": "code",
   "execution_count": null,
   "id": "2feb1282-0e2b-4e10-bb8b-8f448e4ca2a6",
   "metadata": {},
   "outputs": [],
   "source": [
    "an.add_region_infos(atac)"
   ]
  },
  {
   "cell_type": "markdown",
   "id": "d3ac14f6-fd5e-46cd-89fd-1b583802998c",
   "metadata": {
    "tags": []
   },
   "source": [
    "### 2. Replace random data with fake cov matrix"
   ]
  },
  {
   "cell_type": "code",
   "execution_count": null,
   "id": "fe157d99-c262-4009-8975-fe59f145ebc9",
   "metadata": {},
   "outputs": [],
   "source": [
    "n_samples, n_features = 300, nb_regions_per_chr\n",
    "\n",
    "prng = np.random.RandomState(0)\n",
    "prec = make_sparse_spd_matrix(\n",
    "    n_features, alpha=0.99, smallest_coef=0.4, largest_coef=0.7, random_state=prng\n",
    ")\n",
    "cov = linalg.inv(prec)\n",
    "\n",
    "#cov with only potential connections\n",
    "possible_co = sp.sparse.csr_matrix(an.atacnet.get_distances_regions(atac)<distance_threshold/2)[:cov.shape[0],:cov.shape[1]]\n",
    "possible_co = sp.sparse.coo_matrix(possible_co).toarray() + sp.sparse.coo_matrix(possible_co).toarray().T \n",
    "cov = np.eye(len(cov))*np.diag(cov) + possible_co*cov \n",
    "d = np.sqrt(np.diag(cov))\n",
    "cov /= d\n",
    "cov /= d[:, np.newaxis]\n",
    "prec *= d\n",
    "prec *= d[:, np.newaxis]\n",
    "X = prng.multivariate_normal(np.zeros(n_features), cov, size=n_samples)\n",
    "X -= X.mean(axis=0)\n",
    "X /= X.std(axis=0)\n",
    "\n",
    "X_ = np.concatenate([X]*nb_chr, axis=1)\n",
    "atac.X = np.abs(X_)\n",
    "atac.X = np.where(X_<0, 0, X_)"
   ]
  },
  {
   "cell_type": "markdown",
   "id": "ec6c2bcd-2549-43f1-bef3-f8fe6489d369",
   "metadata": {
    "tags": []
   },
   "source": [
    "### 2.A. Remove Null rows"
   ]
  },
  {
   "cell_type": "code",
   "execution_count": null,
   "id": "30d98f97-b3b5-4d21-ae8f-4de6c9797f29",
   "metadata": {
    "tags": []
   },
   "outputs": [],
   "source": [
    "sc.pp.filter_genes(atac, min_cells=1)\n",
    "atac"
   ]
  },
  {
   "cell_type": "markdown",
   "id": "6d5c7a34-66cc-4587-b8d5-e485dc975fd8",
   "metadata": {
    "tags": []
   },
   "source": [
    "### 2.B. Compute pseudocells"
   ]
  },
  {
   "cell_type": "code",
   "execution_count": null,
   "id": "2d8f7966-3f9c-4d73-bd67-5bef4fabd53f",
   "metadata": {
    "scrolled": true,
    "tags": []
   },
   "outputs": [],
   "source": [
    "# To come soon !"
   ]
  },
  {
   "cell_type": "markdown",
   "id": "23c4e2ef-c346-4c63-9efb-8e4bbeb95cb2",
   "metadata": {},
   "source": [
    "### 3 Calculate co-accessibility"
   ]
  },
  {
   "cell_type": "code",
   "execution_count": null,
   "id": "8f8a175a-da7d-4210-84f5-7273eef83b8c",
   "metadata": {},
   "outputs": [],
   "source": [
    "a = sp.sparse.coo_matrix([[1,-2],[0,0]])\n",
    "b = sp.sparse.coo_matrix([[1, 1,],[-1, 0]])"
   ]
  },
  {
   "cell_type": "code",
   "execution_count": null,
   "id": "601af6d9-08e0-4f5f-9b95-31ab567ff6f4",
   "metadata": {},
   "outputs": [],
   "source": [
    "sp.sparse.csr_matrix.multiply((sp.sparse.csr_matrix(a<0)).astype(int), (sp.sparse.csr_matrix(b)>0).astype(int)).todense()"
   ]
  },
  {
   "cell_type": "code",
   "execution_count": null,
   "id": "bbd2b4b4-a1d7-498e-be80-d804699a428e",
   "metadata": {},
   "outputs": [],
   "source": [
    "(b-a).data"
   ]
  },
  {
   "cell_type": "code",
   "execution_count": null,
   "id": "71334d76-24e9-44ad-8d56-187148c0c5e5",
   "metadata": {},
   "outputs": [],
   "source": [
    "a_ = set([i for i in zip(a.row, a.col)])\n",
    "b_ = set([i for i in zip(b.row, b.col)])"
   ]
  },
  {
   "cell_type": "code",
   "execution_count": null,
   "id": "441f9e68-1ec7-4561-8af0-0e2ab626c152",
   "metadata": {},
   "outputs": [],
   "source": [
    "sp.sparse.csr_matrix.divide(a,b)"
   ]
  },
  {
   "cell_type": "code",
   "execution_count": null,
   "id": "2472fdb7-cb70-4271-ad9d-ba1a6fcb9520",
   "metadata": {},
   "outputs": [],
   "source": [
    "a[(1,1),(1,1)]"
   ]
  },
  {
   "cell_type": "code",
   "execution_count": null,
   "id": "40aa455d-87a8-4b03-897f-b49fece5cd3f",
   "metadata": {},
   "outputs": [],
   "source": [
    "if (False - True):\n",
    "    print('ha')"
   ]
  },
  {
   "cell_type": "code",
   "execution_count": null,
   "id": "b0e0cb62-fab3-4d7f-bd0f-15ab43045b39",
   "metadata": {
    "scrolled": true,
    "tags": []
   },
   "outputs": [],
   "source": [
    "an.compute_atac_network(\n",
    "    atac, #metacells,\n",
    "    window_size=distance_threshold,\n",
    "    unit_distance = 1000,\n",
    "    distance_constraint=distance_threshold/2,\n",
    "    n_samples=50,\n",
    "    n_samples_maxtry=100,\n",
    "    max_alpha_iteration=60\n",
    ")"
   ]
  },
  {
   "cell_type": "markdown",
   "id": "69f7dc04-4e27-4b18-a368-8306078e6e46",
   "metadata": {},
   "source": [
    "*Can be stored externally using sliding_graphica_lasso*"
   ]
  },
  {
   "cell_type": "code",
   "execution_count": null,
   "id": "415223fa-1643-47cf-a1d8-bc8ae52578fd",
   "metadata": {},
   "outputs": [],
   "source": [
    "atac.X = sp.sparse.csr_matrix(atac.X)\n",
    "# atac.X = atac.X.toarray()"
   ]
  },
  {
   "cell_type": "code",
   "execution_count": null,
   "id": "1825591f-5177-4429-8791-54ef15537e66",
   "metadata": {
    "scrolled": true,
    "tags": []
   },
   "outputs": [],
   "source": [
    "final_score = an.sliding_graphical_lasso(\n",
    "    atac,\n",
    "    window_size=distance_threshold,\n",
    "    unit_distance = 1000,\n",
    "    distance_constraint=distance_threshold/2,\n",
    "    n_samples=50,\n",
    "    n_samples_maxtry=100,\n",
    "    max_alpha_iteration=500\n",
    ")\n",
    "atac.varp['atac_network'] = final_score"
   ]
  },
  {
   "cell_type": "markdown",
   "id": "aad0c904-effe-43a0-b504-d12089176550",
   "metadata": {},
   "source": [
    "### 3. B. Extract list of edges"
   ]
  },
  {
   "cell_type": "code",
   "execution_count": null,
   "id": "0a26c332-5a1e-4b10-bf0b-3e6339dace60",
   "metadata": {
    "scrolled": true,
    "tags": []
   },
   "outputs": [],
   "source": [
    "an.extract_atac_links(atac) #metacells)"
   ]
  },
  {
   "cell_type": "markdown",
   "id": "1c66dcfb-1a1d-4309-bf57-ee9b4ee1f3b4",
   "metadata": {},
   "source": [
    "### 4. Plot comparison between co-accessibility scores and covariance matrix used to generate the data"
   ]
  },
  {
   "cell_type": "code",
   "execution_count": null,
   "id": "6b39291c-d812-4c2f-8754-f295f09a8a30",
   "metadata": {},
   "outputs": [],
   "source": [
    "def diag_block_mat_slicing(L):\n",
    "    shp = L[0].shape\n",
    "    N = len(L)\n",
    "    r = range(N)\n",
    "    out = np.zeros((N,shp[0],N,shp[1]),dtype=int)\n",
    "    out[r,:,r,:] = L\n",
    "    return out.reshape(np.asarray(shp)*N)\n",
    "\n",
    "corrected = final_score.toarray()[:200, :200]\n",
    "corrected = np.where(corrected <= 0, corrected, corrected)\n",
    "corrected = corrected - np.diag(corrected)*np.eye(len(cov))\n",
    "\n",
    "cov_ = cov - np.diag(cov)*np.eye(len(cov))\n",
    "\n",
    "fig, ax = plt.subplots(1, 2, figsize=(10,10))\n",
    "ax[0].imshow(np.abs(corrected))\n",
    "ax[1].imshow(np.where(cov_<=0, cov_, cov_))\n",
    "\n",
    "\n",
    "print((corrected[:20,:20]>0).sum()/(400), (cov_[:20,:20]>0).sum()/(400),)"
   ]
  },
  {
   "cell_type": "code",
   "execution_count": null,
   "id": "bacf88f0-3339-4aa8-b0a3-8aaac651c603",
   "metadata": {},
   "outputs": [],
   "source": [
    "corrected = final_score.toarray()[:200, :200]\n",
    "corrected = np.where(corrected <= 0, 0, 1)\n",
    "\n",
    "\n",
    "fig, ax = plt.subplots(1, 2, figsize=(10,10))\n",
    "ax[0].imshow(corrected)\n",
    "ax[1].imshow(np.where(cov<=0, 0, 1))\n",
    "\n",
    "print((corrected[10,10]>0).sum()/(100), (cov[:10,:10]>0).sum()/(100))"
   ]
  },
  {
   "cell_type": "code",
   "execution_count": null,
   "id": "1e7d7a1a-63cc-49ab-bc86-916a48a45cdb",
   "metadata": {},
   "outputs": [],
   "source": [
    "df = pd.DataFrame([cov.flatten(), corrected.flatten()]).transpose()"
   ]
  },
  {
   "cell_type": "code",
   "execution_count": null,
   "id": "916aade2-0f29-4fda-b9a2-aa14aafda484",
   "metadata": {},
   "outputs": [],
   "source": [
    "final_score"
   ]
  },
  {
   "cell_type": "code",
   "execution_count": null,
   "id": "ec2c42e4-7d76-4c86-8578-2ae652c3ec1f",
   "metadata": {},
   "outputs": [],
   "source": []
  }
 ],
 "metadata": {
  "kernelspec": {
   "display_name": "Python 3 (ipykernel)",
   "language": "python",
   "name": "python3"
  },
  "language_info": {
   "codemirror_mode": {
    "name": "ipython",
    "version": 3
   },
   "file_extension": ".py",
   "mimetype": "text/x-python",
   "name": "python",
   "nbconvert_exporter": "python",
   "pygments_lexer": "ipython3",
   "version": "3.10.14"
  }
 },
 "nbformat": 4,
 "nbformat_minor": 5
}
