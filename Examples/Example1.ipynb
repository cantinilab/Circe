{
 "cells": [
  {
   "cell_type": "code",
   "execution_count": null,
   "id": "4f0a488c-3d0c-481b-a63f-0d4e76f89c95",
   "metadata": {
    "scrolled": true,
    "tags": []
   },
   "outputs": [],
   "source": [
    "pip install circe"
   ]
  },
  {
   "cell_type": "code",
   "execution_count": 31,
   "id": "667bfd5a-1289-48c9-8b28-6d764fd4b9f6",
   "metadata": {},
   "outputs": [
    {
     "name": "stdout",
     "output_type": "stream",
     "text": [
      "Processing /home/rtrimbou/circe/circe\n",
      "  Installing build dependencies ... \u001b[?25ldone\n",
      "\u001b[?25h  Getting requirements to build wheel ... \u001b[?25ldone\n",
      "\u001b[?25h  Preparing metadata (pyproject.toml) ... \u001b[?25ldone\n",
      "\u001b[?25hRequirement already satisfied: joblib<2.0.0,>=1.1.0 in /home/rtrimbou/miniconda3/envs/hummuspy/lib/python3.10/site-packages (from circe==0.1.6) (1.4.2)\n",
      "Requirement already satisfied: numpy<2.0.0,>=1.25.0 in /home/rtrimbou/miniconda3/envs/hummuspy/lib/python3.10/site-packages (from circe==0.1.6) (1.26.4)\n",
      "Requirement already satisfied: pandas<3.0.0,>=2.1.1 in /home/rtrimbou/miniconda3/envs/hummuspy/lib/python3.10/site-packages (from circe==0.1.6) (2.1.1)\n",
      "Requirement already satisfied: rich<11.0.0,>=10.12.0 in /home/rtrimbou/miniconda3/envs/hummuspy/lib/python3.10/site-packages (from circe==0.1.6) (10.16.2)\n",
      "Requirement already satisfied: scanpy<2.0.0,>=1.8.1 in /home/rtrimbou/miniconda3/envs/hummuspy/lib/python3.10/site-packages (from circe==0.1.6) (1.10.2)\n",
      "Requirement already satisfied: scikit-learn<2.0.0,>=1.3.1 in /home/rtrimbou/miniconda3/envs/hummuspy/lib/python3.10/site-packages (from circe==0.1.6) (1.5.0)\n",
      "Requirement already satisfied: python-dateutil>=2.8.2 in /home/rtrimbou/miniconda3/envs/hummuspy/lib/python3.10/site-packages (from pandas<3.0.0,>=2.1.1->circe==0.1.6) (2.9.0.post0)\n",
      "Requirement already satisfied: pytz>=2020.1 in /home/rtrimbou/miniconda3/envs/hummuspy/lib/python3.10/site-packages (from pandas<3.0.0,>=2.1.1->circe==0.1.6) (2024.1)\n",
      "Requirement already satisfied: tzdata>=2022.1 in /home/rtrimbou/miniconda3/envs/hummuspy/lib/python3.10/site-packages (from pandas<3.0.0,>=2.1.1->circe==0.1.6) (2024.1)\n",
      "Requirement already satisfied: colorama<0.5.0,>=0.4.0 in /home/rtrimbou/miniconda3/envs/hummuspy/lib/python3.10/site-packages (from rich<11.0.0,>=10.12.0->circe==0.1.6) (0.4.6)\n",
      "Requirement already satisfied: commonmark<0.10.0,>=0.9.0 in /home/rtrimbou/miniconda3/envs/hummuspy/lib/python3.10/site-packages (from rich<11.0.0,>=10.12.0->circe==0.1.6) (0.9.1)\n",
      "Requirement already satisfied: pygments<3.0.0,>=2.6.0 in /home/rtrimbou/miniconda3/envs/hummuspy/lib/python3.10/site-packages (from rich<11.0.0,>=10.12.0->circe==0.1.6) (2.18.0)\n",
      "Requirement already satisfied: anndata>=0.8 in /home/rtrimbou/miniconda3/envs/hummuspy/lib/python3.10/site-packages (from scanpy<2.0.0,>=1.8.1->circe==0.1.6) (0.10.8)\n",
      "Requirement already satisfied: h5py>=3.1 in /home/rtrimbou/miniconda3/envs/hummuspy/lib/python3.10/site-packages (from scanpy<2.0.0,>=1.8.1->circe==0.1.6) (3.11.0)\n",
      "Requirement already satisfied: legacy-api-wrap>=1.4 in /home/rtrimbou/miniconda3/envs/hummuspy/lib/python3.10/site-packages (from scanpy<2.0.0,>=1.8.1->circe==0.1.6) (1.4)\n",
      "Requirement already satisfied: matplotlib>=3.6 in /home/rtrimbou/miniconda3/envs/hummuspy/lib/python3.10/site-packages (from scanpy<2.0.0,>=1.8.1->circe==0.1.6) (3.9.0)\n",
      "Requirement already satisfied: natsort in /home/rtrimbou/miniconda3/envs/hummuspy/lib/python3.10/site-packages (from scanpy<2.0.0,>=1.8.1->circe==0.1.6) (8.4.0)\n",
      "Requirement already satisfied: networkx>=2.7 in /home/rtrimbou/miniconda3/envs/hummuspy/lib/python3.10/site-packages (from scanpy<2.0.0,>=1.8.1->circe==0.1.6) (3.3)\n",
      "Requirement already satisfied: numba>=0.56 in /home/rtrimbou/miniconda3/envs/hummuspy/lib/python3.10/site-packages (from scanpy<2.0.0,>=1.8.1->circe==0.1.6) (0.60.0)\n",
      "Requirement already satisfied: packaging>=21.3 in /home/rtrimbou/miniconda3/envs/hummuspy/lib/python3.10/site-packages (from scanpy<2.0.0,>=1.8.1->circe==0.1.6) (24.1)\n",
      "Requirement already satisfied: patsy in /home/rtrimbou/miniconda3/envs/hummuspy/lib/python3.10/site-packages (from scanpy<2.0.0,>=1.8.1->circe==0.1.6) (0.5.6)\n",
      "Requirement already satisfied: pynndescent>=0.5 in /home/rtrimbou/miniconda3/envs/hummuspy/lib/python3.10/site-packages (from scanpy<2.0.0,>=1.8.1->circe==0.1.6) (0.5.13)\n",
      "Requirement already satisfied: scipy>=1.8 in /home/rtrimbou/miniconda3/envs/hummuspy/lib/python3.10/site-packages (from scanpy<2.0.0,>=1.8.1->circe==0.1.6) (1.13.1)\n",
      "Requirement already satisfied: seaborn>=0.13 in /home/rtrimbou/miniconda3/envs/hummuspy/lib/python3.10/site-packages (from scanpy<2.0.0,>=1.8.1->circe==0.1.6) (0.13.2)\n",
      "Requirement already satisfied: session-info in /home/rtrimbou/miniconda3/envs/hummuspy/lib/python3.10/site-packages (from scanpy<2.0.0,>=1.8.1->circe==0.1.6) (1.0.0)\n",
      "Requirement already satisfied: statsmodels>=0.13 in /home/rtrimbou/miniconda3/envs/hummuspy/lib/python3.10/site-packages (from scanpy<2.0.0,>=1.8.1->circe==0.1.6) (0.14.2)\n",
      "Requirement already satisfied: tqdm in /home/rtrimbou/miniconda3/envs/hummuspy/lib/python3.10/site-packages (from scanpy<2.0.0,>=1.8.1->circe==0.1.6) (4.66.4)\n",
      "Requirement already satisfied: umap-learn!=0.5.0,>=0.5 in /home/rtrimbou/miniconda3/envs/hummuspy/lib/python3.10/site-packages (from scanpy<2.0.0,>=1.8.1->circe==0.1.6) (0.5.6)\n",
      "Requirement already satisfied: threadpoolctl>=3.1.0 in /home/rtrimbou/miniconda3/envs/hummuspy/lib/python3.10/site-packages (from scikit-learn<2.0.0,>=1.3.1->circe==0.1.6) (3.5.0)\n",
      "Requirement already satisfied: array-api-compat!=1.5,>1.4 in /home/rtrimbou/miniconda3/envs/hummuspy/lib/python3.10/site-packages (from anndata>=0.8->scanpy<2.0.0,>=1.8.1->circe==0.1.6) (1.7.1)\n",
      "Requirement already satisfied: exceptiongroup in /home/rtrimbou/miniconda3/envs/hummuspy/lib/python3.10/site-packages (from anndata>=0.8->scanpy<2.0.0,>=1.8.1->circe==0.1.6) (1.2.1)\n",
      "Requirement already satisfied: contourpy>=1.0.1 in /home/rtrimbou/miniconda3/envs/hummuspy/lib/python3.10/site-packages (from matplotlib>=3.6->scanpy<2.0.0,>=1.8.1->circe==0.1.6) (1.2.1)\n",
      "Requirement already satisfied: cycler>=0.10 in /home/rtrimbou/miniconda3/envs/hummuspy/lib/python3.10/site-packages (from matplotlib>=3.6->scanpy<2.0.0,>=1.8.1->circe==0.1.6) (0.12.1)\n",
      "Requirement already satisfied: fonttools>=4.22.0 in /home/rtrimbou/miniconda3/envs/hummuspy/lib/python3.10/site-packages (from matplotlib>=3.6->scanpy<2.0.0,>=1.8.1->circe==0.1.6) (4.53.0)\n",
      "Requirement already satisfied: kiwisolver>=1.3.1 in /home/rtrimbou/miniconda3/envs/hummuspy/lib/python3.10/site-packages (from matplotlib>=3.6->scanpy<2.0.0,>=1.8.1->circe==0.1.6) (1.4.5)\n",
      "Requirement already satisfied: pillow>=8 in /home/rtrimbou/miniconda3/envs/hummuspy/lib/python3.10/site-packages (from matplotlib>=3.6->scanpy<2.0.0,>=1.8.1->circe==0.1.6) (10.3.0)\n",
      "Requirement already satisfied: pyparsing>=2.3.1 in /home/rtrimbou/miniconda3/envs/hummuspy/lib/python3.10/site-packages (from matplotlib>=3.6->scanpy<2.0.0,>=1.8.1->circe==0.1.6) (3.1.2)\n",
      "Requirement already satisfied: llvmlite<0.44,>=0.43.0dev0 in /home/rtrimbou/miniconda3/envs/hummuspy/lib/python3.10/site-packages (from numba>=0.56->scanpy<2.0.0,>=1.8.1->circe==0.1.6) (0.43.0)\n",
      "Requirement already satisfied: six>=1.5 in /home/rtrimbou/miniconda3/envs/hummuspy/lib/python3.10/site-packages (from python-dateutil>=2.8.2->pandas<3.0.0,>=2.1.1->circe==0.1.6) (1.16.0)\n",
      "Requirement already satisfied: stdlib-list in /home/rtrimbou/miniconda3/envs/hummuspy/lib/python3.10/site-packages (from session-info->scanpy<2.0.0,>=1.8.1->circe==0.1.6) (0.10.0)\n",
      "Building wheels for collected packages: circe\n",
      "  Building wheel for circe (pyproject.toml) ... \u001b[?25ldone\n",
      "\u001b[?25h  Created wheel for circe: filename=circe-0.1.6-cp310-cp310-manylinux_2_35_x86_64.whl size=239710 sha256=27130009bfec4bb4427c3f71afe869a9b7177df033333e5101bbd7be69d225b0\n",
      "  Stored in directory: /tmp/pip-ephem-wheel-cache-hmthx02m/wheels/00/f4/bb/b1e7aa54ec6f138ef0b5c7db3d0adeba72c18ca844efc143dc\n",
      "Successfully built circe\n",
      "Installing collected packages: circe\n",
      "  Attempting uninstall: circe\n",
      "    Found existing installation: circe 0.1.6\n",
      "    Uninstalling circe-0.1.6:\n",
      "      Successfully uninstalled circe-0.1.6\n",
      "Successfully installed circe-0.1.6\n",
      "Note: you may need to restart the kernel to use updated packages.\n"
     ]
    }
   ],
   "source": [
    "\n",
    "pip install .."
   ]
  },
  {
   "cell_type": "code",
   "execution_count": null,
   "id": "95b838aa-86b3-46df-af7a-6a37c13219c9",
   "metadata": {},
   "outputs": [],
   "source": [
    "pip install snapatac2"
   ]
  },
  {
   "cell_type": "code",
   "execution_count": null,
   "id": "94129491-8cb0-46fc-93f5-2d802f7d38a6",
   "metadata": {},
   "outputs": [],
   "source": [
    "pip install ipywidgets"
   ]
  },
  {
   "cell_type": "code",
   "execution_count": 1,
   "id": "8532bf40-6a1c-4508-8e3c-e46ef65ee758",
   "metadata": {
    "tags": []
   },
   "outputs": [],
   "source": [
    "import warnings\n",
    "warnings.filterwarnings(\"ignore\", category=FutureWarning, message=r\".*Reordering categories will always return a new Categorical object.*\")\n",
    "warnings.filterwarnings(\"ignore\", category=FutureWarning, message=r\".*is_categorical_dtype is deprecated and will be removed in a future version.*\")"
   ]
  },
  {
   "cell_type": "code",
   "execution_count": 2,
   "id": "18bcf460-6d87-487c-8433-7fa9f898970a",
   "metadata": {},
   "outputs": [],
   "source": [
    "import circe as ci\n",
    "import circe.metacells as circe_metacells\n",
    "import circe.draw\n",
    "import scanpy as sc"
   ]
  },
  {
   "cell_type": "code",
   "execution_count": 3,
   "id": "a1122fa9-1917-4899-beb6-ffa6d58b1d4d",
   "metadata": {},
   "outputs": [],
   "source": [
    "import numpy as np\n",
    "import pandas as pd\n",
    "import anndata as ad\n",
    "\n",
    "import scipy as sp\n",
    "from scipy import linalg\n",
    "from sklearn.datasets import make_sparse_spd_matrix\n",
    "import matplotlib.pyplot as plt"
   ]
  },
  {
   "cell_type": "markdown",
   "id": "b5b35075-2b58-4011-944d-316379912fe0",
   "metadata": {},
   "source": [
    "# Test with sparse covariance true matrix as GT"
   ]
  },
  {
   "cell_type": "markdown",
   "id": "3972a885-0c5c-4378-81c2-26b7cfdee1f6",
   "metadata": {
    "tags": []
   },
   "source": [
    "### 0. Create fake AnnData"
   ]
  },
  {
   "cell_type": "code",
   "execution_count": 4,
   "id": "79295862-9df3-4fa4-a32c-0931c73c705f",
   "metadata": {},
   "outputs": [],
   "source": [
    "# Create fake single-cell atac-seq data\n",
    "nb_cells = 300\n",
    "nb_chr = 10\n",
    "nb_regions_per_chr = 200\n",
    "between_reg = 2000\n",
    "size_reg = 50\n",
    "\n",
    "counts = []\n",
    "for chr in range(nb_chr):\n",
    "    counts.append(pd.DataFrame(np.random.randint(0,100, size=(nb_cells, nb_regions_per_chr)),\n",
    "                        index=['Cell_'+j for j in map(str, range(nb_cells))],\n",
    "                        columns=['chr'+str(chr)+'_'+str(i)+'_'+str(i+size_reg) for i in range(1, nb_regions_per_chr*between_reg+1, between_reg)]))\n",
    "atac = ad.AnnData(pd.concat(counts, axis=1))"
   ]
  },
  {
   "cell_type": "code",
   "execution_count": 5,
   "id": "f1707268-8d8f-49bb-ae0a-75c037392b22",
   "metadata": {},
   "outputs": [],
   "source": [
    "distance_threshold = 50000"
   ]
  },
  {
   "cell_type": "markdown",
   "id": "56bbfdba-4447-4778-b4d7-83be18c8923f",
   "metadata": {
    "tags": []
   },
   "source": [
    "### 1. Add region position in AnnData.obs"
   ]
  },
  {
   "cell_type": "code",
   "execution_count": 6,
   "id": "2feb1282-0e2b-4e10-bb8b-8f448e4ca2a6",
   "metadata": {},
   "outputs": [],
   "source": [
    "atac = ci.add_region_infos(atac)"
   ]
  },
  {
   "cell_type": "markdown",
   "id": "d3ac14f6-fd5e-46cd-89fd-1b583802998c",
   "metadata": {
    "tags": []
   },
   "source": [
    "### 2. Replace random data with fake cov matrix"
   ]
  },
  {
   "cell_type": "code",
   "execution_count": 7,
   "id": "fe157d99-c262-4009-8975-fe59f145ebc9",
   "metadata": {},
   "outputs": [],
   "source": [
    "n_samples, n_features = 300, nb_regions_per_chr\n",
    "\n",
    "prng = np.random.RandomState(0)\n",
    "prec = make_sparse_spd_matrix(\n",
    "    n_features, alpha=0.99, smallest_coef=0.4, largest_coef=0.7, random_state=prng\n",
    ")\n",
    "cov = linalg.inv(prec)\n",
    "\n",
    "#cov with only potential connections\n",
    "possible_co = sp.sparse.csr_matrix(ci.circe.get_distances_regions(atac)<distance_threshold/2)[:cov.shape[0],:cov.shape[1]]\n",
    "possible_co = sp.sparse.coo_matrix(possible_co).toarray() + sp.sparse.coo_matrix(possible_co).toarray().T \n",
    "cov = np.eye(len(cov))*np.diag(cov) + possible_co*cov \n",
    "d = np.sqrt(np.diag(cov))\n",
    "cov /= d\n",
    "cov /= d[:, np.newaxis]\n",
    "prec *= d\n",
    "prec *= d[:, np.newaxis]\n",
    "X = prng.multivariate_normal(np.zeros(n_features), cov, size=n_samples)\n",
    "X -= X.mean(axis=0)\n",
    "X /= X.std(axis=0)\n",
    "\n",
    "X_ = np.concatenate([X]*nb_chr, axis=1)\n",
    "atac.X = np.abs(X_)\n",
    "atac.X = np.where(X_<0, 0, X_)"
   ]
  },
  {
   "cell_type": "markdown",
   "id": "ec6c2bcd-2549-43f1-bef3-f8fe6489d369",
   "metadata": {
    "tags": []
   },
   "source": [
    "### 2.A. Remove Null rows"
   ]
  },
  {
   "cell_type": "code",
   "execution_count": 8,
   "id": "30d98f97-b3b5-4d21-ae8f-4de6c9797f29",
   "metadata": {
    "tags": []
   },
   "outputs": [
    {
     "name": "stderr",
     "output_type": "stream",
     "text": [
      "/home/rtrimbou/miniconda3/envs/hummuspy/lib/python3.10/site-packages/scanpy/preprocessing/_simple.py:282: ImplicitModificationWarning: Trying to modify attribute `.var` of view, initializing view as actual.\n",
      "  adata.var[\"n_cells\"] = number\n"
     ]
    },
    {
     "data": {
      "text/plain": [
       "AnnData object with n_obs × n_vars = 300 × 2000\n",
       "    var: 'chromosome', 'start', 'end', 'n_cells'"
      ]
     },
     "execution_count": 8,
     "metadata": {},
     "output_type": "execute_result"
    }
   ],
   "source": [
    "sc.pp.filter_genes(atac, min_cells=1)\n",
    "atac"
   ]
  },
  {
   "cell_type": "markdown",
   "id": "6d5c7a34-66cc-4587-b8d5-e485dc975fd8",
   "metadata": {
    "tags": []
   },
   "source": [
    "### 2.B. Compute pseudocells"
   ]
  },
  {
   "cell_type": "code",
   "execution_count": 9,
   "id": "2d8f7966-3f9c-4d73-bd67-5bef4fabd53f",
   "metadata": {
    "scrolled": true,
    "tags": []
   },
   "outputs": [
    {
     "data": {
      "application/vnd.jupyter.widget-view+json": {
       "model_id": "0ed779ade381456dadf08b4d9e1f0bde",
       "version_major": 2,
       "version_minor": 0
      },
      "text/plain": [
       "Output()"
      ]
     },
     "metadata": {},
     "output_type": "display_data"
    },
    {
     "data": {
      "text/html": [
       "<pre style=\"white-space:pre;overflow-x:auto;line-height:normal;font-family:Menlo,'DejaVu Sans Mono',consolas,'Courier New',monospace\"></pre>\n"
      ],
      "text/plain": []
     },
     "metadata": {},
     "output_type": "display_data"
    },
    {
     "data": {
      "text/html": [
       "<pre style=\"white-space:pre;overflow-x:auto;line-height:normal;font-family:Menlo,'DejaVu Sans Mono',consolas,'Courier New',monospace\">\n",
       "</pre>\n"
      ],
      "text/plain": [
       "\n"
      ]
     },
     "metadata": {},
     "output_type": "display_data"
    }
   ],
   "source": [
    "metacells = circe_metacells.compute_metacells(atac)"
   ]
  },
  {
   "cell_type": "markdown",
   "id": "23c4e2ef-c346-4c63-9efb-8e4bbeb95cb2",
   "metadata": {},
   "source": [
    "### 3 Calculate co-accessibility"
   ]
  },
  {
   "cell_type": "code",
   "execution_count": 10,
   "id": "b0e0cb62-fab3-4d7f-bd0f-15ab43045b39",
   "metadata": {
    "scrolled": true,
    "tags": []
   },
   "outputs": [
    {
     "data": {
      "application/vnd.jupyter.widget-view+json": {
       "model_id": "a8b07a18e62f4696a5c3f039e600ec7a",
       "version_major": 2,
       "version_minor": 0
      },
      "text/plain": [
       "Output()"
      ]
     },
     "metadata": {},
     "output_type": "display_data"
    },
    {
     "data": {
      "text/html": [
       "<pre style=\"white-space:pre;overflow-x:auto;line-height:normal;font-family:Menlo,'DejaVu Sans Mono',consolas,'Courier New',monospace\"></pre>\n"
      ],
      "text/plain": []
     },
     "metadata": {},
     "output_type": "display_data"
    },
    {
     "data": {
      "text/html": [
       "<pre style=\"white-space:pre;overflow-x:auto;line-height:normal;font-family:Menlo,'DejaVu Sans Mono',consolas,'Courier New',monospace\">\n",
       "</pre>\n"
      ],
      "text/plain": [
       "\n"
      ]
     },
     "metadata": {},
     "output_type": "display_data"
    },
    {
     "data": {
      "application/vnd.jupyter.widget-view+json": {
       "model_id": "4a9a7563c40f4475aa289008cbc7243a",
       "version_major": 2,
       "version_minor": 0
      },
      "text/plain": [
       "Output()"
      ]
     },
     "metadata": {},
     "output_type": "display_data"
    },
    {
     "name": "stdout",
     "output_type": "stream",
     "text": [
      "Alpha coefficient calculated : 0.02528988006989373\n",
      "Starting to process chromosomes : ['chr0' 'chr1' 'chr2' 'chr3' 'chr4' 'chr5' 'chr6' 'chr7' 'chr8' 'chr9']\n"
     ]
    },
    {
     "data": {
      "text/html": [
       "<pre style=\"white-space:pre;overflow-x:auto;line-height:normal;font-family:Menlo,'DejaVu Sans Mono',consolas,'Courier New',monospace\"></pre>\n"
      ],
      "text/plain": []
     },
     "metadata": {},
     "output_type": "display_data"
    },
    {
     "data": {
      "text/html": [
       "<pre style=\"white-space:pre;overflow-x:auto;line-height:normal;font-family:Menlo,'DejaVu Sans Mono',consolas,'Courier New',monospace\">\n",
       "</pre>\n"
      ],
      "text/plain": [
       "\n"
      ]
     },
     "metadata": {},
     "output_type": "display_data"
    },
    {
     "data": {
      "application/vnd.jupyter.widget-view+json": {
       "model_id": "6c3779c520114a4ba00b0b52e517312a",
       "version_major": 2,
       "version_minor": 0
      },
      "text/plain": [
       "Output()"
      ]
     },
     "metadata": {},
     "output_type": "display_data"
    },
    {
     "name": "stdout",
     "output_type": "stream",
     "text": [
      "Finishing to process chromosomes : ['chr0' 'chr1' 'chr2' 'chr3' 'chr4' 'chr5' 'chr6' 'chr7' 'chr8' 'chr9']\n"
     ]
    },
    {
     "data": {
      "text/html": [
       "<pre style=\"white-space:pre;overflow-x:auto;line-height:normal;font-family:Menlo,'DejaVu Sans Mono',consolas,'Courier New',monospace\"></pre>\n"
      ],
      "text/plain": []
     },
     "metadata": {},
     "output_type": "display_data"
    },
    {
     "data": {
      "text/html": [
       "<pre style=\"white-space:pre;overflow-x:auto;line-height:normal;font-family:Menlo,'DejaVu Sans Mono',consolas,'Courier New',monospace\">\n",
       "</pre>\n"
      ],
      "text/plain": [
       "\n"
      ]
     },
     "metadata": {},
     "output_type": "display_data"
    },
    {
     "name": "stdout",
     "output_type": "stream",
     "text": [
      "50000 50000\n",
      "Averaging co-accessibility scores across windows...\n",
      "50000 50000\n",
      "95190\n",
      "69190\n",
      "[ 1.00000000e+00 -1.24392692e-02  9.93993313e-04 ... -7.77882879e-02\n",
      " -1.11110192e-03  2.00000000e+00]\n",
      "[ 1.00000000e+00 -1.24392692e-02  9.93993313e-04 ... -3.88941439e-02\n",
      " -5.55550961e-04  1.00000000e+00]\n",
      "Done !\n"
     ]
    }
   ],
   "source": [
    "ci.compute_atac_network(\n",
    "    atac, #metacells,\n",
    "    window_size=distance_threshold,\n",
    "    unit_distance = 1000,\n",
    "    distance_constraint=distance_threshold/2,\n",
    "    n_samples=50,\n",
    "    n_samples_maxtry=100,\n",
    "    max_alpha_iteration=60\n",
    ")"
   ]
  },
  {
   "cell_type": "markdown",
   "id": "69f7dc04-4e27-4b18-a368-8306078e6e46",
   "metadata": {},
   "source": [
    "*Can be stored externally using sliding_graphica_lasso*"
   ]
  },
  {
   "cell_type": "code",
   "execution_count": 11,
   "id": "415223fa-1643-47cf-a1d8-bc8ae52578fd",
   "metadata": {},
   "outputs": [],
   "source": [
    "atac.X = sp.sparse.csr_matrix(atac.X)\n",
    "# atac.X = atac.X.toarray()"
   ]
  },
  {
   "cell_type": "code",
   "execution_count": 12,
   "id": "1825591f-5177-4429-8791-54ef15537e66",
   "metadata": {
    "scrolled": true,
    "tags": []
   },
   "outputs": [
    {
     "data": {
      "application/vnd.jupyter.widget-view+json": {
       "model_id": "5e75704f60a44fc68c91ebf81eaa9118",
       "version_major": 2,
       "version_minor": 0
      },
      "text/plain": [
       "Output()"
      ]
     },
     "metadata": {},
     "output_type": "display_data"
    },
    {
     "data": {
      "text/html": [
       "<pre style=\"white-space:pre;overflow-x:auto;line-height:normal;font-family:Menlo,'DejaVu Sans Mono',consolas,'Courier New',monospace\"></pre>\n"
      ],
      "text/plain": []
     },
     "metadata": {},
     "output_type": "display_data"
    },
    {
     "data": {
      "text/html": [
       "<pre style=\"white-space:pre;overflow-x:auto;line-height:normal;font-family:Menlo,'DejaVu Sans Mono',consolas,'Courier New',monospace\">\n",
       "</pre>\n"
      ],
      "text/plain": [
       "\n"
      ]
     },
     "metadata": {},
     "output_type": "display_data"
    },
    {
     "data": {
      "application/vnd.jupyter.widget-view+json": {
       "model_id": "598b2f743b7a4a11a1c0eae9db0cb3ec",
       "version_major": 2,
       "version_minor": 0
      },
      "text/plain": [
       "Output()"
      ]
     },
     "metadata": {},
     "output_type": "display_data"
    },
    {
     "name": "stdout",
     "output_type": "stream",
     "text": [
      "Alpha coefficient calculated : 0.025271811863242673\n",
      "Starting to process chromosomes : ['chr0' 'chr1' 'chr2' 'chr3' 'chr4' 'chr5' 'chr6' 'chr7' 'chr8' 'chr9']\n"
     ]
    },
    {
     "data": {
      "text/html": [
       "<pre style=\"white-space:pre;overflow-x:auto;line-height:normal;font-family:Menlo,'DejaVu Sans Mono',consolas,'Courier New',monospace\"></pre>\n"
      ],
      "text/plain": []
     },
     "metadata": {},
     "output_type": "display_data"
    },
    {
     "data": {
      "text/html": [
       "<pre style=\"white-space:pre;overflow-x:auto;line-height:normal;font-family:Menlo,'DejaVu Sans Mono',consolas,'Courier New',monospace\">\n",
       "</pre>\n"
      ],
      "text/plain": [
       "\n"
      ]
     },
     "metadata": {},
     "output_type": "display_data"
    },
    {
     "data": {
      "application/vnd.jupyter.widget-view+json": {
       "model_id": "4e4f955672da4cfba8c768b52920e9d9",
       "version_major": 2,
       "version_minor": 0
      },
      "text/plain": [
       "Output()"
      ]
     },
     "metadata": {},
     "output_type": "display_data"
    },
    {
     "name": "stdout",
     "output_type": "stream",
     "text": [
      "Finishing to process chromosomes : ['chr0' 'chr1' 'chr2' 'chr3' 'chr4' 'chr5' 'chr6' 'chr7' 'chr8' 'chr9']\n"
     ]
    },
    {
     "data": {
      "text/html": [
       "<pre style=\"white-space:pre;overflow-x:auto;line-height:normal;font-family:Menlo,'DejaVu Sans Mono',consolas,'Courier New',monospace\"></pre>\n"
      ],
      "text/plain": []
     },
     "metadata": {},
     "output_type": "display_data"
    },
    {
     "data": {
      "text/html": [
       "<pre style=\"white-space:pre;overflow-x:auto;line-height:normal;font-family:Menlo,'DejaVu Sans Mono',consolas,'Courier New',monospace\">\n",
       "</pre>\n"
      ],
      "text/plain": [
       "\n"
      ]
     },
     "metadata": {},
     "output_type": "display_data"
    },
    {
     "name": "stdout",
     "output_type": "stream",
     "text": [
      "50000 50000\n",
      "Averaging co-accessibility scores across windows...\n",
      "50000 50000\n",
      "95190\n",
      "69190\n",
      "[ 1.00000000e+00 -1.24721775e-02  9.98813486e-04 ... -7.79365908e-02\n",
      " -1.11586689e-03  2.00000000e+00]\n",
      "[ 1.00000000e+00 -1.24721775e-02  9.98813486e-04 ... -3.89682954e-02\n",
      " -5.57933444e-04  1.00000000e+00]\n",
      "Done !\n"
     ]
    }
   ],
   "source": [
    "final_score = ci.sliding_graphical_lasso(\n",
    "    atac,\n",
    "    window_size=distance_threshold,\n",
    "    unit_distance = 1000,\n",
    "    distance_constraint=distance_threshold/2,\n",
    "    n_samples=50,\n",
    "    n_samples_maxtry=100,\n",
    "    max_alpha_iteration=500\n",
    ")\n",
    "atac.varp['atac_network'] = final_score"
   ]
  },
  {
   "cell_type": "markdown",
   "id": "aad0c904-effe-43a0-b504-d12089176550",
   "metadata": {},
   "source": [
    "### 3. B. Extract list of edges"
   ]
  },
  {
   "cell_type": "code",
   "execution_count": 13,
   "id": "0a26c332-5a1e-4b10-bf0b-3e6339dace60",
   "metadata": {
    "scrolled": true,
    "tags": []
   },
   "outputs": [
    {
     "data": {
      "text/html": [
       "<div>\n",
       "<style scoped>\n",
       "    .dataframe tbody tr th:only-of-type {\n",
       "        vertical-align: middle;\n",
       "    }\n",
       "\n",
       "    .dataframe tbody tr th {\n",
       "        vertical-align: top;\n",
       "    }\n",
       "\n",
       "    .dataframe thead th {\n",
       "        text-align: right;\n",
       "    }\n",
       "</style>\n",
       "<table border=\"1\" class=\"dataframe\">\n",
       "  <thead>\n",
       "    <tr style=\"text-align: right;\">\n",
       "      <th></th>\n",
       "      <th>Peak1</th>\n",
       "      <th>Peak2</th>\n",
       "      <th>score</th>\n",
       "    </tr>\n",
       "  </thead>\n",
       "  <tbody>\n",
       "    <tr>\n",
       "      <th>6499</th>\n",
       "      <td>chr2_214001_214051</td>\n",
       "      <td>chr2_228001_228051</td>\n",
       "      <td>0.211159</td>\n",
       "    </tr>\n",
       "    <tr>\n",
       "      <th>23992</th>\n",
       "      <td>chr9_214001_214051</td>\n",
       "      <td>chr9_228001_228051</td>\n",
       "      <td>0.211159</td>\n",
       "    </tr>\n",
       "    <tr>\n",
       "      <th>13996</th>\n",
       "      <td>chr5_214001_214051</td>\n",
       "      <td>chr5_228001_228051</td>\n",
       "      <td>0.211159</td>\n",
       "    </tr>\n",
       "    <tr>\n",
       "      <th>16495</th>\n",
       "      <td>chr6_214001_214051</td>\n",
       "      <td>chr6_228001_228051</td>\n",
       "      <td>0.211159</td>\n",
       "    </tr>\n",
       "    <tr>\n",
       "      <th>8998</th>\n",
       "      <td>chr3_214001_214051</td>\n",
       "      <td>chr3_228001_228051</td>\n",
       "      <td>0.211159</td>\n",
       "    </tr>\n",
       "    <tr>\n",
       "      <th>...</th>\n",
       "      <td>...</td>\n",
       "      <td>...</td>\n",
       "      <td>...</td>\n",
       "    </tr>\n",
       "    <tr>\n",
       "      <th>8302</th>\n",
       "      <td>chr3_102001_102051</td>\n",
       "      <td>chr3_104001_104051</td>\n",
       "      <td>-0.074203</td>\n",
       "    </tr>\n",
       "    <tr>\n",
       "      <th>5803</th>\n",
       "      <td>chr2_102001_102051</td>\n",
       "      <td>chr2_104001_104051</td>\n",
       "      <td>-0.074203</td>\n",
       "    </tr>\n",
       "    <tr>\n",
       "      <th>805</th>\n",
       "      <td>chr0_102001_102051</td>\n",
       "      <td>chr0_104001_104051</td>\n",
       "      <td>-0.074203</td>\n",
       "    </tr>\n",
       "    <tr>\n",
       "      <th>23296</th>\n",
       "      <td>chr9_102001_102051</td>\n",
       "      <td>chr9_104001_104051</td>\n",
       "      <td>-0.074203</td>\n",
       "    </tr>\n",
       "    <tr>\n",
       "      <th>3304</th>\n",
       "      <td>chr1_102001_102051</td>\n",
       "      <td>chr1_104001_104051</td>\n",
       "      <td>-0.074203</td>\n",
       "    </tr>\n",
       "  </tbody>\n",
       "</table>\n",
       "<p>24990 rows × 3 columns</p>\n",
       "</div>"
      ],
      "text/plain": [
       "                    Peak1               Peak2     score\n",
       "6499   chr2_214001_214051  chr2_228001_228051  0.211159\n",
       "23992  chr9_214001_214051  chr9_228001_228051  0.211159\n",
       "13996  chr5_214001_214051  chr5_228001_228051  0.211159\n",
       "16495  chr6_214001_214051  chr6_228001_228051  0.211159\n",
       "8998   chr3_214001_214051  chr3_228001_228051  0.211159\n",
       "...                   ...                 ...       ...\n",
       "8302   chr3_102001_102051  chr3_104001_104051 -0.074203\n",
       "5803   chr2_102001_102051  chr2_104001_104051 -0.074203\n",
       "805    chr0_102001_102051  chr0_104001_104051 -0.074203\n",
       "23296  chr9_102001_102051  chr9_104001_104051 -0.074203\n",
       "3304   chr1_102001_102051  chr1_104001_104051 -0.074203\n",
       "\n",
       "[24990 rows x 3 columns]"
      ]
     },
     "execution_count": 13,
     "metadata": {},
     "output_type": "execute_result"
    }
   ],
   "source": [
    "circe_network = ci.extract_atac_links(atac) #metacells)\n",
    "circe_network"
   ]
  },
  {
   "cell_type": "markdown",
   "id": "1c66dcfb-1a1d-4309-bf57-ee9b4ee1f3b4",
   "metadata": {},
   "source": [
    "### 4. Plot co-accessibility scores in a window"
   ]
  },
  {
   "cell_type": "code",
   "execution_count": 17,
   "id": "7e256844-e050-49fc-b811-191b0cf17561",
   "metadata": {},
   "outputs": [
    {
     "name": "stdout",
     "output_type": "stream",
     "text": [
      "0.19018547483172216\n"
     ]
    },
    {
     "data": {
      "image/png": "[encoded data removed]",
      "text/plain": [
       "<Figure size 2000x600 with 1 Axes>"
      ]
     },
     "metadata": {},
     "output_type": "display_data"
    }
   ],
   "source": [
    "circe.draw.plot_connections(\n",
    "    circe_network,\n",
    "    chromosome=\"chr1\",\n",
    "    start=10000,\n",
    "    end=60000,\n",
    "    sep=(\"_\",\"_\"),\n",
    "    abs_threshold=0.01\n",
    ")"
   ]
  },
  {
   "cell_type": "code",
   "execution_count": null,
   "id": "b5d5ae93-ef7e-47c5-9aa5-48271b0f6b31",
   "metadata": {},
   "outputs": [],
   "source": []
  }
 ],
 "metadata": {
  "kernelspec": {
   "display_name": "Python 3 (ipykernel)",
   "language": "python",
   "name": "python3"
  },
  "language_info": {
   "codemirror_mode": {
    "name": "ipython",
    "version": 3
   },
   "file_extension": ".py",
   "mimetype": "text/x-python",
   "name": "python",
   "nbconvert_exporter": "python",
   "pygments_lexer": "ipython3",
   "version": "3.10.0"
  }
 },
 "nbformat": 4,
 "nbformat_minor": 5
}
