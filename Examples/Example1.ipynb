{
 "cells": [
  {
   "cell_type": "code",
   "execution_count": 27,
   "id": "8b881bd5-3386-44c8-acf9-d88aa756b0ba",
   "metadata": {
    "collapsed": true,
    "jupyter": {
     "outputs_hidden": true
    },
    "scrolled": true,
    "tags": []
   },
   "outputs": [
    {
     "name": "stdout",
     "output_type": "stream",
     "text": [
      "Collecting atacnet\n",
      "  Using cached atacnet-0.1.0-cp311-cp311-manylinux_2_35_x86_64.whl\n",
      "Collecting joblib<2.0.0,>=1.1.0 (from atacnet)\n",
      "  Using cached joblib-1.3.2-py3-none-any.whl.metadata (5.4 kB)\n",
      "Collecting numpy<2.0.0,>=1.25.0 (from atacnet)\n",
      "  Using cached numpy-1.26.3-cp311-cp311-manylinux_2_17_x86_64.manylinux2014_x86_64.whl.metadata (61 kB)\n",
      "Collecting pandas<3.0.0,>=2.1.1 (from atacnet)\n",
      "  Using cached pandas-2.1.4-cp311-cp311-manylinux_2_17_x86_64.manylinux2014_x86_64.whl.metadata (18 kB)\n",
      "Collecting scanpy<2.0.0,>=1.8.1 (from atacnet)\n",
      "  Using cached scanpy-1.9.6-py3-none-any.whl.metadata (6.0 kB)\n",
      "Collecting scikit-learn<2.0.0,>=1.3.1 (from atacnet)\n",
      "  Using cached scikit_learn-1.3.2-cp311-cp311-manylinux_2_17_x86_64.manylinux2014_x86_64.whl.metadata (11 kB)\n",
      "Collecting tqdm<5.0.0,>=4.66.1 (from atacnet)\n",
      "  Using cached tqdm-4.66.1-py3-none-any.whl.metadata (57 kB)\n",
      "Collecting python-dateutil>=2.8.2 (from pandas<3.0.0,>=2.1.1->atacnet)\n",
      "  Using cached python_dateutil-2.8.2-py2.py3-none-any.whl (247 kB)\n",
      "Collecting pytz>=2020.1 (from pandas<3.0.0,>=2.1.1->atacnet)\n",
      "  Using cached pytz-2023.3.post1-py2.py3-none-any.whl.metadata (22 kB)\n",
      "Collecting tzdata>=2022.1 (from pandas<3.0.0,>=2.1.1->atacnet)\n",
      "  Using cached tzdata-2023.4-py2.py3-none-any.whl.metadata (1.4 kB)\n",
      "Collecting anndata>=0.7.4 (from scanpy<2.0.0,>=1.8.1->atacnet)\n",
      "  Using cached anndata-0.10.4-py3-none-any.whl.metadata (6.4 kB)\n",
      "Collecting h5py>=3 (from scanpy<2.0.0,>=1.8.1->atacnet)\n",
      "  Using cached h5py-3.10.0-cp311-cp311-manylinux_2_17_x86_64.manylinux2014_x86_64.whl.metadata (2.5 kB)\n",
      "Collecting matplotlib>=3.4 (from scanpy<2.0.0,>=1.8.1->atacnet)\n",
      "  Using cached matplotlib-3.8.2-cp311-cp311-manylinux_2_17_x86_64.manylinux2014_x86_64.whl.metadata (5.8 kB)\n",
      "Collecting natsort (from scanpy<2.0.0,>=1.8.1->atacnet)\n",
      "  Using cached natsort-8.4.0-py3-none-any.whl.metadata (21 kB)\n",
      "Collecting networkx>=2.3 (from scanpy<2.0.0,>=1.8.1->atacnet)\n",
      "  Using cached networkx-3.2.1-py3-none-any.whl.metadata (5.2 kB)\n",
      "Collecting numba>=0.41.0 (from scanpy<2.0.0,>=1.8.1->atacnet)\n",
      "  Using cached numba-0.58.1-cp311-cp311-manylinux2014_x86_64.manylinux_2_17_x86_64.whl.metadata (2.7 kB)\n",
      "Collecting packaging (from scanpy<2.0.0,>=1.8.1->atacnet)\n",
      "  Using cached packaging-23.2-py3-none-any.whl.metadata (3.2 kB)\n",
      "Collecting patsy (from scanpy<2.0.0,>=1.8.1->atacnet)\n",
      "  Using cached patsy-0.5.6-py2.py3-none-any.whl.metadata (3.5 kB)\n",
      "Collecting scipy>=1.4 (from scanpy<2.0.0,>=1.8.1->atacnet)\n",
      "  Using cached scipy-1.11.4-cp311-cp311-manylinux_2_17_x86_64.manylinux2014_x86_64.whl.metadata (60 kB)\n",
      "Collecting seaborn!=0.13.0 (from scanpy<2.0.0,>=1.8.1->atacnet)\n",
      "  Using cached seaborn-0.13.1-py3-none-any.whl.metadata (5.4 kB)\n",
      "Collecting session-info (from scanpy<2.0.0,>=1.8.1->atacnet)\n",
      "  Using cached session_info-1.0.0-py3-none-any.whl\n",
      "Collecting statsmodels>=0.10.0rc2 (from scanpy<2.0.0,>=1.8.1->atacnet)\n",
      "  Using cached statsmodels-0.14.1-cp311-cp311-manylinux_2_17_x86_64.manylinux2014_x86_64.whl.metadata (9.5 kB)\n",
      "Collecting umap-learn>=0.3.10 (from scanpy<2.0.0,>=1.8.1->atacnet)\n",
      "  Using cached umap_learn-0.5.5-py3-none-any.whl\n",
      "Collecting threadpoolctl>=2.0.0 (from scikit-learn<2.0.0,>=1.3.1->atacnet)\n",
      "  Using cached threadpoolctl-3.2.0-py3-none-any.whl.metadata (10.0 kB)\n",
      "Collecting array-api-compat (from anndata>=0.7.4->scanpy<2.0.0,>=1.8.1->atacnet)\n",
      "  Using cached array_api_compat-1.4-py3-none-any.whl.metadata (13 kB)\n",
      "Collecting contourpy>=1.0.1 (from matplotlib>=3.4->scanpy<2.0.0,>=1.8.1->atacnet)\n",
      "  Using cached contourpy-1.2.0-cp311-cp311-manylinux_2_17_x86_64.manylinux2014_x86_64.whl.metadata (5.8 kB)\n",
      "Collecting cycler>=0.10 (from matplotlib>=3.4->scanpy<2.0.0,>=1.8.1->atacnet)\n",
      "  Using cached cycler-0.12.1-py3-none-any.whl.metadata (3.8 kB)\n",
      "Collecting fonttools>=4.22.0 (from matplotlib>=3.4->scanpy<2.0.0,>=1.8.1->atacnet)\n",
      "  Using cached fonttools-4.47.2-cp311-cp311-manylinux_2_17_x86_64.manylinux2014_x86_64.whl.metadata (157 kB)\n",
      "Collecting kiwisolver>=1.3.1 (from matplotlib>=3.4->scanpy<2.0.0,>=1.8.1->atacnet)\n",
      "  Using cached kiwisolver-1.4.5-cp311-cp311-manylinux_2_17_x86_64.manylinux2014_x86_64.whl.metadata (6.4 kB)\n",
      "Collecting pillow>=8 (from matplotlib>=3.4->scanpy<2.0.0,>=1.8.1->atacnet)\n",
      "  Using cached pillow-10.2.0-cp311-cp311-manylinux_2_28_x86_64.whl.metadata (9.7 kB)\n",
      "Collecting pyparsing>=2.3.1 (from matplotlib>=3.4->scanpy<2.0.0,>=1.8.1->atacnet)\n",
      "  Using cached pyparsing-3.1.1-py3-none-any.whl.metadata (5.1 kB)\n",
      "Collecting llvmlite<0.42,>=0.41.0dev0 (from numba>=0.41.0->scanpy<2.0.0,>=1.8.1->atacnet)\n",
      "  Using cached llvmlite-0.41.1-cp311-cp311-manylinux_2_17_x86_64.manylinux2014_x86_64.whl.metadata (4.8 kB)\n",
      "Collecting six>=1.5 (from python-dateutil>=2.8.2->pandas<3.0.0,>=2.1.1->atacnet)\n",
      "  Using cached six-1.16.0-py2.py3-none-any.whl (11 kB)\n",
      "Collecting pynndescent>=0.5 (from umap-learn>=0.3.10->scanpy<2.0.0,>=1.8.1->atacnet)\n",
      "  Using cached pynndescent-0.5.11-py3-none-any.whl.metadata (6.8 kB)\n",
      "Collecting stdlib-list (from session-info->scanpy<2.0.0,>=1.8.1->atacnet)\n",
      "  Using cached stdlib_list-0.10.0-py3-none-any.whl.metadata (3.3 kB)\n",
      "Using cached joblib-1.3.2-py3-none-any.whl (302 kB)\n",
      "Using cached numpy-1.26.3-cp311-cp311-manylinux_2_17_x86_64.manylinux2014_x86_64.whl (18.3 MB)\n",
      "Using cached pandas-2.1.4-cp311-cp311-manylinux_2_17_x86_64.manylinux2014_x86_64.whl (12.2 MB)\n",
      "Using cached scanpy-1.9.6-py3-none-any.whl (2.0 MB)\n",
      "Using cached scikit_learn-1.3.2-cp311-cp311-manylinux_2_17_x86_64.manylinux2014_x86_64.whl (10.9 MB)\n",
      "Using cached tqdm-4.66.1-py3-none-any.whl (78 kB)\n",
      "Using cached anndata-0.10.4-py3-none-any.whl (119 kB)\n",
      "Using cached h5py-3.10.0-cp311-cp311-manylinux_2_17_x86_64.manylinux2014_x86_64.whl (4.8 MB)\n",
      "Using cached matplotlib-3.8.2-cp311-cp311-manylinux_2_17_x86_64.manylinux2014_x86_64.whl (11.6 MB)\n",
      "Using cached networkx-3.2.1-py3-none-any.whl (1.6 MB)\n",
      "Using cached numba-0.58.1-cp311-cp311-manylinux2014_x86_64.manylinux_2_17_x86_64.whl (3.6 MB)\n",
      "Using cached packaging-23.2-py3-none-any.whl (53 kB)\n",
      "Using cached pytz-2023.3.post1-py2.py3-none-any.whl (502 kB)\n",
      "Using cached scipy-1.11.4-cp311-cp311-manylinux_2_17_x86_64.manylinux2014_x86_64.whl (36.4 MB)\n",
      "Using cached seaborn-0.13.1-py3-none-any.whl (294 kB)\n",
      "Using cached statsmodels-0.14.1-cp311-cp311-manylinux_2_17_x86_64.manylinux2014_x86_64.whl (10.8 MB)\n",
      "Using cached patsy-0.5.6-py2.py3-none-any.whl (233 kB)\n",
      "Using cached threadpoolctl-3.2.0-py3-none-any.whl (15 kB)\n",
      "Using cached tzdata-2023.4-py2.py3-none-any.whl (346 kB)\n",
      "Using cached natsort-8.4.0-py3-none-any.whl (38 kB)\n",
      "Using cached contourpy-1.2.0-cp311-cp311-manylinux_2_17_x86_64.manylinux2014_x86_64.whl (313 kB)\n",
      "Using cached cycler-0.12.1-py3-none-any.whl (8.3 kB)\n",
      "Using cached fonttools-4.47.2-cp311-cp311-manylinux_2_17_x86_64.manylinux2014_x86_64.whl (4.9 MB)\n",
      "Using cached kiwisolver-1.4.5-cp311-cp311-manylinux_2_17_x86_64.manylinux2014_x86_64.whl (1.4 MB)\n",
      "Using cached llvmlite-0.41.1-cp311-cp311-manylinux_2_17_x86_64.manylinux2014_x86_64.whl (43.6 MB)\n",
      "Using cached pillow-10.2.0-cp311-cp311-manylinux_2_28_x86_64.whl (4.5 MB)\n",
      "Using cached pynndescent-0.5.11-py3-none-any.whl (55 kB)\n",
      "Using cached pyparsing-3.1.1-py3-none-any.whl (103 kB)\n",
      "Using cached array_api_compat-1.4-py3-none-any.whl (29 kB)\n",
      "Using cached stdlib_list-0.10.0-py3-none-any.whl (79 kB)\n",
      "Installing collected packages: pytz, tzdata, tqdm, threadpoolctl, stdlib-list, six, pyparsing, pillow, packaging, numpy, networkx, natsort, llvmlite, kiwisolver, joblib, fonttools, cycler, array-api-compat, session-info, scipy, python-dateutil, patsy, numba, h5py, contourpy, scikit-learn, pandas, matplotlib, statsmodels, seaborn, pynndescent, anndata, umap-learn, scanpy, atacnet\n",
      "Successfully installed anndata-0.10.4 array-api-compat-1.4 atacnet-0.1.0 contourpy-1.2.0 cycler-0.12.1 fonttools-4.47.2 h5py-3.10.0 joblib-1.3.2 kiwisolver-1.4.5 llvmlite-0.41.1 matplotlib-3.8.2 natsort-8.4.0 networkx-3.2.1 numba-0.58.1 numpy-1.26.3 packaging-23.1 pandas-2.1.4 patsy-0.5.6 pillow-10.2.0 pynndescent-0.5.11 pyparsing-3.1.1 python-dateutil-2.8.2 pytz-2023.3.post1 scanpy-1.9.6 scikit-learn-1.3.2 scipy-1.11.4 seaborn-0.13.1 session-info-1.0.0 six-1.16.0 statsmodels-0.14.1 stdlib-list-0.10.0 threadpoolctl-3.2.0 tqdm-4.66.1 tzdata-2023.4 umap-learn-0.5.5\n",
      "Note: you may need to restart the kernel to use updated packages.\n"
     ]
    }
   ],
   "source": [
    "pip install atacnet -I"
   ]
  },
  {
   "cell_type": "code",
   "execution_count": 126,
   "id": "8532bf40-6a1c-4508-8e3c-e46ef65ee758",
   "metadata": {
    "tags": []
   },
   "outputs": [],
   "source": [
    "import warnings\n",
    "warnings.filterwarnings(\"ignore\", category=FutureWarning, message=r\".*Reordering categories will always return a new Categorical object.*\")\n",
    "warnings.filterwarnings(\"ignore\", category=FutureWarning, message=r\".*is_categorical_dtype is deprecated and will be removed in a future version.*\")"
   ]
  },
  {
   "cell_type": "code",
   "execution_count": 127,
   "id": "18bcf460-6d87-487c-8433-7fa9f898970a",
   "metadata": {},
   "outputs": [],
   "source": [
    "import atacnet as an\n",
    "import atacnet.metacells\n",
    "import scanpy as sc"
   ]
  },
  {
   "cell_type": "code",
   "execution_count": 128,
   "id": "100e2e30-bfa4-4d24-b1d6-6913f6e19c49",
   "metadata": {
    "tags": []
   },
   "outputs": [
    {
     "data": {
      "text/plain": [
       "\u001b[0;31mSignature:\u001b[0m \u001b[0man\u001b[0m\u001b[0;34m.\u001b[0m\u001b[0madd_region_infos\u001b[0m\u001b[0;34m(\u001b[0m\u001b[0mAnnData\u001b[0m\u001b[0;34m,\u001b[0m \u001b[0msep\u001b[0m\u001b[0;34m=\u001b[0m\u001b[0;34m(\u001b[0m\u001b[0;34m'_'\u001b[0m\u001b[0;34m,\u001b[0m \u001b[0;34m'_'\u001b[0m\u001b[0;34m)\u001b[0m\u001b[0;34m,\u001b[0m \u001b[0minplace\u001b[0m\u001b[0;34m=\u001b[0m\u001b[0;32mTrue\u001b[0m\u001b[0;34m)\u001b[0m\u001b[0;34m\u001b[0m\u001b[0;34m\u001b[0m\u001b[0m\n",
       "\u001b[0;31mDocstring:\u001b[0m\n",
       "Get region informations from the var_names of AnnData object.\n",
       "e.g. chr1_12345_12346 -> 'chromosome' : chr1,\n",
       "                         'start' : 12345,\n",
       "                         'end' : 12346\n",
       "These info will be added to var of AnnData object.\n",
       "    adata.var['chromosome'] : chromosome\n",
       "    adata.var['start'] : start position\n",
       "    adata.var['end'] : end position\n",
       "\n",
       "Parameters\n",
       "----------\n",
       "AnnData : AnnData object\n",
       "    AnnData object with var_names as region names.\n",
       "sep : tuple, optional\n",
       "    Separator of region names. The default is ('_', '_').\n",
       "\n",
       "Returns\n",
       "-------\n",
       "AnnData : AnnData object\n",
       "    AnnData object with region informations in var.\n",
       "\u001b[0;31mFile:\u001b[0m      ~/miniconda3/envs/t3/lib/python3.11/site-packages/atacnet/atacnet.py\n",
       "\u001b[0;31mType:\u001b[0m      function"
      ]
     },
     "metadata": {},
     "output_type": "display_data"
    }
   ],
   "source": [
    "?an.add_region_infos"
   ]
  },
  {
   "cell_type": "code",
   "execution_count": 129,
   "id": "a1122fa9-1917-4899-beb6-ffa6d58b1d4d",
   "metadata": {},
   "outputs": [],
   "source": [
    "import numpy as np\n",
    "import pandas as pd\n",
    "import anndata as ad\n",
    "\n",
    "import scipy as sp\n",
    "from scipy import linalg\n",
    "from sklearn.datasets import make_sparse_spd_matrix\n",
    "import matplotlib.pyplot as plt"
   ]
  },
  {
   "cell_type": "markdown",
   "id": "b5b35075-2b58-4011-944d-316379912fe0",
   "metadata": {},
   "source": [
    "# Test with sparse covariance true matrix as GT"
   ]
  },
  {
   "cell_type": "markdown",
   "id": "3972a885-0c5c-4378-81c2-26b7cfdee1f6",
   "metadata": {
    "tags": []
   },
   "source": [
    "### 0. Create fake AnnData"
   ]
  },
  {
   "cell_type": "code",
   "execution_count": 130,
   "id": "79295862-9df3-4fa4-a32c-0931c73c705f",
   "metadata": {},
   "outputs": [],
   "source": [
    "# Create fake single-cell atac-seq data\n",
    "nb_cells = 300\n",
    "nb_chr = 10\n",
    "nb_regions_per_chr = 200\n",
    "between_reg = 2000\n",
    "size_reg = 50\n",
    "\n",
    "counts = []\n",
    "for chr in range(nb_chr):\n",
    "    counts.append(pd.DataFrame(np.random.randint(0,100, size=(nb_cells, nb_regions_per_chr)),\n",
    "                        index=['Cell_'+j for j in map(str, range(nb_cells))],\n",
    "                        columns=['chr'+str(chr)+'_'+str(i)+'_'+str(i+size_reg) for i in range(1, nb_regions_per_chr*between_reg+1, between_reg)]))\n",
    "atac = ad.AnnData(pd.concat(counts, axis=1))"
   ]
  },
  {
   "cell_type": "code",
   "execution_count": 131,
   "id": "f1707268-8d8f-49bb-ae0a-75c037392b22",
   "metadata": {},
   "outputs": [],
   "source": [
    "distance_threshold = 50000"
   ]
  },
  {
   "cell_type": "markdown",
   "id": "56bbfdba-4447-4778-b4d7-83be18c8923f",
   "metadata": {
    "tags": []
   },
   "source": [
    "### 1. Add region position in AnnData.obs"
   ]
  },
  {
   "cell_type": "code",
   "execution_count": 132,
   "id": "2feb1282-0e2b-4e10-bb8b-8f448e4ca2a6",
   "metadata": {},
   "outputs": [],
   "source": [
    "an.add_region_infos(atac)"
   ]
  },
  {
   "cell_type": "markdown",
   "id": "d3ac14f6-fd5e-46cd-89fd-1b583802998c",
   "metadata": {
    "tags": []
   },
   "source": [
    "### 2. Replace random data with fake cov matrix"
   ]
  },
  {
   "cell_type": "code",
   "execution_count": 133,
   "id": "fe157d99-c262-4009-8975-fe59f145ebc9",
   "metadata": {},
   "outputs": [],
   "source": [
    "n_samples, n_features = 300, nb_regions_per_chr\n",
    "\n",
    "prng = np.random.RandomState(0)\n",
    "prec = make_sparse_spd_matrix(\n",
    "    n_features, alpha=0.98, smallest_coef=0.4, largest_coef=0.7, random_state=prng\n",
    ")\n",
    "cov = linalg.inv(prec)\n",
    "\n",
    "#cov with only potential connections\n",
    "possible_co = sp.sparse.csr_matrix(an.atacnet.get_distances_regions(atac)<distance_threshold/2)[:cov.shape[0],:cov.shape[1]]\n",
    "possible_co = sp.sparse.coo_matrix(possible_co).toarray() + sp.sparse.coo_matrix(possible_co).toarray().T \n",
    "cov = np.eye(len(cov))*np.diag(cov) + possible_co*cov \n",
    "d = np.sqrt(np.diag(cov))\n",
    "cov /= d\n",
    "cov /= d[:, np.newaxis]\n",
    "prec *= d\n",
    "prec *= d[:, np.newaxis]\n",
    "X = prng.multivariate_normal(np.zeros(n_features), cov, size=n_samples)\n",
    "X -= X.mean(axis=0)\n",
    "X /= X.std(axis=0)\n",
    "\n",
    "X_ = np.concatenate([X]*nb_chr, axis=1)\n",
    "atac.X = np.abs(X_)\n",
    "atac.X = np.where(X_<0, 0, X_)"
   ]
  },
  {
   "cell_type": "markdown",
   "id": "ec6c2bcd-2549-43f1-bef3-f8fe6489d369",
   "metadata": {
    "tags": []
   },
   "source": [
    "### 2.A. Remove Null rows"
   ]
  },
  {
   "cell_type": "code",
   "execution_count": 134,
   "id": "30d98f97-b3b5-4d21-ae8f-4de6c9797f29",
   "metadata": {
    "tags": []
   },
   "outputs": [
    {
     "data": {
      "text/plain": [
       "AnnData object with n_obs × n_vars = 300 × 2000\n",
       "    var: 'chromosome', 'start', 'end', 'n_cells'"
      ]
     },
     "execution_count": 134,
     "metadata": {},
     "output_type": "execute_result"
    }
   ],
   "source": [
    "sc.pp.filter_genes(atac, min_cells=1)\n",
    "atac"
   ]
  },
  {
   "cell_type": "markdown",
   "id": "6d5c7a34-66cc-4587-b8d5-e485dc975fd8",
   "metadata": {
    "tags": []
   },
   "source": [
    "### 2.B. Compute pseudocells"
   ]
  },
  {
   "cell_type": "code",
   "execution_count": 135,
   "id": "2d8f7966-3f9c-4d73-bd67-5bef4fabd53f",
   "metadata": {
    "tags": []
   },
   "outputs": [
    {
     "data": {
      "application/vnd.jupyter.widget-view+json": {
       "model_id": "ae8d702fc006405a8295462ac7cc89e8",
       "version_major": 2,
       "version_minor": 0
      },
      "text/plain": [
       "Output()"
      ]
     },
     "metadata": {},
     "output_type": "display_data"
    },
    {
     "data": {
      "text/html": [
       "<pre style=\"white-space:pre;overflow-x:auto;line-height:normal;font-family:Menlo,'DejaVu Sans Mono',consolas,'Courier New',monospace\"></pre>\n"
      ],
      "text/plain": []
     },
     "metadata": {},
     "output_type": "display_data"
    },
    {
     "data": {
      "text/html": [
       "<pre style=\"white-space:pre;overflow-x:auto;line-height:normal;font-family:Menlo,'DejaVu Sans Mono',consolas,'Courier New',monospace\">\n",
       "</pre>\n"
      ],
      "text/plain": [
       "\n"
      ]
     },
     "metadata": {},
     "output_type": "display_data"
    }
   ],
   "source": [
    "metacells = an.metacells.compute_metacells(atac)\n",
    "an.add_region_infos(metacells)"
   ]
  },
  {
   "cell_type": "markdown",
   "id": "23c4e2ef-c346-4c63-9efb-8e4bbeb95cb2",
   "metadata": {},
   "source": [
    "### 3 Calculate co-accessibility"
   ]
  },
  {
   "cell_type": "code",
   "execution_count": 136,
   "id": "b0e0cb62-fab3-4d7f-bd0f-15ab43045b39",
   "metadata": {
    "tags": []
   },
   "outputs": [
    {
     "data": {
      "application/vnd.jupyter.widget-view+json": {
       "model_id": "14c14b2db1f6490e9455ad41943e421f",
       "version_major": 2,
       "version_minor": 0
      },
      "text/plain": [
       "Output()"
      ]
     },
     "metadata": {},
     "output_type": "display_data"
    },
    {
     "data": {
      "text/html": [
       "<pre style=\"white-space:pre;overflow-x:auto;line-height:normal;font-family:Menlo,'DejaVu Sans Mono',consolas,'Courier New',monospace\"></pre>\n"
      ],
      "text/plain": []
     },
     "metadata": {},
     "output_type": "display_data"
    },
    {
     "data": {
      "text/html": [
       "<pre style=\"white-space:pre;overflow-x:auto;line-height:normal;font-family:Menlo,'DejaVu Sans Mono',consolas,'Courier New',monospace\">\n",
       "</pre>\n"
      ],
      "text/plain": [
       "\n"
      ]
     },
     "metadata": {},
     "output_type": "display_data"
    },
    {
     "data": {
      "application/vnd.jupyter.widget-view+json": {
       "model_id": "b4de203bba78417d9684fb081b14564b",
       "version_major": 2,
       "version_minor": 0
      },
      "text/plain": [
       "Output()"
      ]
     },
     "metadata": {},
     "output_type": "display_data"
    },
    {
     "name": "stdout",
     "output_type": "stream",
     "text": [
      "Starting to process chromosomes : ['chr0' 'chr1' 'chr2' 'chr3' 'chr4' 'chr5' 'chr6' 'chr7' 'chr8' 'chr9']\n"
     ]
    },
    {
     "data": {
      "text/html": [
       "<pre style=\"white-space:pre;overflow-x:auto;line-height:normal;font-family:Menlo,'DejaVu Sans Mono',consolas,'Courier New',monospace\"></pre>\n"
      ],
      "text/plain": []
     },
     "metadata": {},
     "output_type": "display_data"
    },
    {
     "data": {
      "text/html": [
       "<pre style=\"white-space:pre;overflow-x:auto;line-height:normal;font-family:Menlo,'DejaVu Sans Mono',consolas,'Courier New',monospace\">\n",
       "</pre>\n"
      ],
      "text/plain": [
       "\n"
      ]
     },
     "metadata": {},
     "output_type": "display_data"
    },
    {
     "data": {
      "application/vnd.jupyter.widget-view+json": {
       "model_id": "128cf1b2319e4d45a8c57561069d914e",
       "version_major": 2,
       "version_minor": 0
      },
      "text/plain": [
       "Output()"
      ]
     },
     "metadata": {},
     "output_type": "display_data"
    },
    {
     "name": "stdout",
     "output_type": "stream",
     "text": [
      "Finishing to process chromosomes : ['chr0' 'chr1' 'chr2' 'chr3' 'chr4' 'chr5' 'chr6' 'chr7' 'chr8' 'chr9']\n"
     ]
    },
    {
     "data": {
      "text/html": [
       "<pre style=\"white-space:pre;overflow-x:auto;line-height:normal;font-family:Menlo,'DejaVu Sans Mono',consolas,'Courier New',monospace\"></pre>\n"
      ],
      "text/plain": []
     },
     "metadata": {},
     "output_type": "display_data"
    },
    {
     "data": {
      "text/html": [
       "<pre style=\"white-space:pre;overflow-x:auto;line-height:normal;font-family:Menlo,'DejaVu Sans Mono',consolas,'Courier New',monospace\">\n",
       "</pre>\n"
      ],
      "text/plain": [
       "\n"
      ]
     },
     "metadata": {},
     "output_type": "display_data"
    },
    {
     "name": "stdout",
     "output_type": "stream",
     "text": [
      "Averaging co-accessibility scores across windows...\n",
      "Done !\n"
     ]
    }
   ],
   "source": [
    "an.compute_atac_network(\n",
    "    metacells,\n",
    "    window_size=distance_threshold,\n",
    "    unit_distance = 1000,\n",
    "    distance_constraint=distance_threshold/2,\n",
    "    n_samples=50,\n",
    "    n_samples_maxtry=100,\n",
    "    max_alpha_iteration=60\n",
    ")"
   ]
  },
  {
   "cell_type": "markdown",
   "id": "69f7dc04-4e27-4b18-a368-8306078e6e46",
   "metadata": {},
   "source": [
    "*Can be stored externally using sliding_graphica_lasso*"
   ]
  },
  {
   "cell_type": "code",
   "execution_count": 137,
   "id": "415223fa-1643-47cf-a1d8-bc8ae52578fd",
   "metadata": {},
   "outputs": [],
   "source": [
    "atac.X = sp.sparse.csr_matrix(atac.X)\n",
    "# atac.X = atac.X.toarray()"
   ]
  },
  {
   "cell_type": "code",
   "execution_count": 138,
   "id": "6fb559dc-8754-4e08-a9d0-86f141531d0e",
   "metadata": {},
   "outputs": [
    {
     "data": {
      "application/vnd.jupyter.widget-view+json": {
       "model_id": "221504a2c7a74252a30800c10120029a",
       "version_major": 2,
       "version_minor": 0
      },
      "text/plain": [
       "Output()"
      ]
     },
     "metadata": {},
     "output_type": "display_data"
    },
    {
     "data": {
      "text/html": [
       "<pre style=\"white-space:pre;overflow-x:auto;line-height:normal;font-family:Menlo,'DejaVu Sans Mono',consolas,'Courier New',monospace\"></pre>\n"
      ],
      "text/plain": []
     },
     "metadata": {},
     "output_type": "display_data"
    },
    {
     "data": {
      "text/html": [
       "<pre style=\"white-space:pre;overflow-x:auto;line-height:normal;font-family:Menlo,'DejaVu Sans Mono',consolas,'Courier New',monospace\">\n",
       "</pre>\n"
      ],
      "text/plain": [
       "\n"
      ]
     },
     "metadata": {},
     "output_type": "display_data"
    },
    {
     "data": {
      "text/plain": [
       "0.04206783287587425"
      ]
     },
     "execution_count": 138,
     "metadata": {},
     "output_type": "execute_result"
    }
   ],
   "source": [
    "an.atacnet.average_alpha(\n",
    "    atac,\n",
    "    window_size=distance_threshold,\n",
    "    unit_distance = 1000,\n",
    "    distance_constraint=distance_threshold/2,\n",
    "    n_samples=50,\n",
    "    n_samples_maxtry=100,\n",
    "    max_alpha_iteration=60)"
   ]
  },
  {
   "cell_type": "code",
   "execution_count": 139,
   "id": "1825591f-5177-4429-8791-54ef15537e66",
   "metadata": {
    "scrolled": true,
    "tags": []
   },
   "outputs": [
    {
     "data": {
      "application/vnd.jupyter.widget-view+json": {
       "model_id": "1a39cf96e92d4750ae71b3f7b8f5425c",
       "version_major": 2,
       "version_minor": 0
      },
      "text/plain": [
       "Output()"
      ]
     },
     "metadata": {},
     "output_type": "display_data"
    },
    {
     "data": {
      "text/html": [
       "<pre style=\"white-space:pre;overflow-x:auto;line-height:normal;font-family:Menlo,'DejaVu Sans Mono',consolas,'Courier New',monospace\"></pre>\n"
      ],
      "text/plain": []
     },
     "metadata": {},
     "output_type": "display_data"
    },
    {
     "data": {
      "text/html": [
       "<pre style=\"white-space:pre;overflow-x:auto;line-height:normal;font-family:Menlo,'DejaVu Sans Mono',consolas,'Courier New',monospace\">\n",
       "</pre>\n"
      ],
      "text/plain": [
       "\n"
      ]
     },
     "metadata": {},
     "output_type": "display_data"
    },
    {
     "data": {
      "application/vnd.jupyter.widget-view+json": {
       "model_id": "4bf744c98b49429090340008b2b6e4d8",
       "version_major": 2,
       "version_minor": 0
      },
      "text/plain": [
       "Output()"
      ]
     },
     "metadata": {},
     "output_type": "display_data"
    },
    {
     "name": "stdout",
     "output_type": "stream",
     "text": [
      "Starting to process chromosomes : ['chr0' 'chr1' 'chr2' 'chr3' 'chr4' 'chr5' 'chr6' 'chr7' 'chr8' 'chr9']\n"
     ]
    },
    {
     "data": {
      "text/html": [
       "<pre style=\"white-space:pre;overflow-x:auto;line-height:normal;font-family:Menlo,'DejaVu Sans Mono',consolas,'Courier New',monospace\"></pre>\n"
      ],
      "text/plain": []
     },
     "metadata": {},
     "output_type": "display_data"
    },
    {
     "data": {
      "text/html": [
       "<pre style=\"white-space:pre;overflow-x:auto;line-height:normal;font-family:Menlo,'DejaVu Sans Mono',consolas,'Courier New',monospace\">\n",
       "</pre>\n"
      ],
      "text/plain": [
       "\n"
      ]
     },
     "metadata": {},
     "output_type": "display_data"
    },
    {
     "data": {
      "application/vnd.jupyter.widget-view+json": {
       "model_id": "f0110003797d46de8c8bfa2ce372b2c0",
       "version_major": 2,
       "version_minor": 0
      },
      "text/plain": [
       "Output()"
      ]
     },
     "metadata": {},
     "output_type": "display_data"
    },
    {
     "name": "stdout",
     "output_type": "stream",
     "text": [
      "Finishing to process chromosomes : ['chr0' 'chr1' 'chr2' 'chr3' 'chr4' 'chr5' 'chr6' 'chr7' 'chr8' 'chr9']\n"
     ]
    },
    {
     "data": {
      "text/html": [
       "<pre style=\"white-space:pre;overflow-x:auto;line-height:normal;font-family:Menlo,'DejaVu Sans Mono',consolas,'Courier New',monospace\"></pre>\n"
      ],
      "text/plain": []
     },
     "metadata": {},
     "output_type": "display_data"
    },
    {
     "data": {
      "text/html": [
       "<pre style=\"white-space:pre;overflow-x:auto;line-height:normal;font-family:Menlo,'DejaVu Sans Mono',consolas,'Courier New',monospace\">\n",
       "</pre>\n"
      ],
      "text/plain": [
       "\n"
      ]
     },
     "metadata": {},
     "output_type": "display_data"
    },
    {
     "name": "stdout",
     "output_type": "stream",
     "text": [
      "Averaging co-accessibility scores across windows...\n",
      "Done !\n"
     ]
    }
   ],
   "source": [
    "final_score = an.sliding_graphical_lasso(\n",
    "    atac,\n",
    "    window_size=distance_threshold,\n",
    "    unit_distance = 1000,\n",
    "    distance_constraint=distance_threshold/2,\n",
    "    n_samples=50,\n",
    "    n_samples_maxtry=100,\n",
    "    max_alpha_iteration=60\n",
    ")\n",
    "atac.varp['atac_network'] = final_score"
   ]
  },
  {
   "cell_type": "markdown",
   "id": "aad0c904-effe-43a0-b504-d12089176550",
   "metadata": {},
   "source": [
    "### 3. B. Extract list of edges"
   ]
  },
  {
   "cell_type": "code",
   "execution_count": 168,
   "id": "0a26c332-5a1e-4b10-bf0b-3e6339dace60",
   "metadata": {
    "scrolled": true,
    "tags": []
   },
   "outputs": [
    {
     "data": {
      "text/html": [
       "<div>\n",
       "<style scoped>\n",
       "    .dataframe tbody tr th:only-of-type {\n",
       "        vertical-align: middle;\n",
       "    }\n",
       "\n",
       "    .dataframe tbody tr th {\n",
       "        vertical-align: top;\n",
       "    }\n",
       "\n",
       "    .dataframe thead th {\n",
       "        text-align: right;\n",
       "    }\n",
       "</style>\n",
       "<table border=\"1\" class=\"dataframe\">\n",
       "  <thead>\n",
       "    <tr style=\"text-align: right;\">\n",
       "      <th></th>\n",
       "      <th>Peak1</th>\n",
       "      <th>Peak2</th>\n",
       "      <th>score</th>\n",
       "    </tr>\n",
       "  </thead>\n",
       "  <tbody>\n",
       "    <tr>\n",
       "      <th>4274</th>\n",
       "      <td>chr2_74001_74051</td>\n",
       "      <td>chr2_82001_82051</td>\n",
       "      <td>0.016845</td>\n",
       "    </tr>\n",
       "    <tr>\n",
       "      <th>15842</th>\n",
       "      <td>chr8_74001_74051</td>\n",
       "      <td>chr8_82001_82051</td>\n",
       "      <td>0.016845</td>\n",
       "    </tr>\n",
       "    <tr>\n",
       "      <th>10058</th>\n",
       "      <td>chr5_74001_74051</td>\n",
       "      <td>chr5_82001_82051</td>\n",
       "      <td>0.016845</td>\n",
       "    </tr>\n",
       "    <tr>\n",
       "      <th>13914</th>\n",
       "      <td>chr7_74001_74051</td>\n",
       "      <td>chr7_82001_82051</td>\n",
       "      <td>0.016845</td>\n",
       "    </tr>\n",
       "    <tr>\n",
       "      <th>2346</th>\n",
       "      <td>chr1_74001_74051</td>\n",
       "      <td>chr1_82001_82051</td>\n",
       "      <td>0.016845</td>\n",
       "    </tr>\n",
       "    <tr>\n",
       "      <th>...</th>\n",
       "      <td>...</td>\n",
       "      <td>...</td>\n",
       "      <td>...</td>\n",
       "    </tr>\n",
       "    <tr>\n",
       "      <th>11291</th>\n",
       "      <td>chr5_334001_334051</td>\n",
       "      <td>chr5_356001_356051</td>\n",
       "      <td>-0.010226</td>\n",
       "    </tr>\n",
       "    <tr>\n",
       "      <th>17075</th>\n",
       "      <td>chr8_334001_334051</td>\n",
       "      <td>chr8_356001_356051</td>\n",
       "      <td>-0.010226</td>\n",
       "    </tr>\n",
       "    <tr>\n",
       "      <th>7435</th>\n",
       "      <td>chr3_334001_334051</td>\n",
       "      <td>chr3_356001_356051</td>\n",
       "      <td>-0.010226</td>\n",
       "    </tr>\n",
       "    <tr>\n",
       "      <th>19003</th>\n",
       "      <td>chr9_334001_334051</td>\n",
       "      <td>chr9_356001_356051</td>\n",
       "      <td>-0.010226</td>\n",
       "    </tr>\n",
       "    <tr>\n",
       "      <th>9363</th>\n",
       "      <td>chr4_334001_334051</td>\n",
       "      <td>chr4_356001_356051</td>\n",
       "      <td>-0.010226</td>\n",
       "    </tr>\n",
       "  </tbody>\n",
       "</table>\n",
       "<p>19280 rows × 3 columns</p>\n",
       "</div>"
      ],
      "text/plain": [
       "                    Peak1               Peak2     score\n",
       "4274     chr2_74001_74051    chr2_82001_82051  0.016845\n",
       "15842    chr8_74001_74051    chr8_82001_82051  0.016845\n",
       "10058    chr5_74001_74051    chr5_82001_82051  0.016845\n",
       "13914    chr7_74001_74051    chr7_82001_82051  0.016845\n",
       "2346     chr1_74001_74051    chr1_82001_82051  0.016845\n",
       "...                   ...                 ...       ...\n",
       "11291  chr5_334001_334051  chr5_356001_356051 -0.010226\n",
       "17075  chr8_334001_334051  chr8_356001_356051 -0.010226\n",
       "7435   chr3_334001_334051  chr3_356001_356051 -0.010226\n",
       "19003  chr9_334001_334051  chr9_356001_356051 -0.010226\n",
       "9363   chr4_334001_334051  chr4_356001_356051 -0.010226\n",
       "\n",
       "[19280 rows x 3 columns]"
      ]
     },
     "execution_count": 168,
     "metadata": {},
     "output_type": "execute_result"
    }
   ],
   "source": [
    "an.extract_atac_links(metacells)"
   ]
  },
  {
   "cell_type": "code",
   "execution_count": 169,
   "id": "3ed59a8d-4db9-463a-a99f-b7237601ff76",
   "metadata": {
    "scrolled": true,
    "tags": []
   },
   "outputs": [
    {
     "data": {
      "text/html": [
       "<div>\n",
       "<style scoped>\n",
       "    .dataframe tbody tr th:only-of-type {\n",
       "        vertical-align: middle;\n",
       "    }\n",
       "\n",
       "    .dataframe tbody tr th {\n",
       "        vertical-align: top;\n",
       "    }\n",
       "\n",
       "    .dataframe thead th {\n",
       "        text-align: right;\n",
       "    }\n",
       "</style>\n",
       "<table border=\"1\" class=\"dataframe\">\n",
       "  <thead>\n",
       "    <tr style=\"text-align: right;\">\n",
       "      <th></th>\n",
       "      <th></th>\n",
       "      <th>score</th>\n",
       "    </tr>\n",
       "    <tr>\n",
       "      <th>Peak1</th>\n",
       "      <th>Peak2</th>\n",
       "      <th></th>\n",
       "    </tr>\n",
       "  </thead>\n",
       "  <tbody>\n",
       "    <tr>\n",
       "      <th>chr7_1_51</th>\n",
       "      <th>chr7_14001_14051</th>\n",
       "      <td>0.083969</td>\n",
       "    </tr>\n",
       "    <tr>\n",
       "      <th>chr9_1_51</th>\n",
       "      <th>chr9_14001_14051</th>\n",
       "      <td>0.083969</td>\n",
       "    </tr>\n",
       "    <tr>\n",
       "      <th>chr3_1_51</th>\n",
       "      <th>chr3_14001_14051</th>\n",
       "      <td>0.083969</td>\n",
       "    </tr>\n",
       "    <tr>\n",
       "      <th>chr8_1_51</th>\n",
       "      <th>chr8_14001_14051</th>\n",
       "      <td>0.083969</td>\n",
       "    </tr>\n",
       "    <tr>\n",
       "      <th>chr1_1_51</th>\n",
       "      <th>chr1_14001_14051</th>\n",
       "      <td>0.083969</td>\n",
       "    </tr>\n",
       "    <tr>\n",
       "      <th>...</th>\n",
       "      <th>...</th>\n",
       "      <td>...</td>\n",
       "    </tr>\n",
       "    <tr>\n",
       "      <th>chr5_88001_88051</th>\n",
       "      <th>chr5_90001_90051</th>\n",
       "      <td>-0.027294</td>\n",
       "    </tr>\n",
       "    <tr>\n",
       "      <th>chr0_88001_88051</th>\n",
       "      <th>chr0_90001_90051</th>\n",
       "      <td>-0.027294</td>\n",
       "    </tr>\n",
       "    <tr>\n",
       "      <th>chr9_88001_88051</th>\n",
       "      <th>chr9_90001_90051</th>\n",
       "      <td>-0.027294</td>\n",
       "    </tr>\n",
       "    <tr>\n",
       "      <th>chr1_88001_88051</th>\n",
       "      <th>chr1_90001_90051</th>\n",
       "      <td>-0.027294</td>\n",
       "    </tr>\n",
       "    <tr>\n",
       "      <th>chr3_88001_88051</th>\n",
       "      <th>chr3_90001_90051</th>\n",
       "      <td>-0.027294</td>\n",
       "    </tr>\n",
       "  </tbody>\n",
       "</table>\n",
       "<p>32890 rows × 1 columns</p>\n",
       "</div>"
      ],
      "text/plain": [
       "                                      score\n",
       "Peak1            Peak2                     \n",
       "chr7_1_51        chr7_14001_14051  0.083969\n",
       "chr9_1_51        chr9_14001_14051  0.083969\n",
       "chr3_1_51        chr3_14001_14051  0.083969\n",
       "chr8_1_51        chr8_14001_14051  0.083969\n",
       "chr1_1_51        chr1_14001_14051  0.083969\n",
       "...                                     ...\n",
       "chr5_88001_88051 chr5_90001_90051 -0.027294\n",
       "chr0_88001_88051 chr0_90001_90051 -0.027294\n",
       "chr9_88001_88051 chr9_90001_90051 -0.027294\n",
       "chr1_88001_88051 chr1_90001_90051 -0.027294\n",
       "chr3_88001_88051 chr3_90001_90051 -0.027294\n",
       "\n",
       "[32890 rows x 1 columns]"
      ]
     },
     "execution_count": 169,
     "metadata": {},
     "output_type": "execute_result"
    }
   ],
   "source": [
    "an.extract_atac_links(atac).set_index(['Peak1', 'Peak2'])"
   ]
  },
  {
   "cell_type": "markdown",
   "id": "1c66dcfb-1a1d-4309-bf57-ee9b4ee1f3b4",
   "metadata": {},
   "source": [
    "### 4. Plot comparison between co-accessibility scores and covariance matrix used to generate the data"
   ]
  },
  {
   "cell_type": "code",
   "execution_count": 148,
   "id": "6b39291c-d812-4c2f-8754-f295f09a8a30",
   "metadata": {},
   "outputs": [
    {
     "name": "stdout",
     "output_type": "stream",
     "text": [
      "0.475 0.58\n"
     ]
    },
    {
     "data": {
      "image/png": "[encoded data removed]",
      "text/plain": [
       "<Figure size 1000x1000 with 2 Axes>"
      ]
     },
     "metadata": {},
     "output_type": "display_data"
    }
   ],
   "source": [
    "def diag_block_mat_slicing(L):\n",
    "    shp = L[0].shape\n",
    "    N = len(L)\n",
    "    r = range(N)\n",
    "    out = np.zeros((N,shp[0],N,shp[1]),dtype=int)\n",
    "    out[r,:,r,:] = L\n",
    "    return out.reshape(np.asarray(shp)*N)\n",
    "\n",
    "corrected = final_score.toarray()[:200, :200]\n",
    "corrected = np.where(corrected <= 0, corrected, corrected)\n",
    "corrected = corrected - np.diag(corrected)*np.eye(len(cov))\n",
    "\n",
    "cov_ = cov - np.diag(cov)*np.eye(len(cov))\n",
    "\n",
    "fig, ax = plt.subplots(1, 2, figsize=(10,10))\n",
    "ax[0].imshow(np.abs(corrected))\n",
    "ax[1].imshow(np.where(cov_<=0, cov_, cov_))\n",
    "\n",
    "\n",
    "print((corrected[:20,:20]>0).sum()/(400), (cov_[:20,:20]>0).sum()/(400),)"
   ]
  },
  {
   "cell_type": "code",
   "execution_count": 162,
   "id": "bacf88f0-3339-4aa8-b0a3-8aaac651c603",
   "metadata": {},
   "outputs": [
    {
     "name": "stdout",
     "output_type": "stream",
     "text": [
      "0.01 0.8\n"
     ]
    },
    {
     "data": {
      "image/png": "[encoded data removed]",
      "text/plain": [
       "<Figure size 1000x1000 with 2 Axes>"
      ]
     },
     "metadata": {},
     "output_type": "display_data"
    }
   ],
   "source": [
    "corrected = final_score.toarray()[:200, :200]\n",
    "corrected = np.where(corrected <= 0, 0, 1)\n",
    "\n",
    "\n",
    "fig, ax = plt.subplots(1, 2, figsize=(10,10))\n",
    "ax[0].imshow(corrected)\n",
    "ax[1].imshow(np.where(cov<=0, 0, 1))\n",
    "\n",
    "print((corrected[10,10]>0).sum()/(100), (cov[:10,:10]>0).sum()/(100))"
   ]
  },
  {
   "cell_type": "code",
   "execution_count": 163,
   "id": "1e7d7a1a-63cc-49ab-bc86-916a48a45cdb",
   "metadata": {},
   "outputs": [],
   "source": [
    "df = pd.DataFrame([cov.flatten(), corrected.flatten()]).transpose()"
   ]
  }
 ],
 "metadata": {
  "kernelspec": {
   "display_name": "Python 3 (ipykernel)",
   "language": "python",
   "name": "python3"
  },
  "language_info": {
   "codemirror_mode": {
    "name": "ipython",
    "version": 3
   },
   "file_extension": ".py",
   "mimetype": "text/x-python",
   "name": "python",
   "nbconvert_exporter": "python",
   "pygments_lexer": "ipython3",
   "version": "3.11.7"
  }
 },
 "nbformat": 4,
 "nbformat_minor": 5
}
