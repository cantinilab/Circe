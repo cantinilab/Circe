{
 "cells": [
  {
   "cell_type": "code",
   "execution_count": 27,
   "id": "8b881bd5-3386-44c8-acf9-d88aa756b0ba",
   "metadata": {
    "collapsed": true,
    "jupyter": {
     "outputs_hidden": true
    },
    "scrolled": true,
    "tags": []
   },
   "outputs": [
    {
     "name": "stdout",
     "output_type": "stream",
     "text": [
      "Collecting atacnet\n",
      "  Using cached atacnet-0.1.0-cp311-cp311-manylinux_2_35_x86_64.whl\n",
      "Collecting joblib<2.0.0,>=1.1.0 (from atacnet)\n",
      "  Using cached joblib-1.3.2-py3-none-any.whl.metadata (5.4 kB)\n",
      "Collecting numpy<2.0.0,>=1.25.0 (from atacnet)\n",
      "  Using cached numpy-1.26.3-cp311-cp311-manylinux_2_17_x86_64.manylinux2014_x86_64.whl.metadata (61 kB)\n",
      "Collecting pandas<3.0.0,>=2.1.1 (from atacnet)\n",
      "  Using cached pandas-2.1.4-cp311-cp311-manylinux_2_17_x86_64.manylinux2014_x86_64.whl.metadata (18 kB)\n",
      "Collecting scanpy<2.0.0,>=1.8.1 (from atacnet)\n",
      "  Using cached scanpy-1.9.6-py3-none-any.whl.metadata (6.0 kB)\n",
      "Collecting scikit-learn<2.0.0,>=1.3.1 (from atacnet)\n",
      "  Using cached scikit_learn-1.3.2-cp311-cp311-manylinux_2_17_x86_64.manylinux2014_x86_64.whl.metadata (11 kB)\n",
      "Collecting tqdm<5.0.0,>=4.66.1 (from atacnet)\n",
      "  Using cached tqdm-4.66.1-py3-none-any.whl.metadata (57 kB)\n",
      "Collecting python-dateutil>=2.8.2 (from pandas<3.0.0,>=2.1.1->atacnet)\n",
      "  Using cached python_dateutil-2.8.2-py2.py3-none-any.whl (247 kB)\n",
      "Collecting pytz>=2020.1 (from pandas<3.0.0,>=2.1.1->atacnet)\n",
      "  Using cached pytz-2023.3.post1-py2.py3-none-any.whl.metadata (22 kB)\n",
      "Collecting tzdata>=2022.1 (from pandas<3.0.0,>=2.1.1->atacnet)\n",
      "  Using cached tzdata-2023.4-py2.py3-none-any.whl.metadata (1.4 kB)\n",
      "Collecting anndata>=0.7.4 (from scanpy<2.0.0,>=1.8.1->atacnet)\n",
      "  Using cached anndata-0.10.4-py3-none-any.whl.metadata (6.4 kB)\n",
      "Collecting h5py>=3 (from scanpy<2.0.0,>=1.8.1->atacnet)\n",
      "  Using cached h5py-3.10.0-cp311-cp311-manylinux_2_17_x86_64.manylinux2014_x86_64.whl.metadata (2.5 kB)\n",
      "Collecting matplotlib>=3.4 (from scanpy<2.0.0,>=1.8.1->atacnet)\n",
      "  Using cached matplotlib-3.8.2-cp311-cp311-manylinux_2_17_x86_64.manylinux2014_x86_64.whl.metadata (5.8 kB)\n",
      "Collecting natsort (from scanpy<2.0.0,>=1.8.1->atacnet)\n",
      "  Using cached natsort-8.4.0-py3-none-any.whl.metadata (21 kB)\n",
      "Collecting networkx>=2.3 (from scanpy<2.0.0,>=1.8.1->atacnet)\n",
      "  Using cached networkx-3.2.1-py3-none-any.whl.metadata (5.2 kB)\n",
      "Collecting numba>=0.41.0 (from scanpy<2.0.0,>=1.8.1->atacnet)\n",
      "  Using cached numba-0.58.1-cp311-cp311-manylinux2014_x86_64.manylinux_2_17_x86_64.whl.metadata (2.7 kB)\n",
      "Collecting packaging (from scanpy<2.0.0,>=1.8.1->atacnet)\n",
      "  Using cached packaging-23.2-py3-none-any.whl.metadata (3.2 kB)\n",
      "Collecting patsy (from scanpy<2.0.0,>=1.8.1->atacnet)\n",
      "  Using cached patsy-0.5.6-py2.py3-none-any.whl.metadata (3.5 kB)\n",
      "Collecting scipy>=1.4 (from scanpy<2.0.0,>=1.8.1->atacnet)\n",
      "  Using cached scipy-1.11.4-cp311-cp311-manylinux_2_17_x86_64.manylinux2014_x86_64.whl.metadata (60 kB)\n",
      "Collecting seaborn!=0.13.0 (from scanpy<2.0.0,>=1.8.1->atacnet)\n",
      "  Using cached seaborn-0.13.1-py3-none-any.whl.metadata (5.4 kB)\n",
      "Collecting session-info (from scanpy<2.0.0,>=1.8.1->atacnet)\n",
      "  Using cached session_info-1.0.0-py3-none-any.whl\n",
      "Collecting statsmodels>=0.10.0rc2 (from scanpy<2.0.0,>=1.8.1->atacnet)\n",
      "  Using cached statsmodels-0.14.1-cp311-cp311-manylinux_2_17_x86_64.manylinux2014_x86_64.whl.metadata (9.5 kB)\n",
      "Collecting umap-learn>=0.3.10 (from scanpy<2.0.0,>=1.8.1->atacnet)\n",
      "  Using cached umap_learn-0.5.5-py3-none-any.whl\n",
      "Collecting threadpoolctl>=2.0.0 (from scikit-learn<2.0.0,>=1.3.1->atacnet)\n",
      "  Using cached threadpoolctl-3.2.0-py3-none-any.whl.metadata (10.0 kB)\n",
      "Collecting array-api-compat (from anndata>=0.7.4->scanpy<2.0.0,>=1.8.1->atacnet)\n",
      "  Using cached array_api_compat-1.4-py3-none-any.whl.metadata (13 kB)\n",
      "Collecting contourpy>=1.0.1 (from matplotlib>=3.4->scanpy<2.0.0,>=1.8.1->atacnet)\n",
      "  Using cached contourpy-1.2.0-cp311-cp311-manylinux_2_17_x86_64.manylinux2014_x86_64.whl.metadata (5.8 kB)\n",
      "Collecting cycler>=0.10 (from matplotlib>=3.4->scanpy<2.0.0,>=1.8.1->atacnet)\n",
      "  Using cached cycler-0.12.1-py3-none-any.whl.metadata (3.8 kB)\n",
      "Collecting fonttools>=4.22.0 (from matplotlib>=3.4->scanpy<2.0.0,>=1.8.1->atacnet)\n",
      "  Using cached fonttools-4.47.2-cp311-cp311-manylinux_2_17_x86_64.manylinux2014_x86_64.whl.metadata (157 kB)\n",
      "Collecting kiwisolver>=1.3.1 (from matplotlib>=3.4->scanpy<2.0.0,>=1.8.1->atacnet)\n",
      "  Using cached kiwisolver-1.4.5-cp311-cp311-manylinux_2_17_x86_64.manylinux2014_x86_64.whl.metadata (6.4 kB)\n",
      "Collecting pillow>=8 (from matplotlib>=3.4->scanpy<2.0.0,>=1.8.1->atacnet)\n",
      "  Using cached pillow-10.2.0-cp311-cp311-manylinux_2_28_x86_64.whl.metadata (9.7 kB)\n",
      "Collecting pyparsing>=2.3.1 (from matplotlib>=3.4->scanpy<2.0.0,>=1.8.1->atacnet)\n",
      "  Using cached pyparsing-3.1.1-py3-none-any.whl.metadata (5.1 kB)\n",
      "Collecting llvmlite<0.42,>=0.41.0dev0 (from numba>=0.41.0->scanpy<2.0.0,>=1.8.1->atacnet)\n",
      "  Using cached llvmlite-0.41.1-cp311-cp311-manylinux_2_17_x86_64.manylinux2014_x86_64.whl.metadata (4.8 kB)\n",
      "Collecting six>=1.5 (from python-dateutil>=2.8.2->pandas<3.0.0,>=2.1.1->atacnet)\n",
      "  Using cached six-1.16.0-py2.py3-none-any.whl (11 kB)\n",
      "Collecting pynndescent>=0.5 (from umap-learn>=0.3.10->scanpy<2.0.0,>=1.8.1->atacnet)\n",
      "  Using cached pynndescent-0.5.11-py3-none-any.whl.metadata (6.8 kB)\n",
      "Collecting stdlib-list (from session-info->scanpy<2.0.0,>=1.8.1->atacnet)\n",
      "  Using cached stdlib_list-0.10.0-py3-none-any.whl.metadata (3.3 kB)\n",
      "Using cached joblib-1.3.2-py3-none-any.whl (302 kB)\n",
      "Using cached numpy-1.26.3-cp311-cp311-manylinux_2_17_x86_64.manylinux2014_x86_64.whl (18.3 MB)\n",
      "Using cached pandas-2.1.4-cp311-cp311-manylinux_2_17_x86_64.manylinux2014_x86_64.whl (12.2 MB)\n",
      "Using cached scanpy-1.9.6-py3-none-any.whl (2.0 MB)\n",
      "Using cached scikit_learn-1.3.2-cp311-cp311-manylinux_2_17_x86_64.manylinux2014_x86_64.whl (10.9 MB)\n",
      "Using cached tqdm-4.66.1-py3-none-any.whl (78 kB)\n",
      "Using cached anndata-0.10.4-py3-none-any.whl (119 kB)\n",
      "Using cached h5py-3.10.0-cp311-cp311-manylinux_2_17_x86_64.manylinux2014_x86_64.whl (4.8 MB)\n",
      "Using cached matplotlib-3.8.2-cp311-cp311-manylinux_2_17_x86_64.manylinux2014_x86_64.whl (11.6 MB)\n",
      "Using cached networkx-3.2.1-py3-none-any.whl (1.6 MB)\n",
      "Using cached numba-0.58.1-cp311-cp311-manylinux2014_x86_64.manylinux_2_17_x86_64.whl (3.6 MB)\n",
      "Using cached packaging-23.2-py3-none-any.whl (53 kB)\n",
      "Using cached pytz-2023.3.post1-py2.py3-none-any.whl (502 kB)\n",
      "Using cached scipy-1.11.4-cp311-cp311-manylinux_2_17_x86_64.manylinux2014_x86_64.whl (36.4 MB)\n",
      "Using cached seaborn-0.13.1-py3-none-any.whl (294 kB)\n",
      "Using cached statsmodels-0.14.1-cp311-cp311-manylinux_2_17_x86_64.manylinux2014_x86_64.whl (10.8 MB)\n",
      "Using cached patsy-0.5.6-py2.py3-none-any.whl (233 kB)\n",
      "Using cached threadpoolctl-3.2.0-py3-none-any.whl (15 kB)\n",
      "Using cached tzdata-2023.4-py2.py3-none-any.whl (346 kB)\n",
      "Using cached natsort-8.4.0-py3-none-any.whl (38 kB)\n",
      "Using cached contourpy-1.2.0-cp311-cp311-manylinux_2_17_x86_64.manylinux2014_x86_64.whl (313 kB)\n",
      "Using cached cycler-0.12.1-py3-none-any.whl (8.3 kB)\n",
      "Using cached fonttools-4.47.2-cp311-cp311-manylinux_2_17_x86_64.manylinux2014_x86_64.whl (4.9 MB)\n",
      "Using cached kiwisolver-1.4.5-cp311-cp311-manylinux_2_17_x86_64.manylinux2014_x86_64.whl (1.4 MB)\n",
      "Using cached llvmlite-0.41.1-cp311-cp311-manylinux_2_17_x86_64.manylinux2014_x86_64.whl (43.6 MB)\n",
      "Using cached pillow-10.2.0-cp311-cp311-manylinux_2_28_x86_64.whl (4.5 MB)\n",
      "Using cached pynndescent-0.5.11-py3-none-any.whl (55 kB)\n",
      "Using cached pyparsing-3.1.1-py3-none-any.whl (103 kB)\n",
      "Using cached array_api_compat-1.4-py3-none-any.whl (29 kB)\n",
      "Using cached stdlib_list-0.10.0-py3-none-any.whl (79 kB)\n",
      "Installing collected packages: pytz, tzdata, tqdm, threadpoolctl, stdlib-list, six, pyparsing, pillow, packaging, numpy, networkx, natsort, llvmlite, kiwisolver, joblib, fonttools, cycler, array-api-compat, session-info, scipy, python-dateutil, patsy, numba, h5py, contourpy, scikit-learn, pandas, matplotlib, statsmodels, seaborn, pynndescent, anndata, umap-learn, scanpy, atacnet\n",
      "Successfully installed anndata-0.10.4 array-api-compat-1.4 atacnet-0.1.0 contourpy-1.2.0 cycler-0.12.1 fonttools-4.47.2 h5py-3.10.0 joblib-1.3.2 kiwisolver-1.4.5 llvmlite-0.41.1 matplotlib-3.8.2 natsort-8.4.0 networkx-3.2.1 numba-0.58.1 numpy-1.26.3 packaging-23.1 pandas-2.1.4 patsy-0.5.6 pillow-10.2.0 pynndescent-0.5.11 pyparsing-3.1.1 python-dateutil-2.8.2 pytz-2023.3.post1 scanpy-1.9.6 scikit-learn-1.3.2 scipy-1.11.4 seaborn-0.13.1 session-info-1.0.0 six-1.16.0 statsmodels-0.14.1 stdlib-list-0.10.0 threadpoolctl-3.2.0 tqdm-4.66.1 tzdata-2023.4 umap-learn-0.5.5\n",
      "Note: you may need to restart the kernel to use updated packages.\n"
     ]
    }
   ],
   "source": [
    "pip install atacnet -I"
   ]
  },
  {
   "cell_type": "code",
   "execution_count": 1,
   "id": "8532bf40-6a1c-4508-8e3c-e46ef65ee758",
   "metadata": {
    "tags": []
   },
   "outputs": [],
   "source": [
    "import warnings\n",
    "warnings.filterwarnings(\"ignore\", category=FutureWarning, message=r\".*Reordering categories will always return a new Categorical object.*\")\n",
    "warnings.filterwarnings(\"ignore\", category=FutureWarning, message=r\".*is_categorical_dtype is deprecated and will be removed in a future version.*\")"
   ]
  },
  {
   "cell_type": "code",
   "execution_count": 2,
   "id": "18bcf460-6d87-487c-8433-7fa9f898970a",
   "metadata": {},
   "outputs": [],
   "source": [
    "import atacnet as an\n",
    "import atacnet.metacells\n",
    "import scanpy as sc"
   ]
  },
  {
   "cell_type": "code",
   "execution_count": 3,
   "id": "100e2e30-bfa4-4d24-b1d6-6913f6e19c49",
   "metadata": {
    "tags": []
   },
   "outputs": [
    {
     "data": {
      "text/plain": [
       "\u001b[0;31mSignature:\u001b[0m \u001b[0man\u001b[0m\u001b[0;34m.\u001b[0m\u001b[0madd_region_infos\u001b[0m\u001b[0;34m(\u001b[0m\u001b[0mAnnData\u001b[0m\u001b[0;34m,\u001b[0m \u001b[0msep\u001b[0m\u001b[0;34m=\u001b[0m\u001b[0;34m(\u001b[0m\u001b[0;34m'_'\u001b[0m\u001b[0;34m,\u001b[0m \u001b[0;34m'_'\u001b[0m\u001b[0;34m)\u001b[0m\u001b[0;34m,\u001b[0m \u001b[0minplace\u001b[0m\u001b[0;34m=\u001b[0m\u001b[0;32mTrue\u001b[0m\u001b[0;34m)\u001b[0m\u001b[0;34m\u001b[0m\u001b[0;34m\u001b[0m\u001b[0m\n",
       "\u001b[0;31mDocstring:\u001b[0m\n",
       "Get region informations from the var_names of AnnData object.\n",
       "e.g. chr1_12345_12346 -> 'chromosome' : chr1,\n",
       "                         'start' : 12345,\n",
       "                         'end' : 12346\n",
       "These info will be added to var of AnnData object.\n",
       "    adata.var['chromosome'] : chromosome\n",
       "    adata.var['start'] : start position\n",
       "    adata.var['end'] : end position\n",
       "\n",
       "Parameters\n",
       "----------\n",
       "AnnData : AnnData object\n",
       "    AnnData object with var_names as region names.\n",
       "sep : tuple, optional\n",
       "    Separator of region names. The default is ('_', '_').\n",
       "\n",
       "Returns\n",
       "-------\n",
       "AnnData : AnnData object\n",
       "    AnnData object with region informations in var.\n",
       "\u001b[0;31mFile:\u001b[0m      ~/miniconda3/envs/t2/lib/python3.11/site-packages/atacnet/atacnet.py\n",
       "\u001b[0;31mType:\u001b[0m      function"
      ]
     },
     "metadata": {},
     "output_type": "display_data"
    }
   ],
   "source": [
    "?an.add_region_infos"
   ]
  },
  {
   "cell_type": "code",
   "execution_count": 4,
   "id": "a1122fa9-1917-4899-beb6-ffa6d58b1d4d",
   "metadata": {},
   "outputs": [],
   "source": [
    "import numpy as np\n",
    "import pandas as pd\n",
    "import anndata as ad\n",
    "\n",
    "import scipy as sp\n",
    "from scipy import linalg\n",
    "from sklearn.datasets import make_sparse_spd_matrix\n",
    "import matplotlib.pyplot as plt"
   ]
  },
  {
   "cell_type": "markdown",
   "id": "b5b35075-2b58-4011-944d-316379912fe0",
   "metadata": {},
   "source": [
    "# Test with sparse covariance true matrix as GT"
   ]
  },
  {
   "cell_type": "markdown",
   "id": "3972a885-0c5c-4378-81c2-26b7cfdee1f6",
   "metadata": {
    "tags": []
   },
   "source": [
    "### 0. Create fake AnnData"
   ]
  },
  {
   "cell_type": "code",
   "execution_count": 5,
   "id": "79295862-9df3-4fa4-a32c-0931c73c705f",
   "metadata": {},
   "outputs": [],
   "source": [
    "# Create fake single-cell atac-seq data\n",
    "nb_cells = 300\n",
    "nb_chr = 10\n",
    "nb_regions_per_chr = 200\n",
    "between_reg = 2000\n",
    "size_reg = 50\n",
    "\n",
    "counts = []\n",
    "for chr in range(nb_chr):\n",
    "    counts.append(pd.DataFrame(np.random.randint(0,100, size=(nb_cells, nb_regions_per_chr)),\n",
    "                        index=['Cell_'+j for j in map(str, range(nb_cells))],\n",
    "                        columns=['chr'+str(chr)+'_'+str(i)+'_'+str(i+size_reg) for i in range(1, nb_regions_per_chr*between_reg+1, between_reg)]))\n",
    "atac = ad.AnnData(pd.concat(counts, axis=1))"
   ]
  },
  {
   "cell_type": "code",
   "execution_count": 6,
   "id": "f1707268-8d8f-49bb-ae0a-75c037392b22",
   "metadata": {},
   "outputs": [],
   "source": [
    "distance_threshold = 50000"
   ]
  },
  {
   "cell_type": "markdown",
   "id": "56bbfdba-4447-4778-b4d7-83be18c8923f",
   "metadata": {
    "tags": []
   },
   "source": [
    "### 1. Add region position in AnnData.obs"
   ]
  },
  {
   "cell_type": "code",
   "execution_count": 7,
   "id": "2feb1282-0e2b-4e10-bb8b-8f448e4ca2a6",
   "metadata": {},
   "outputs": [],
   "source": [
    "an.add_region_infos(atac)"
   ]
  },
  {
   "cell_type": "markdown",
   "id": "d3ac14f6-fd5e-46cd-89fd-1b583802998c",
   "metadata": {
    "tags": []
   },
   "source": [
    "### 2. Replace random data with fake cov matrix"
   ]
  },
  {
   "cell_type": "code",
   "execution_count": 8,
   "id": "fe157d99-c262-4009-8975-fe59f145ebc9",
   "metadata": {},
   "outputs": [],
   "source": [
    "n_samples, n_features = 300, nb_regions_per_chr\n",
    "\n",
    "prng = np.random.RandomState(0)\n",
    "prec = make_sparse_spd_matrix(\n",
    "    n_features, alpha=0.99, smallest_coef=0.4, largest_coef=0.7, random_state=prng\n",
    ")\n",
    "cov = linalg.inv(prec)\n",
    "\n",
    "#cov with only potential connections\n",
    "possible_co = sp.sparse.csr_matrix(an.atacnet.get_distances_regions(atac)<distance_threshold/2)[:cov.shape[0],:cov.shape[1]]\n",
    "possible_co = sp.sparse.coo_matrix(possible_co).toarray() + sp.sparse.coo_matrix(possible_co).toarray().T \n",
    "cov = np.eye(len(cov))*np.diag(cov) + possible_co*cov \n",
    "d = np.sqrt(np.diag(cov))\n",
    "cov /= d\n",
    "cov /= d[:, np.newaxis]\n",
    "prec *= d\n",
    "prec *= d[:, np.newaxis]\n",
    "X = prng.multivariate_normal(np.zeros(n_features), cov, size=n_samples)\n",
    "X -= X.mean(axis=0)\n",
    "X /= X.std(axis=0)\n",
    "\n",
    "X_ = np.concatenate([X]*nb_chr, axis=1)\n",
    "atac.X = np.abs(X_)\n",
    "atac.X = np.where(X_<0, 0, X_)"
   ]
  },
  {
   "cell_type": "markdown",
   "id": "ec6c2bcd-2549-43f1-bef3-f8fe6489d369",
   "metadata": {
    "tags": []
   },
   "source": [
    "### 2.A. Remove Null rows"
   ]
  },
  {
   "cell_type": "code",
   "execution_count": 9,
   "id": "30d98f97-b3b5-4d21-ae8f-4de6c9797f29",
   "metadata": {
    "tags": []
   },
   "outputs": [
    {
     "data": {
      "text/plain": [
       "AnnData object with n_obs × n_vars = 300 × 2000\n",
       "    var: 'chromosome', 'start', 'end', 'n_cells'"
      ]
     },
     "execution_count": 9,
     "metadata": {},
     "output_type": "execute_result"
    }
   ],
   "source": [
    "sc.pp.filter_genes(atac, min_cells=1)\n",
    "atac"
   ]
  },
  {
   "cell_type": "markdown",
   "id": "6d5c7a34-66cc-4587-b8d5-e485dc975fd8",
   "metadata": {
    "tags": []
   },
   "source": [
    "### 2.B. Compute pseudocells"
   ]
  },
  {
   "cell_type": "code",
   "execution_count": 10,
   "id": "2d8f7966-3f9c-4d73-bd67-5bef4fabd53f",
   "metadata": {
    "tags": []
   },
   "outputs": [
    {
     "name": "stderr",
     "output_type": "stream",
     "text": [
      "/home/rtrimbou/miniconda3/envs/t2/lib/python3.11/site-packages/tqdm/auto.py:21: TqdmWarning: IProgress not found. Please update jupyter and ipywidgets. See https://ipywidgets.readthedocs.io/en/stable/user_install.html\n",
      "  from .autonotebook import tqdm as notebook_tqdm\n",
      "100%|██████████████████████████████████████████████████████████████████| 299/299 [00:00<00:00, 15050.31it/s]\n"
     ]
    }
   ],
   "source": [
    "metacells = an.metacells.compute_metacells(atac)\n",
    "an.add_region_infos(metacells)"
   ]
  },
  {
   "cell_type": "markdown",
   "id": "23c4e2ef-c346-4c63-9efb-8e4bbeb95cb2",
   "metadata": {},
   "source": [
    "### 3 Calculate co-accessibility"
   ]
  },
  {
   "cell_type": "code",
   "execution_count": 11,
   "id": "b0e0cb62-fab3-4d7f-bd0f-15ab43045b39",
   "metadata": {
    "tags": []
   },
   "outputs": [
    {
     "name": "stdout",
     "output_type": "stream",
     "text": [
      "Calculating penalty coefficient alpha...\n"
     ]
    },
    {
     "name": "stderr",
     "output_type": "stream",
     "text": [
      " 53%|█████████████████████████████████████                                 | 53/100 [00:01<00:01, 42.82it/s]\n"
     ]
    },
    {
     "name": "stdout",
     "output_type": "stream",
     "text": [
      "Calculating co-accessibility scores...\n",
      "Starting to process chromosomes : ['chr0' 'chr1' 'chr2' 'chr3' 'chr4' 'chr5' 'chr6' 'chr7' 'chr8' 'chr9']\n"
     ]
    },
    {
     "name": "stderr",
     "output_type": "stream",
     "text": [
      "100%|███████████████████████████████████████████████████████████████████████| 10/10 [00:00<00:00, 71.55it/s]\n"
     ]
    },
    {
     "name": "stdout",
     "output_type": "stream",
     "text": [
      "Finishing to process chromosomes : ['chr0' 'chr1' 'chr2' 'chr3' 'chr4' 'chr5' 'chr6' 'chr7' 'chr8' 'chr9']\n"
     ]
    },
    {
     "name": "stderr",
     "output_type": "stream",
     "text": [
      "100%|███████████████████████████████████████████████████████████████████████| 10/10 [00:00<00:00, 81.93it/s]"
     ]
    },
    {
     "name": "stdout",
     "output_type": "stream",
     "text": [
      "Averaging co-accessibility scores across windows...\n",
      "Done !\n"
     ]
    },
    {
     "name": "stderr",
     "output_type": "stream",
     "text": [
      "\n"
     ]
    }
   ],
   "source": [
    "an.compute_atac_network(\n",
    "    metacells,\n",
    "    window_size=distance_threshold,\n",
    "    unit_distance = 1000,\n",
    "    distance_constraint=distance_threshold/2,\n",
    "    n_samples=50,\n",
    "    n_samples_maxtry=100,\n",
    "    max_alpha_iteration=60\n",
    ")"
   ]
  },
  {
   "cell_type": "markdown",
   "id": "69f7dc04-4e27-4b18-a368-8306078e6e46",
   "metadata": {},
   "source": [
    "*Can be stored externally using sliding_graphica_lasso*"
   ]
  },
  {
   "cell_type": "code",
   "execution_count": 12,
   "id": "1825591f-5177-4429-8791-54ef15537e66",
   "metadata": {
    "scrolled": true,
    "tags": []
   },
   "outputs": [
    {
     "name": "stdout",
     "output_type": "stream",
     "text": [
      "Calculating penalty coefficient alpha...\n"
     ]
    },
    {
     "name": "stderr",
     "output_type": "stream",
     "text": [
      " 51%|███████████████████████████████████▋                                  | 51/100 [00:00<00:00, 51.91it/s]\n"
     ]
    },
    {
     "name": "stdout",
     "output_type": "stream",
     "text": [
      "Calculating co-accessibility scores...\n",
      "Starting to process chromosomes : ['chr0' 'chr1' 'chr2' 'chr3' 'chr4' 'chr5' 'chr6' 'chr7' 'chr8' 'chr9']\n"
     ]
    },
    {
     "name": "stderr",
     "output_type": "stream",
     "text": [
      "100%|███████████████████████████████████████████████████████████████████████| 10/10 [00:00<00:00, 73.81it/s]\n"
     ]
    },
    {
     "name": "stdout",
     "output_type": "stream",
     "text": [
      "Finishing to process chromosomes : ['chr0' 'chr1' 'chr2' 'chr3' 'chr4' 'chr5' 'chr6' 'chr7' 'chr8' 'chr9']\n"
     ]
    },
    {
     "name": "stderr",
     "output_type": "stream",
     "text": [
      "100%|███████████████████████████████████████████████████████████████████████| 10/10 [00:00<00:00, 45.70it/s]\n"
     ]
    },
    {
     "name": "stdout",
     "output_type": "stream",
     "text": [
      "Averaging co-accessibility scores across windows...\n",
      "Done !\n"
     ]
    },
    {
     "ename": "ValueError",
     "evalue": "Value passed for key 'atac_network' is of incorrect shape. Values of varp must match dimensions ('var', 'var') of parent. Value had shape (300, 2000) while it should have had (2000, 2000).",
     "output_type": "error",
     "traceback": [
      "\u001b[0;31m---------------------------------------------------------------------------\u001b[0m",
      "\u001b[0;31mValueError\u001b[0m                                Traceback (most recent call last)",
      "Cell \u001b[0;32mIn[12], line 10\u001b[0m\n\u001b[1;32m      1\u001b[0m final_score \u001b[38;5;241m=\u001b[39m an\u001b[38;5;241m.\u001b[39msliding_graphical_lasso(\n\u001b[1;32m      2\u001b[0m     atac,\n\u001b[1;32m      3\u001b[0m     window_size\u001b[38;5;241m=\u001b[39mdistance_threshold,\n\u001b[0;32m   (...)\u001b[0m\n\u001b[1;32m      8\u001b[0m     max_alpha_iteration\u001b[38;5;241m=\u001b[39m\u001b[38;5;241m60\u001b[39m\n\u001b[1;32m      9\u001b[0m )\n\u001b[0;32m---> 10\u001b[0m metacells\u001b[38;5;241m.\u001b[39mvarp[\u001b[38;5;124m'\u001b[39m\u001b[38;5;124matac_network\u001b[39m\u001b[38;5;124m'\u001b[39m] \u001b[38;5;241m=\u001b[39m atac\n",
      "File \u001b[0;32m~/miniconda3/envs/t2/lib/python3.11/site-packages/anndata/_core/aligned_mapping.py:199\u001b[0m, in \u001b[0;36mAlignedActualMixin.__setitem__\u001b[0;34m(self, key, value)\u001b[0m\n\u001b[1;32m    198\u001b[0m \u001b[38;5;28;01mdef\u001b[39;00m \u001b[38;5;21m__setitem__\u001b[39m(\u001b[38;5;28mself\u001b[39m, key: \u001b[38;5;28mstr\u001b[39m, value: V):\n\u001b[0;32m--> 199\u001b[0m     value \u001b[38;5;241m=\u001b[39m \u001b[38;5;28mself\u001b[39m\u001b[38;5;241m.\u001b[39m_validate_value(value, key)\n\u001b[1;32m    200\u001b[0m     \u001b[38;5;28mself\u001b[39m\u001b[38;5;241m.\u001b[39m_data[key] \u001b[38;5;241m=\u001b[39m value\n",
      "File \u001b[0;32m~/miniconda3/envs/t2/lib/python3.11/site-packages/anndata/_core/aligned_mapping.py:89\u001b[0m, in \u001b[0;36mAlignedMapping._validate_value\u001b[0;34m(self, val, key)\u001b[0m\n\u001b[1;32m     83\u001b[0m         dims \u001b[38;5;241m=\u001b[39m \u001b[38;5;28mtuple\u001b[39m((\u001b[38;5;124m\"\u001b[39m\u001b[38;5;124mobs\u001b[39m\u001b[38;5;124m\"\u001b[39m, \u001b[38;5;124m\"\u001b[39m\u001b[38;5;124mvar\u001b[39m\u001b[38;5;124m\"\u001b[39m)[ax] \u001b[38;5;28;01mfor\u001b[39;00m ax \u001b[38;5;129;01min\u001b[39;00m \u001b[38;5;28mself\u001b[39m\u001b[38;5;241m.\u001b[39maxes)\n\u001b[1;32m     84\u001b[0m         msg \u001b[38;5;241m=\u001b[39m (\n\u001b[1;32m     85\u001b[0m             \u001b[38;5;124mf\u001b[39m\u001b[38;5;124m\"\u001b[39m\u001b[38;5;124mValue passed for key \u001b[39m\u001b[38;5;132;01m{\u001b[39;00mkey\u001b[38;5;132;01m!r}\u001b[39;00m\u001b[38;5;124m is of incorrect shape. \u001b[39m\u001b[38;5;124m\"\u001b[39m\n\u001b[1;32m     86\u001b[0m             \u001b[38;5;124mf\u001b[39m\u001b[38;5;124m\"\u001b[39m\u001b[38;5;124mValues of \u001b[39m\u001b[38;5;132;01m{\u001b[39;00m\u001b[38;5;28mself\u001b[39m\u001b[38;5;241m.\u001b[39mattrname\u001b[38;5;132;01m}\u001b[39;00m\u001b[38;5;124m must match dimensions \u001b[39m\u001b[38;5;132;01m{\u001b[39;00mdims\u001b[38;5;132;01m}\u001b[39;00m\u001b[38;5;124m of parent. \u001b[39m\u001b[38;5;124m\"\u001b[39m\n\u001b[1;32m     87\u001b[0m             \u001b[38;5;124mf\u001b[39m\u001b[38;5;124m\"\u001b[39m\u001b[38;5;124mValue had shape \u001b[39m\u001b[38;5;132;01m{\u001b[39;00mactual_shape\u001b[38;5;132;01m}\u001b[39;00m\u001b[38;5;124m while it should have had \u001b[39m\u001b[38;5;132;01m{\u001b[39;00mright_shape\u001b[38;5;132;01m}\u001b[39;00m\u001b[38;5;124m.\u001b[39m\u001b[38;5;124m\"\u001b[39m\n\u001b[1;32m     88\u001b[0m         )\n\u001b[0;32m---> 89\u001b[0m     \u001b[38;5;28;01mraise\u001b[39;00m \u001b[38;5;167;01mValueError\u001b[39;00m(msg)\n\u001b[1;32m     91\u001b[0m \u001b[38;5;28;01mif\u001b[39;00m \u001b[38;5;129;01mnot\u001b[39;00m \u001b[38;5;28mself\u001b[39m\u001b[38;5;241m.\u001b[39m_allow_df \u001b[38;5;129;01mand\u001b[39;00m \u001b[38;5;28misinstance\u001b[39m(val, pd\u001b[38;5;241m.\u001b[39mDataFrame):\n\u001b[1;32m     92\u001b[0m     name \u001b[38;5;241m=\u001b[39m \u001b[38;5;28mself\u001b[39m\u001b[38;5;241m.\u001b[39mattrname\u001b[38;5;241m.\u001b[39mtitle()\u001b[38;5;241m.\u001b[39mrstrip(\u001b[38;5;124m\"\u001b[39m\u001b[38;5;124ms\u001b[39m\u001b[38;5;124m\"\u001b[39m)\n",
      "\u001b[0;31mValueError\u001b[0m: Value passed for key 'atac_network' is of incorrect shape. Values of varp must match dimensions ('var', 'var') of parent. Value had shape (300, 2000) while it should have had (2000, 2000)."
     ]
    }
   ],
   "source": [
    "final_score = an.sliding_graphical_lasso(\n",
    "    atac,\n",
    "    window_size=distance_threshold,\n",
    "    unit_distance = 1000,\n",
    "    distance_constraint=distance_threshold/2,\n",
    "    n_samples=50,\n",
    "    n_samples_maxtry=100,\n",
    "    max_alpha_iteration=60\n",
    ")\n",
    "metacells.varp['atac_network'] = atac"
   ]
  },
  {
   "cell_type": "markdown",
   "id": "aad0c904-effe-43a0-b504-d12089176550",
   "metadata": {},
   "source": [
    "### 3. B. Extract list of edges"
   ]
  },
  {
   "cell_type": "code",
   "execution_count": null,
   "id": "0a26c332-5a1e-4b10-bf0b-3e6339dace60",
   "metadata": {
    "tags": []
   },
   "outputs": [],
   "source": [
    "an.extract_atac_links(metacells)"
   ]
  },
  {
   "cell_type": "code",
   "execution_count": null,
   "id": "3ed59a8d-4db9-463a-a99f-b7237601ff76",
   "metadata": {
    "tags": []
   },
   "outputs": [],
   "source": [
    "an.extract_atac_links(atac)"
   ]
  },
  {
   "cell_type": "markdown",
   "id": "1c66dcfb-1a1d-4309-bf57-ee9b4ee1f3b4",
   "metadata": {},
   "source": [
    "### 4. Plot comparison between co-accessibility scores and covariance matrix used to generate the data"
   ]
  },
  {
   "cell_type": "code",
   "execution_count": null,
   "id": "6b39291c-d812-4c2f-8754-f295f09a8a30",
   "metadata": {},
   "outputs": [],
   "source": [
    "def diag_block_mat_slicing(L):\n",
    "    shp = L[0].shape\n",
    "    N = len(L)\n",
    "    r = range(N)\n",
    "    out = np.zeros((N,shp[0],N,shp[1]),dtype=int)\n",
    "    out[r,:,r,:] = L\n",
    "    return out.reshape(np.asarray(shp)*N)\n",
    "\n",
    "corrected = final_score.toarray()[:200, :200]\n",
    "corrected = np.where(corrected <= 0, corrected, corrected)\n",
    "corrected = corrected - np.diag(corrected)*np.eye(len(cov))\n",
    "\n",
    "cov_ = cov - np.diag(cov)*np.eye(len(cov))\n",
    "\n",
    "fig, ax = plt.subplots(1, 2, figsize=(10,10))\n",
    "ax[0].imshow(np.abs(corrected))\n",
    "ax[1].imshow(np.where(cov_<=0, cov_, cov_))\n",
    "\n",
    "\n",
    "print((cov_[:20,:20]>0).sum()/(400), (corrected[:20,:20]>0).sum()/(400), )"
   ]
  },
  {
   "cell_type": "code",
   "execution_count": null,
   "id": "bacf88f0-3339-4aa8-b0a3-8aaac651c603",
   "metadata": {
    "scrolled": true
   },
   "outputs": [],
   "source": [
    "corrected = final_score.toarray()[:200, :200]\n",
    "corrected = np.where(corrected <= 0, 0, 1)\n",
    "\n",
    "\n",
    "fig, ax = plt.subplots(1, 2, figsize=(10,10))\n",
    "ax[0].imshow(corrected)\n",
    "ax[1].imshow(np.where(cov<=0, 0, 1))\n",
    "\n",
    "print((cov[:10,:10]>0).sum()/(100), (corrected[10,10]>0).sum()/(100), )"
   ]
  },
  {
   "cell_type": "code",
   "execution_count": null,
   "id": "5d6441c8-395e-49c0-8b31-e595b38e1201",
   "metadata": {},
   "outputs": [],
   "source": []
  }
 ],
 "metadata": {
  "kernelspec": {
   "display_name": "Python 3 (ipykernel)",
   "language": "python",
   "name": "python3"
  },
  "language_info": {
   "codemirror_mode": {
    "name": "ipython",
    "version": 3
   },
   "file_extension": ".py",
   "mimetype": "text/x-python",
   "name": "python",
   "nbconvert_exporter": "python",
   "pygments_lexer": "ipython3",
   "version": "3.11.7"
  }
 },
 "nbformat": 4,
 "nbformat_minor": 5
}
