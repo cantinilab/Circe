{
 "cells": [
  {
   "cell_type": "markdown",
   "id": "2d01a1c7-d285-4ad9-84bb-5cc18c6d71b7",
   "metadata": {
    "tags": []
   },
   "source": [
    "pip install atacnet"
   ]
  },
  {
   "cell_type": "code",
   "execution_count": 1,
   "id": "8532bf40-6a1c-4508-8e3c-e46ef65ee758",
   "metadata": {
    "tags": []
   },
   "outputs": [],
   "source": [
    "import warnings\n",
    "warnings.filterwarnings(\"ignore\", category=FutureWarning, message=r\".*Reordering categories will always return a new Categorical object.*\")\n",
    "warnings.filterwarnings(\"ignore\", category=FutureWarning, message=r\".*is_categorical_dtype is deprecated and will be removed in a future version.*\")"
   ]
  },
  {
   "cell_type": "code",
   "execution_count": 2,
   "id": "18bcf460-6d87-487c-8433-7fa9f898970a",
   "metadata": {},
   "outputs": [],
   "source": [
    "import atacnet as an\n",
    "import atacnet.metacells\n",
    "import scanpy as sc"
   ]
  },
  {
   "cell_type": "code",
   "execution_count": 3,
   "id": "100e2e30-bfa4-4d24-b1d6-6913f6e19c49",
   "metadata": {
    "tags": []
   },
   "outputs": [
    {
     "data": {
      "text/plain": [
       "\u001b[0;31mSignature:\u001b[0m \u001b[0man\u001b[0m\u001b[0;34m.\u001b[0m\u001b[0madd_region_infos\u001b[0m\u001b[0;34m(\u001b[0m\u001b[0mAnnData\u001b[0m\u001b[0;34m,\u001b[0m \u001b[0msep\u001b[0m\u001b[0;34m=\u001b[0m\u001b[0;34m(\u001b[0m\u001b[0;34m'_'\u001b[0m\u001b[0;34m,\u001b[0m \u001b[0;34m'_'\u001b[0m\u001b[0;34m)\u001b[0m\u001b[0;34m,\u001b[0m \u001b[0minplace\u001b[0m\u001b[0;34m=\u001b[0m\u001b[0;32mTrue\u001b[0m\u001b[0;34m)\u001b[0m\u001b[0;34m\u001b[0m\u001b[0;34m\u001b[0m\u001b[0m\n",
       "\u001b[0;31mDocstring:\u001b[0m\n",
       "Get region informations from the var_names of AnnData object.\n",
       "e.g. chr1_12345_12346 -> 'chromosome' : chr1,\n",
       "                         'start' : 12345,\n",
       "                         'end' : 12346\n",
       "These info will be added to var of AnnData object.\n",
       "    adata.var['chromosome'] : chromosome\n",
       "    adata.var['start'] : start position\n",
       "    adata.var['end'] : end position\n",
       "\n",
       "Parameters\n",
       "----------\n",
       "AnnData : AnnData object\n",
       "    AnnData object with var_names as region names.\n",
       "sep : tuple, optional\n",
       "    Separator of region names. The default is ('_', '_').\n",
       "\n",
       "Returns\n",
       "-------\n",
       "AnnData : AnnData object\n",
       "    AnnData object with region informations in var.\n",
       "\u001b[0;31mFile:\u001b[0m      ~/miniconda3/envs/atac_testing/lib/python3.11/site-packages/atacnet/atacnet.py\n",
       "\u001b[0;31mType:\u001b[0m      function"
      ]
     },
     "metadata": {},
     "output_type": "display_data"
    }
   ],
   "source": [
    "?an.add_region_infos"
   ]
  },
  {
   "cell_type": "code",
   "execution_count": 4,
   "id": "a1122fa9-1917-4899-beb6-ffa6d58b1d4d",
   "metadata": {},
   "outputs": [],
   "source": [
    "import numpy as np\n",
    "import pandas as pd\n",
    "import anndata as ad\n",
    "\n",
    "import scipy as sp\n",
    "from scipy import linalg\n",
    "from sklearn.datasets import make_sparse_spd_matrix\n",
    "import matplotlib.pyplot as plt"
   ]
  },
  {
   "cell_type": "markdown",
   "id": "b5b35075-2b58-4011-944d-316379912fe0",
   "metadata": {},
   "source": [
    "# Test with sparse covariance true matrix as GT"
   ]
  },
  {
   "cell_type": "markdown",
   "id": "3972a885-0c5c-4378-81c2-26b7cfdee1f6",
   "metadata": {
    "tags": []
   },
   "source": [
    "### 0. Create fake AnnData"
   ]
  },
  {
   "cell_type": "code",
   "execution_count": 5,
   "id": "79295862-9df3-4fa4-a32c-0931c73c705f",
   "metadata": {},
   "outputs": [],
   "source": [
    "# Create fake single-cell atac-seq data\n",
    "nb_cells = 300\n",
    "nb_chr = 10\n",
    "nb_regions_per_chr = 200\n",
    "between_reg = 2000\n",
    "size_reg = 50\n",
    "\n",
    "counts = []\n",
    "for chr in range(nb_chr):\n",
    "    counts.append(pd.DataFrame(np.random.randint(0,100, size=(nb_cells, nb_regions_per_chr)),\n",
    "                        index=['Cell_'+j for j in map(str, range(nb_cells))],\n",
    "                        columns=['chr'+str(chr)+'_'+str(i)+'_'+str(i+size_reg) for i in range(1, nb_regions_per_chr*between_reg+1, between_reg)]))\n",
    "atac = ad.AnnData(pd.concat(counts, axis=1))"
   ]
  },
  {
   "cell_type": "code",
   "execution_count": 6,
   "id": "f1707268-8d8f-49bb-ae0a-75c037392b22",
   "metadata": {},
   "outputs": [],
   "source": [
    "distance_threshold = 50000"
   ]
  },
  {
   "cell_type": "markdown",
   "id": "56bbfdba-4447-4778-b4d7-83be18c8923f",
   "metadata": {
    "tags": []
   },
   "source": [
    "### 1. Add region position in AnnData.obs"
   ]
  },
  {
   "cell_type": "code",
   "execution_count": 7,
   "id": "2feb1282-0e2b-4e10-bb8b-8f448e4ca2a6",
   "metadata": {},
   "outputs": [],
   "source": [
    "an.add_region_infos(atac)"
   ]
  },
  {
   "cell_type": "markdown",
   "id": "d3ac14f6-fd5e-46cd-89fd-1b583802998c",
   "metadata": {
    "tags": []
   },
   "source": [
    "### 2. Replace random data with fake cov matrix"
   ]
  },
  {
   "cell_type": "code",
   "execution_count": 8,
   "id": "fe157d99-c262-4009-8975-fe59f145ebc9",
   "metadata": {},
   "outputs": [],
   "source": [
    "n_samples, n_features = 300, nb_regions_per_chr\n",
    "\n",
    "prng = np.random.RandomState(0)\n",
    "prec = make_sparse_spd_matrix(\n",
    "    n_features, alpha=0.98, smallest_coef=0.4, largest_coef=0.7, random_state=prng\n",
    ")\n",
    "cov = linalg.inv(prec)\n",
    "\n",
    "#cov with only potential connections\n",
    "possible_co = sp.sparse.csr_matrix(an.atacnet.get_distances_regions(atac)<distance_threshold/2)[:cov.shape[0],:cov.shape[1]]\n",
    "possible_co = sp.sparse.coo_matrix(possible_co).toarray() + sp.sparse.coo_matrix(possible_co).toarray().T \n",
    "cov = np.eye(len(cov))*np.diag(cov) + possible_co*cov \n",
    "d = np.sqrt(np.diag(cov))\n",
    "cov /= d\n",
    "cov /= d[:, np.newaxis]\n",
    "prec *= d\n",
    "prec *= d[:, np.newaxis]\n",
    "X = prng.multivariate_normal(np.zeros(n_features), cov, size=n_samples)\n",
    "X -= X.mean(axis=0)\n",
    "X /= X.std(axis=0)\n",
    "\n",
    "X_ = np.concatenate([X]*nb_chr, axis=1)\n",
    "atac.X = np.abs(X_)\n",
    "atac.X = np.where(X_<0, 0, X_)"
   ]
  },
  {
   "cell_type": "markdown",
   "id": "ec6c2bcd-2549-43f1-bef3-f8fe6489d369",
   "metadata": {
    "tags": []
   },
   "source": [
    "### 2.A. Remove Null rows"
   ]
  },
  {
   "cell_type": "code",
   "execution_count": 9,
   "id": "30d98f97-b3b5-4d21-ae8f-4de6c9797f29",
   "metadata": {
    "tags": []
   },
   "outputs": [
    {
     "data": {
      "text/plain": [
       "AnnData object with n_obs × n_vars = 300 × 2000\n",
       "    var: 'chromosome', 'start', 'end', 'n_cells'"
      ]
     },
     "execution_count": 9,
     "metadata": {},
     "output_type": "execute_result"
    }
   ],
   "source": [
    "sc.pp.filter_genes(atac, min_cells=1)\n",
    "atac"
   ]
  },
  {
   "cell_type": "markdown",
   "id": "6d5c7a34-66cc-4587-b8d5-e485dc975fd8",
   "metadata": {
    "tags": []
   },
   "source": [
    "### 2.B. Compute pseudocells"
   ]
  },
  {
   "cell_type": "code",
   "execution_count": 10,
   "id": "2d8f7966-3f9c-4d73-bd67-5bef4fabd53f",
   "metadata": {
    "scrolled": true,
    "tags": []
   },
   "outputs": [],
   "source": [
    "# To come soon !"
   ]
  },
  {
   "cell_type": "markdown",
   "id": "23c4e2ef-c346-4c63-9efb-8e4bbeb95cb2",
   "metadata": {},
   "source": [
    "### 3 Calculate co-accessibility"
   ]
  },
  {
   "cell_type": "code",
   "execution_count": 11,
   "id": "b0e0cb62-fab3-4d7f-bd0f-15ab43045b39",
   "metadata": {
    "scrolled": true,
    "tags": []
   },
   "outputs": [
    {
     "data": {
      "application/vnd.jupyter.widget-view+json": {
       "model_id": "1de84b32f2f24acfb1f50faf552fdccb",
       "version_major": 2,
       "version_minor": 0
      },
      "text/plain": [
       "Output()"
      ]
     },
     "metadata": {},
     "output_type": "display_data"
    },
    {
     "data": {
      "text/html": [
       "<pre style=\"white-space:pre;overflow-x:auto;line-height:normal;font-family:Menlo,'DejaVu Sans Mono',consolas,'Courier New',monospace\"></pre>\n"
      ],
      "text/plain": []
     },
     "metadata": {},
     "output_type": "display_data"
    },
    {
     "data": {
      "text/html": [
       "<pre style=\"white-space:pre;overflow-x:auto;line-height:normal;font-family:Menlo,'DejaVu Sans Mono',consolas,'Courier New',monospace\">\n",
       "</pre>\n"
      ],
      "text/plain": [
       "\n"
      ]
     },
     "metadata": {},
     "output_type": "display_data"
    },
    {
     "data": {
      "application/vnd.jupyter.widget-view+json": {
       "model_id": "f0e9df4ef5a04e92957c739f84cabb95",
       "version_major": 2,
       "version_minor": 0
      },
      "text/plain": [
       "Output()"
      ]
     },
     "metadata": {},
     "output_type": "display_data"
    },
    {
     "name": "stdout",
     "output_type": "stream",
     "text": [
      "Starting to process chromosomes : ['chr0' 'chr1' 'chr2' 'chr3' 'chr4' 'chr5' 'chr6' 'chr7' 'chr8' 'chr9']\n"
     ]
    },
    {
     "data": {
      "text/html": [
       "<pre style=\"white-space:pre;overflow-x:auto;line-height:normal;font-family:Menlo,'DejaVu Sans Mono',consolas,'Courier New',monospace\"></pre>\n"
      ],
      "text/plain": []
     },
     "metadata": {},
     "output_type": "display_data"
    },
    {
     "data": {
      "text/html": [
       "<pre style=\"white-space:pre;overflow-x:auto;line-height:normal;font-family:Menlo,'DejaVu Sans Mono',consolas,'Courier New',monospace\">\n",
       "</pre>\n"
      ],
      "text/plain": [
       "\n"
      ]
     },
     "metadata": {},
     "output_type": "display_data"
    },
    {
     "data": {
      "application/vnd.jupyter.widget-view+json": {
       "model_id": "32380aa67c3741c88d6f9f9c73924084",
       "version_major": 2,
       "version_minor": 0
      },
      "text/plain": [
       "Output()"
      ]
     },
     "metadata": {},
     "output_type": "display_data"
    },
    {
     "name": "stdout",
     "output_type": "stream",
     "text": [
      "Finishing to process chromosomes : ['chr0' 'chr1' 'chr2' 'chr3' 'chr4' 'chr5' 'chr6' 'chr7' 'chr8' 'chr9']\n"
     ]
    },
    {
     "data": {
      "text/html": [
       "<pre style=\"white-space:pre;overflow-x:auto;line-height:normal;font-family:Menlo,'DejaVu Sans Mono',consolas,'Courier New',monospace\"></pre>\n"
      ],
      "text/plain": []
     },
     "metadata": {},
     "output_type": "display_data"
    },
    {
     "data": {
      "text/html": [
       "<pre style=\"white-space:pre;overflow-x:auto;line-height:normal;font-family:Menlo,'DejaVu Sans Mono',consolas,'Courier New',monospace\">\n",
       "</pre>\n"
      ],
      "text/plain": [
       "\n"
      ]
     },
     "metadata": {},
     "output_type": "display_data"
    },
    {
     "name": "stdout",
     "output_type": "stream",
     "text": [
      "Averaging co-accessibility scores across windows...\n",
      "Done !\n"
     ]
    }
   ],
   "source": [
    "an.compute_atac_network(\n",
    "    atac, #metacells,\n",
    "    window_size=distance_threshold,\n",
    "    unit_distance = 1000,\n",
    "    distance_constraint=distance_threshold/2,\n",
    "    n_samples=50,\n",
    "    n_samples_maxtry=100,\n",
    "    max_alpha_iteration=60\n",
    ")"
   ]
  },
  {
   "cell_type": "markdown",
   "id": "69f7dc04-4e27-4b18-a368-8306078e6e46",
   "metadata": {},
   "source": [
    "*Can be stored externally using sliding_graphica_lasso*"
   ]
  },
  {
   "cell_type": "code",
   "execution_count": 12,
   "id": "415223fa-1643-47cf-a1d8-bc8ae52578fd",
   "metadata": {},
   "outputs": [],
   "source": [
    "atac.X = sp.sparse.csr_matrix(atac.X)\n",
    "# atac.X = atac.X.toarray()"
   ]
  },
  {
   "cell_type": "code",
   "execution_count": 13,
   "id": "1825591f-5177-4429-8791-54ef15537e66",
   "metadata": {
    "scrolled": true,
    "tags": []
   },
   "outputs": [
    {
     "data": {
      "application/vnd.jupyter.widget-view+json": {
       "model_id": "1324a14b6f4240e8b03de45cb679f9ca",
       "version_major": 2,
       "version_minor": 0
      },
      "text/plain": [
       "Output()"
      ]
     },
     "metadata": {},
     "output_type": "display_data"
    },
    {
     "data": {
      "text/html": [
       "<pre style=\"white-space:pre;overflow-x:auto;line-height:normal;font-family:Menlo,'DejaVu Sans Mono',consolas,'Courier New',monospace\"></pre>\n"
      ],
      "text/plain": []
     },
     "metadata": {},
     "output_type": "display_data"
    },
    {
     "data": {
      "text/html": [
       "<pre style=\"white-space:pre;overflow-x:auto;line-height:normal;font-family:Menlo,'DejaVu Sans Mono',consolas,'Courier New',monospace\">\n",
       "</pre>\n"
      ],
      "text/plain": [
       "\n"
      ]
     },
     "metadata": {},
     "output_type": "display_data"
    },
    {
     "data": {
      "application/vnd.jupyter.widget-view+json": {
       "model_id": "9ca542dde6714d188f17a8688eff2630",
       "version_major": 2,
       "version_minor": 0
      },
      "text/plain": [
       "Output()"
      ]
     },
     "metadata": {},
     "output_type": "display_data"
    },
    {
     "name": "stdout",
     "output_type": "stream",
     "text": [
      "Starting to process chromosomes : ['chr0' 'chr1' 'chr2' 'chr3' 'chr4' 'chr5' 'chr6' 'chr7' 'chr8' 'chr9']\n"
     ]
    },
    {
     "data": {
      "text/html": [
       "<pre style=\"white-space:pre;overflow-x:auto;line-height:normal;font-family:Menlo,'DejaVu Sans Mono',consolas,'Courier New',monospace\"></pre>\n"
      ],
      "text/plain": []
     },
     "metadata": {},
     "output_type": "display_data"
    },
    {
     "data": {
      "text/html": [
       "<pre style=\"white-space:pre;overflow-x:auto;line-height:normal;font-family:Menlo,'DejaVu Sans Mono',consolas,'Courier New',monospace\">\n",
       "</pre>\n"
      ],
      "text/plain": [
       "\n"
      ]
     },
     "metadata": {},
     "output_type": "display_data"
    },
    {
     "data": {
      "application/vnd.jupyter.widget-view+json": {
       "model_id": "7e3ee3ba15f642c2a1cd1cd32f5aa2d5",
       "version_major": 2,
       "version_minor": 0
      },
      "text/plain": [
       "Output()"
      ]
     },
     "metadata": {},
     "output_type": "display_data"
    },
    {
     "name": "stdout",
     "output_type": "stream",
     "text": [
      "Finishing to process chromosomes : ['chr0' 'chr1' 'chr2' 'chr3' 'chr4' 'chr5' 'chr6' 'chr7' 'chr8' 'chr9']\n"
     ]
    },
    {
     "data": {
      "text/html": [
       "<pre style=\"white-space:pre;overflow-x:auto;line-height:normal;font-family:Menlo,'DejaVu Sans Mono',consolas,'Courier New',monospace\"></pre>\n"
      ],
      "text/plain": []
     },
     "metadata": {},
     "output_type": "display_data"
    },
    {
     "data": {
      "text/html": [
       "<pre style=\"white-space:pre;overflow-x:auto;line-height:normal;font-family:Menlo,'DejaVu Sans Mono',consolas,'Courier New',monospace\">\n",
       "</pre>\n"
      ],
      "text/plain": [
       "\n"
      ]
     },
     "metadata": {},
     "output_type": "display_data"
    },
    {
     "name": "stdout",
     "output_type": "stream",
     "text": [
      "Averaging co-accessibility scores across windows...\n",
      "Done !\n"
     ]
    }
   ],
   "source": [
    "final_score = an.sliding_graphical_lasso(\n",
    "    atac,\n",
    "    window_size=distance_threshold,\n",
    "    unit_distance = 1000,\n",
    "    distance_constraint=distance_threshold/2,\n",
    "    n_samples=50,\n",
    "    n_samples_maxtry=100,\n",
    "    max_alpha_iteration=60\n",
    ")\n",
    "atac.varp['atac_network'] = final_score"
   ]
  },
  {
   "cell_type": "markdown",
   "id": "aad0c904-effe-43a0-b504-d12089176550",
   "metadata": {},
   "source": [
    "### 3. B. Extract list of edges"
   ]
  },
  {
   "cell_type": "code",
   "execution_count": 14,
   "id": "0a26c332-5a1e-4b10-bf0b-3e6339dace60",
   "metadata": {
    "scrolled": true,
    "tags": []
   },
   "outputs": [
    {
     "data": {
      "text/html": [
       "<div>\n",
       "<style scoped>\n",
       "    .dataframe tbody tr th:only-of-type {\n",
       "        vertical-align: middle;\n",
       "    }\n",
       "\n",
       "    .dataframe tbody tr th {\n",
       "        vertical-align: top;\n",
       "    }\n",
       "\n",
       "    .dataframe thead th {\n",
       "        text-align: right;\n",
       "    }\n",
       "</style>\n",
       "<table border=\"1\" class=\"dataframe\">\n",
       "  <thead>\n",
       "    <tr style=\"text-align: right;\">\n",
       "      <th></th>\n",
       "      <th>Peak1</th>\n",
       "      <th>Peak2</th>\n",
       "      <th>score</th>\n",
       "    </tr>\n",
       "  </thead>\n",
       "  <tbody>\n",
       "    <tr>\n",
       "      <th>1883</th>\n",
       "      <td>chr2_160001_160051</td>\n",
       "      <td>chr2_164001_164051</td>\n",
       "      <td>0.249289</td>\n",
       "    </tr>\n",
       "    <tr>\n",
       "      <th>3477</th>\n",
       "      <td>chr4_160001_160051</td>\n",
       "      <td>chr4_164001_164051</td>\n",
       "      <td>0.249289</td>\n",
       "    </tr>\n",
       "    <tr>\n",
       "      <th>5868</th>\n",
       "      <td>chr7_160001_160051</td>\n",
       "      <td>chr7_164001_164051</td>\n",
       "      <td>0.249289</td>\n",
       "    </tr>\n",
       "    <tr>\n",
       "      <th>289</th>\n",
       "      <td>chr0_160001_160051</td>\n",
       "      <td>chr0_164001_164051</td>\n",
       "      <td>0.249289</td>\n",
       "    </tr>\n",
       "    <tr>\n",
       "      <th>7462</th>\n",
       "      <td>chr9_160001_160051</td>\n",
       "      <td>chr9_164001_164051</td>\n",
       "      <td>0.249289</td>\n",
       "    </tr>\n",
       "    <tr>\n",
       "      <th>...</th>\n",
       "      <td>...</td>\n",
       "      <td>...</td>\n",
       "      <td>...</td>\n",
       "    </tr>\n",
       "    <tr>\n",
       "      <th>205</th>\n",
       "      <td>chr0_128001_128051</td>\n",
       "      <td>chr0_130001_130051</td>\n",
       "      <td>-0.114018</td>\n",
       "    </tr>\n",
       "    <tr>\n",
       "      <th>1002</th>\n",
       "      <td>chr1_128001_128051</td>\n",
       "      <td>chr1_130001_130051</td>\n",
       "      <td>-0.114018</td>\n",
       "    </tr>\n",
       "    <tr>\n",
       "      <th>5784</th>\n",
       "      <td>chr7_128001_128051</td>\n",
       "      <td>chr7_130001_130051</td>\n",
       "      <td>-0.114018</td>\n",
       "    </tr>\n",
       "    <tr>\n",
       "      <th>3393</th>\n",
       "      <td>chr4_128001_128051</td>\n",
       "      <td>chr4_130001_130051</td>\n",
       "      <td>-0.114018</td>\n",
       "    </tr>\n",
       "    <tr>\n",
       "      <th>6581</th>\n",
       "      <td>chr8_128001_128051</td>\n",
       "      <td>chr8_130001_130051</td>\n",
       "      <td>-0.114018</td>\n",
       "    </tr>\n",
       "  </tbody>\n",
       "</table>\n",
       "<p>7970 rows × 3 columns</p>\n",
       "</div>"
      ],
      "text/plain": [
       "                   Peak1               Peak2     score\n",
       "1883  chr2_160001_160051  chr2_164001_164051  0.249289\n",
       "3477  chr4_160001_160051  chr4_164001_164051  0.249289\n",
       "5868  chr7_160001_160051  chr7_164001_164051  0.249289\n",
       "289   chr0_160001_160051  chr0_164001_164051  0.249289\n",
       "7462  chr9_160001_160051  chr9_164001_164051  0.249289\n",
       "...                  ...                 ...       ...\n",
       "205   chr0_128001_128051  chr0_130001_130051 -0.114018\n",
       "1002  chr1_128001_128051  chr1_130001_130051 -0.114018\n",
       "5784  chr7_128001_128051  chr7_130001_130051 -0.114018\n",
       "3393  chr4_128001_128051  chr4_130001_130051 -0.114018\n",
       "6581  chr8_128001_128051  chr8_130001_130051 -0.114018\n",
       "\n",
       "[7970 rows x 3 columns]"
      ]
     },
     "execution_count": 14,
     "metadata": {},
     "output_type": "execute_result"
    }
   ],
   "source": [
    "an.extract_atac_links(atac) #metacells)"
   ]
  },
  {
   "cell_type": "markdown",
   "id": "1c66dcfb-1a1d-4309-bf57-ee9b4ee1f3b4",
   "metadata": {},
   "source": [
    "### 4. Plot comparison between co-accessibility scores and covariance matrix used to generate the data"
   ]
  },
  {
   "cell_type": "code",
   "execution_count": 15,
   "id": "6b39291c-d812-4c2f-8754-f295f09a8a30",
   "metadata": {},
   "outputs": [
    {
     "name": "stdout",
     "output_type": "stream",
     "text": [
      "0.025 0.4875\n"
     ]
    },
    {
     "data": {
      "image/png": "[encoded data removed]",
      "text/plain": [
       "<Figure size 1000x1000 with 2 Axes>"
      ]
     },
     "metadata": {},
     "output_type": "display_data"
    }
   ],
   "source": [
    "def diag_block_mat_slicing(L):\n",
    "    shp = L[0].shape\n",
    "    N = len(L)\n",
    "    r = range(N)\n",
    "    out = np.zeros((N,shp[0],N,shp[1]),dtype=int)\n",
    "    out[r,:,r,:] = L\n",
    "    return out.reshape(np.asarray(shp)*N)\n",
    "\n",
    "corrected = final_score.toarray()[:200, :200]\n",
    "corrected = np.where(corrected <= 0, corrected, corrected)\n",
    "corrected = corrected - np.diag(corrected)*np.eye(len(cov))\n",
    "\n",
    "cov_ = cov - np.diag(cov)*np.eye(len(cov))\n",
    "\n",
    "fig, ax = plt.subplots(1, 2, figsize=(10,10))\n",
    "ax[0].imshow(np.abs(corrected))\n",
    "ax[1].imshow(np.where(cov_<=0, cov_, cov_))\n",
    "\n",
    "\n",
    "print((corrected[:20,:20]>0).sum()/(400), (cov_[:20,:20]>0).sum()/(400),)"
   ]
  },
  {
   "cell_type": "code",
   "execution_count": null,
   "id": "bacf88f0-3339-4aa8-b0a3-8aaac651c603",
   "metadata": {},
   "outputs": [
    {
     "name": "stdout",
     "output_type": "stream",
     "text": [
      "0.0 0.89\n"
     ]
    },
    {
     "data": {
      "image/png": "[encoded data removed]",
      "text/plain": [
       "<Figure size 1000x1000 with 2 Axes>"
      ]
     },
     "metadata": {},
     "output_type": "display_data"
    }
   ],
   "source": [
    "corrected = final_score.toarray()[:200, :200]\n",
    "corrected = np.where(corrected <= 0, 0, 1)\n",
    "\n",
    "\n",
    "fig, ax = plt.subplots(1, 2, figsize=(10,10))\n",
    "ax[0].imshow(corrected)\n",
    "ax[1].imshow(np.where(cov<=0, 0, 1))\n",
    "\n",
    "print((corrected[10,10]>0).sum()/(100), (cov[:10,:10]>0).sum()/(100))"
   ]
  },
  {
   "cell_type": "code",
   "execution_count": 17,
   "id": "1e7d7a1a-63cc-49ab-bc86-916a48a45cdb",
   "metadata": {},
   "outputs": [],
   "source": [
    "df = pd.DataFrame([cov.flatten(), corrected.flatten()]).transpose()"
   ]
  },
  {
   "cell_type": "code",
   "execution_count": null,
   "id": "916aade2-0f29-4fda-b9a2-aa14aafda484",
   "metadata": {},
   "outputs": [],
   "source": []
  }
 ],
 "metadata": {
  "kernelspec": {
   "display_name": "Python 3 (ipykernel)",
   "language": "python",
   "name": "python3"
  },
  "language_info": {
   "codemirror_mode": {
    "name": "ipython",
    "version": 3
   },
   "file_extension": ".py",
   "mimetype": "text/x-python",
   "name": "python",
   "nbconvert_exporter": "python",
   "pygments_lexer": "ipython3",
   "version": "3.11.5"
  }
 },
 "nbformat": 4,
 "nbformat_minor": 5
}
