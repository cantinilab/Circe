{
 "cells": [
  {
   "cell_type": "code",
   "execution_count": 3,
   "id": "4f0a488c-3d0c-481b-a63f-0d4e76f89c95",
   "metadata": {
    "scrolled": true,
    "tags": []
   },
   "outputs": [
    {
     "name": "stdout",
     "output_type": "stream",
     "text": [
      "Requirement already satisfied: circe-py in /home/rtrimbou/miniconda3/envs/test_circe_pip/lib/python3.12/site-packages (0.1.8)\n",
      "Requirement already satisfied: joblib<2.0.0,>=1.1.0 in /home/rtrimbou/miniconda3/envs/test_circe_pip/lib/python3.12/site-packages (from circe-py) (1.4.2)\n",
      "Requirement already satisfied: numpy<2.0.0,>=1.25.0 in /home/rtrimbou/miniconda3/envs/test_circe_pip/lib/python3.12/site-packages (from circe-py) (1.26.4)\n",
      "Requirement already satisfied: pandas<3.0.0,>=2.1.1 in /home/rtrimbou/miniconda3/envs/test_circe_pip/lib/python3.12/site-packages (from circe-py) (2.2.2)\n",
      "Requirement already satisfied: rich<11.0.0,>=10.12.0 in /home/rtrimbou/miniconda3/envs/test_circe_pip/lib/python3.12/site-packages (from circe-py) (10.16.2)\n",
      "Requirement already satisfied: scanpy<2.0.0,>=1.8.1 in /home/rtrimbou/miniconda3/envs/test_circe_pip/lib/python3.12/site-packages (from circe-py) (1.10.2)\n",
      "Requirement already satisfied: scikit-learn<2.0.0,>=1.3.1 in /home/rtrimbou/miniconda3/envs/test_circe_pip/lib/python3.12/site-packages (from circe-py) (1.5.1)\n",
      "Requirement already satisfied: python-dateutil>=2.8.2 in /home/rtrimbou/miniconda3/envs/test_circe_pip/lib/python3.12/site-packages (from pandas<3.0.0,>=2.1.1->circe-py) (2.9.0)\n",
      "Requirement already satisfied: pytz>=2020.1 in /home/rtrimbou/miniconda3/envs/test_circe_pip/lib/python3.12/site-packages (from pandas<3.0.0,>=2.1.1->circe-py) (2024.1)\n",
      "Requirement already satisfied: tzdata>=2022.7 in /home/rtrimbou/miniconda3/envs/test_circe_pip/lib/python3.12/site-packages (from pandas<3.0.0,>=2.1.1->circe-py) (2024.1)\n",
      "Requirement already satisfied: colorama<0.5.0,>=0.4.0 in /home/rtrimbou/miniconda3/envs/test_circe_pip/lib/python3.12/site-packages (from rich<11.0.0,>=10.12.0->circe-py) (0.4.6)\n",
      "Requirement already satisfied: commonmark<0.10.0,>=0.9.0 in /home/rtrimbou/miniconda3/envs/test_circe_pip/lib/python3.12/site-packages (from rich<11.0.0,>=10.12.0->circe-py) (0.9.1)\n",
      "Requirement already satisfied: pygments<3.0.0,>=2.6.0 in /home/rtrimbou/miniconda3/envs/test_circe_pip/lib/python3.12/site-packages (from rich<11.0.0,>=10.12.0->circe-py) (2.18.0)\n",
      "Requirement already satisfied: anndata>=0.8 in /home/rtrimbou/miniconda3/envs/test_circe_pip/lib/python3.12/site-packages (from scanpy<2.0.0,>=1.8.1->circe-py) (0.10.8)\n",
      "Requirement already satisfied: h5py>=3.1 in /home/rtrimbou/miniconda3/envs/test_circe_pip/lib/python3.12/site-packages (from scanpy<2.0.0,>=1.8.1->circe-py) (3.11.0)\n",
      "Requirement already satisfied: legacy-api-wrap>=1.4 in /home/rtrimbou/miniconda3/envs/test_circe_pip/lib/python3.12/site-packages (from scanpy<2.0.0,>=1.8.1->circe-py) (1.4)\n",
      "Requirement already satisfied: matplotlib>=3.6 in /home/rtrimbou/miniconda3/envs/test_circe_pip/lib/python3.12/site-packages (from scanpy<2.0.0,>=1.8.1->circe-py) (3.9.1)\n",
      "Requirement already satisfied: natsort in /home/rtrimbou/miniconda3/envs/test_circe_pip/lib/python3.12/site-packages (from scanpy<2.0.0,>=1.8.1->circe-py) (8.4.0)\n",
      "Requirement already satisfied: networkx>=2.7 in /home/rtrimbou/miniconda3/envs/test_circe_pip/lib/python3.12/site-packages (from scanpy<2.0.0,>=1.8.1->circe-py) (3.3)\n",
      "Requirement already satisfied: numba>=0.56 in /home/rtrimbou/miniconda3/envs/test_circe_pip/lib/python3.12/site-packages (from scanpy<2.0.0,>=1.8.1->circe-py) (0.60.0)\n",
      "Requirement already satisfied: packaging>=21.3 in /home/rtrimbou/miniconda3/envs/test_circe_pip/lib/python3.12/site-packages (from scanpy<2.0.0,>=1.8.1->circe-py) (24.1)\n",
      "Requirement already satisfied: patsy in /home/rtrimbou/miniconda3/envs/test_circe_pip/lib/python3.12/site-packages (from scanpy<2.0.0,>=1.8.1->circe-py) (0.5.6)\n",
      "Requirement already satisfied: pynndescent>=0.5 in /home/rtrimbou/miniconda3/envs/test_circe_pip/lib/python3.12/site-packages (from scanpy<2.0.0,>=1.8.1->circe-py) (0.5.13)\n",
      "Requirement already satisfied: scipy>=1.8 in /home/rtrimbou/miniconda3/envs/test_circe_pip/lib/python3.12/site-packages (from scanpy<2.0.0,>=1.8.1->circe-py) (1.14.0)\n",
      "Requirement already satisfied: seaborn>=0.13 in /home/rtrimbou/miniconda3/envs/test_circe_pip/lib/python3.12/site-packages (from scanpy<2.0.0,>=1.8.1->circe-py) (0.13.2)\n",
      "Requirement already satisfied: session-info in /home/rtrimbou/miniconda3/envs/test_circe_pip/lib/python3.12/site-packages (from scanpy<2.0.0,>=1.8.1->circe-py) (1.0.0)\n",
      "Requirement already satisfied: statsmodels>=0.13 in /home/rtrimbou/miniconda3/envs/test_circe_pip/lib/python3.12/site-packages (from scanpy<2.0.0,>=1.8.1->circe-py) (0.14.2)\n",
      "Requirement already satisfied: tqdm in /home/rtrimbou/miniconda3/envs/test_circe_pip/lib/python3.12/site-packages (from scanpy<2.0.0,>=1.8.1->circe-py) (4.66.4)\n",
      "Requirement already satisfied: umap-learn!=0.5.0,>=0.5 in /home/rtrimbou/miniconda3/envs/test_circe_pip/lib/python3.12/site-packages (from scanpy<2.0.0,>=1.8.1->circe-py) (0.5.6)\n",
      "Requirement already satisfied: threadpoolctl>=3.1.0 in /home/rtrimbou/miniconda3/envs/test_circe_pip/lib/python3.12/site-packages (from scikit-learn<2.0.0,>=1.3.1->circe-py) (3.5.0)\n",
      "Requirement already satisfied: array-api-compat!=1.5,>1.4 in /home/rtrimbou/miniconda3/envs/test_circe_pip/lib/python3.12/site-packages (from anndata>=0.8->scanpy<2.0.0,>=1.8.1->circe-py) (1.7.1)\n",
      "Requirement already satisfied: contourpy>=1.0.1 in /home/rtrimbou/miniconda3/envs/test_circe_pip/lib/python3.12/site-packages (from matplotlib>=3.6->scanpy<2.0.0,>=1.8.1->circe-py) (1.2.1)\n",
      "Requirement already satisfied: cycler>=0.10 in /home/rtrimbou/miniconda3/envs/test_circe_pip/lib/python3.12/site-packages (from matplotlib>=3.6->scanpy<2.0.0,>=1.8.1->circe-py) (0.12.1)\n",
      "Requirement already satisfied: fonttools>=4.22.0 in /home/rtrimbou/miniconda3/envs/test_circe_pip/lib/python3.12/site-packages (from matplotlib>=3.6->scanpy<2.0.0,>=1.8.1->circe-py) (4.53.1)\n",
      "Requirement already satisfied: kiwisolver>=1.3.1 in /home/rtrimbou/miniconda3/envs/test_circe_pip/lib/python3.12/site-packages (from matplotlib>=3.6->scanpy<2.0.0,>=1.8.1->circe-py) (1.4.5)\n",
      "Requirement already satisfied: pillow>=8 in /home/rtrimbou/miniconda3/envs/test_circe_pip/lib/python3.12/site-packages (from matplotlib>=3.6->scanpy<2.0.0,>=1.8.1->circe-py) (10.4.0)\n",
      "Requirement already satisfied: pyparsing>=2.3.1 in /home/rtrimbou/miniconda3/envs/test_circe_pip/lib/python3.12/site-packages (from matplotlib>=3.6->scanpy<2.0.0,>=1.8.1->circe-py) (3.1.2)\n",
      "Requirement already satisfied: llvmlite<0.44,>=0.43.0dev0 in /home/rtrimbou/miniconda3/envs/test_circe_pip/lib/python3.12/site-packages (from numba>=0.56->scanpy<2.0.0,>=1.8.1->circe-py) (0.43.0)\n",
      "Requirement already satisfied: six>=1.5 in /home/rtrimbou/miniconda3/envs/test_circe_pip/lib/python3.12/site-packages (from python-dateutil>=2.8.2->pandas<3.0.0,>=2.1.1->circe-py) (1.16.0)\n",
      "Requirement already satisfied: stdlib-list in /home/rtrimbou/miniconda3/envs/test_circe_pip/lib/python3.12/site-packages (from session-info->scanpy<2.0.0,>=1.8.1->circe-py) (0.10.0)\n",
      "Note: you may need to restart the kernel to use updated packages.\n"
     ]
    }
   ],
   "source": [
    "pip install circe-py"
   ]
  },
  {
   "cell_type": "code",
   "execution_count": 4,
   "id": "18bcf460-6d87-487c-8433-7fa9f898970a",
   "metadata": {},
   "outputs": [],
   "source": [
    "import numpy as np\n",
    "import circe as ci\n",
    "import circe.metacells as circe_metacells\n",
    "import scanpy as sc\n",
    "import scipy as sp"
   ]
  },
  {
   "cell_type": "markdown",
   "id": "b5b35075-2b58-4011-944d-316379912fe0",
   "metadata": {},
   "source": [
    "# Test with sparse covariance true matrix as GT"
   ]
  },
  {
   "cell_type": "markdown",
   "id": "3972a885-0c5c-4378-81c2-26b7cfdee1f6",
   "metadata": {
    "tags": []
   },
   "source": [
    "### 0. Create fake AnnData"
   ]
  },
  {
   "cell_type": "markdown",
   "id": "1d0ec88e-0410-4e5c-a2d1-beb196b02b16",
   "metadata": {},
   "source": [
    "This data doesn't contain strong correlation between fake regions, the score will then be low. \n",
    "\n",
    "It will still allow us to demonstrate how to use Circe. :)"
   ]
  },
  {
   "cell_type": "code",
   "execution_count": 5,
   "id": "79295862-9df3-4fa4-a32c-0931c73c705f",
   "metadata": {},
   "outputs": [],
   "source": [
    "atac = sc.datasets.blobs(n_centers=10, n_variables=2_000, n_observations=300, random_state=0)\n",
    "atac.X = np.random.poisson(lam=1, size=atac.X.shape)\n",
    "cell_names = [f\"cell_{i}\" for i in range(1, atac.shape[0]+1)]\n",
    "# number of chr_start_end region names\n",
    "region_names = [[f\"chr{i}_{str(j)}_{str(j+150)}\" \n",
    "                 for j in range(1, 10000*400+1, 10000)] \n",
    "                for i in range(1, 6)]\n",
    "regions_names = [item for sublist in region_names for item in sublist]\n",
    "atac.var_names = regions_names\n",
    "atac.obs_names = cell_names"
   ]
  },
  {
   "cell_type": "code",
   "execution_count": 6,
   "id": "f1707268-8d8f-49bb-ae0a-75c037392b22",
   "metadata": {},
   "outputs": [],
   "source": [
    "distance_threshold = 250_000"
   ]
  },
  {
   "cell_type": "markdown",
   "id": "56bbfdba-4447-4778-b4d7-83be18c8923f",
   "metadata": {
    "tags": []
   },
   "source": [
    "### 1. Add region position in AnnData.obs"
   ]
  },
  {
   "cell_type": "code",
   "execution_count": 7,
   "id": "2feb1282-0e2b-4e10-bb8b-8f448e4ca2a6",
   "metadata": {},
   "outputs": [],
   "source": [
    "atac = ci.add_region_infos(atac)"
   ]
  },
  {
   "cell_type": "markdown",
   "id": "d3ac14f6-fd5e-46cd-89fd-1b583802998c",
   "metadata": {
    "tags": []
   },
   "source": [
    "### 2. Replace random data with fake cov matrix"
   ]
  },
  {
   "cell_type": "markdown",
   "id": "ec6c2bcd-2549-43f1-bef3-f8fe6489d369",
   "metadata": {
    "tags": []
   },
   "source": [
    "### 2.A. Remove Null rows"
   ]
  },
  {
   "cell_type": "code",
   "execution_count": 8,
   "id": "30d98f97-b3b5-4d21-ae8f-4de6c9797f29",
   "metadata": {
    "tags": []
   },
   "outputs": [
    {
     "name": "stderr",
     "output_type": "stream",
     "text": [
      "/home/rtrimbou/miniconda3/envs/test_circe_pip/lib/python3.12/site-packages/scanpy/preprocessing/_simple.py:282: ImplicitModificationWarning: Trying to modify attribute `.var` of view, initializing view as actual.\n",
      "  adata.var[\"n_cells\"] = number\n"
     ]
    },
    {
     "data": {
      "text/plain": [
       "AnnData object with n_obs × n_vars = 300 × 2000\n",
       "    obs: 'blobs', 'n_genes'\n",
       "    var: 'chromosome', 'start', 'end', 'n_cells'"
      ]
     },
     "execution_count": 8,
     "metadata": {},
     "output_type": "execute_result"
    }
   ],
   "source": [
    "sc.pp.filter_genes(atac, min_cells=1,)\n",
    "sc.pp.filter_cells(atac, min_genes=1,)\n",
    "atac"
   ]
  },
  {
   "cell_type": "markdown",
   "id": "6d5c7a34-66cc-4587-b8d5-e485dc975fd8",
   "metadata": {
    "tags": []
   },
   "source": [
    "### 2.B. Compute pseudocells"
   ]
  },
  {
   "cell_type": "code",
   "execution_count": 9,
   "id": "2d8f7966-3f9c-4d73-bd67-5bef4fabd53f",
   "metadata": {
    "scrolled": true,
    "tags": []
   },
   "outputs": [
    {
     "data": {
      "application/vnd.jupyter.widget-view+json": {
       "model_id": "6101107cfd294bde9ddb2107ad96fded",
       "version_major": 2,
       "version_minor": 0
      },
      "text/plain": [
       "Output()"
      ]
     },
     "metadata": {},
     "output_type": "display_data"
    },
    {
     "data": {
      "text/html": [
       "<pre style=\"white-space:pre;overflow-x:auto;line-height:normal;font-family:Menlo,'DejaVu Sans Mono',consolas,'Courier New',monospace\"></pre>\n"
      ],
      "text/plain": []
     },
     "metadata": {},
     "output_type": "display_data"
    },
    {
     "data": {
      "text/html": [
       "<pre style=\"white-space:pre;overflow-x:auto;line-height:normal;font-family:Menlo,'DejaVu Sans Mono',consolas,'Courier New',monospace\">\n",
       "</pre>\n"
      ],
      "text/plain": [
       "\n"
      ]
     },
     "metadata": {},
     "output_type": "display_data"
    }
   ],
   "source": [
    "metacells = circe_metacells.compute_metacells(atac)"
   ]
  },
  {
   "cell_type": "markdown",
   "id": "23c4e2ef-c346-4c63-9efb-8e4bbeb95cb2",
   "metadata": {},
   "source": [
    "### 3 Calculate co-accessibility"
   ]
  },
  {
   "cell_type": "code",
   "execution_count": 10,
   "id": "b0e0cb62-fab3-4d7f-bd0f-15ab43045b39",
   "metadata": {
    "scrolled": true,
    "tags": []
   },
   "outputs": [
    {
     "data": {
      "application/vnd.jupyter.widget-view+json": {
       "model_id": "920c32a2c24149c291f7e8b89f6e70d1",
       "version_major": 2,
       "version_minor": 0
      },
      "text/plain": [
       "Output()"
      ]
     },
     "metadata": {},
     "output_type": "display_data"
    },
    {
     "data": {
      "text/html": [
       "<pre style=\"white-space:pre;overflow-x:auto;line-height:normal;font-family:Menlo,'DejaVu Sans Mono',consolas,'Courier New',monospace\"></pre>\n"
      ],
      "text/plain": []
     },
     "metadata": {},
     "output_type": "display_data"
    },
    {
     "data": {
      "text/html": [
       "<pre style=\"white-space:pre;overflow-x:auto;line-height:normal;font-family:Menlo,'DejaVu Sans Mono',consolas,'Courier New',monospace\">\n",
       "</pre>\n"
      ],
      "text/plain": [
       "\n"
      ]
     },
     "metadata": {},
     "output_type": "display_data"
    },
    {
     "data": {
      "application/vnd.jupyter.widget-view+json": {
       "model_id": "a1e91f268f2f4a23a6e71f28ca1e4c15",
       "version_major": 2,
       "version_minor": 0
      },
      "text/plain": [
       "Output()"
      ]
     },
     "metadata": {},
     "output_type": "display_data"
    },
    {
     "data": {
      "text/html": [
       "<pre style=\"white-space:pre;overflow-x:auto;line-height:normal;font-family:Menlo,'DejaVu Sans Mono',consolas,'Courier New',monospace\"></pre>\n"
      ],
      "text/plain": []
     },
     "metadata": {},
     "output_type": "display_data"
    },
    {
     "data": {
      "text/html": [
       "<pre style=\"white-space:pre;overflow-x:auto;line-height:normal;font-family:Menlo,'DejaVu Sans Mono',consolas,'Courier New',monospace\">\n",
       "</pre>\n"
      ],
      "text/plain": [
       "\n"
      ]
     },
     "metadata": {},
     "output_type": "display_data"
    },
    {
     "data": {
      "application/vnd.jupyter.widget-view+json": {
       "model_id": "7de3792246574a86aea4289ada8ff61e",
       "version_major": 2,
       "version_minor": 0
      },
      "text/plain": [
       "Output()"
      ]
     },
     "metadata": {},
     "output_type": "display_data"
    },
    {
     "data": {
      "text/html": [
       "<pre style=\"white-space:pre;overflow-x:auto;line-height:normal;font-family:Menlo,'DejaVu Sans Mono',consolas,'Courier New',monospace\"></pre>\n"
      ],
      "text/plain": []
     },
     "metadata": {},
     "output_type": "display_data"
    },
    {
     "data": {
      "text/html": [
       "<pre style=\"white-space:pre;overflow-x:auto;line-height:normal;font-family:Menlo,'DejaVu Sans Mono',consolas,'Courier New',monospace\">\n",
       "</pre>\n"
      ],
      "text/plain": [
       "\n"
      ]
     },
     "metadata": {},
     "output_type": "display_data"
    },
    {
     "name": "stdout",
     "output_type": "stream",
     "text": [
      "Averaging co-accessibility scores across windows...\n",
      "Done !\n"
     ]
    }
   ],
   "source": [
    "ci.compute_atac_network(\n",
    "    atac, #metacells,\n",
    "    window_size=distance_threshold,\n",
    "    unit_distance = 1000,\n",
    "    distance_constraint=distance_threshold/2,\n",
    "    n_samples=50,\n",
    "    n_samples_maxtry=100,\n",
    "    max_alpha_iteration=100\n",
    ")"
   ]
  },
  {
   "cell_type": "markdown",
   "id": "69f7dc04-4e27-4b18-a368-8306078e6e46",
   "metadata": {},
   "source": [
    "*1. Circe can also work with sparse covariance matrix.*<br>\n",
    "*2. Connections can also be stored externally using 'sliding_graphical_lasso'.*"
   ]
  },
  {
   "cell_type": "code",
   "execution_count": 11,
   "id": "415223fa-1643-47cf-a1d8-bc8ae52578fd",
   "metadata": {},
   "outputs": [],
   "source": [
    "atac.X = sp.sparse.csr_matrix(atac.X)\n",
    "# atac.X = atac.X.toarray()"
   ]
  },
  {
   "cell_type": "code",
   "execution_count": 12,
   "id": "1825591f-5177-4429-8791-54ef15537e66",
   "metadata": {
    "scrolled": true,
    "tags": []
   },
   "outputs": [
    {
     "data": {
      "application/vnd.jupyter.widget-view+json": {
       "model_id": "ed9526ba5dec4f2b89659abd95e5436a",
       "version_major": 2,
       "version_minor": 0
      },
      "text/plain": [
       "Output()"
      ]
     },
     "metadata": {},
     "output_type": "display_data"
    },
    {
     "data": {
      "text/html": [
       "<pre style=\"white-space:pre;overflow-x:auto;line-height:normal;font-family:Menlo,'DejaVu Sans Mono',consolas,'Courier New',monospace\"></pre>\n"
      ],
      "text/plain": []
     },
     "metadata": {},
     "output_type": "display_data"
    },
    {
     "data": {
      "text/html": [
       "<pre style=\"white-space:pre;overflow-x:auto;line-height:normal;font-family:Menlo,'DejaVu Sans Mono',consolas,'Courier New',monospace\">\n",
       "</pre>\n"
      ],
      "text/plain": [
       "\n"
      ]
     },
     "metadata": {},
     "output_type": "display_data"
    },
    {
     "data": {
      "application/vnd.jupyter.widget-view+json": {
       "model_id": "21142b2e8fc64b05a662c826f1bc26ef",
       "version_major": 2,
       "version_minor": 0
      },
      "text/plain": [
       "Output()"
      ]
     },
     "metadata": {},
     "output_type": "display_data"
    },
    {
     "data": {
      "text/html": [
       "<pre style=\"white-space:pre;overflow-x:auto;line-height:normal;font-family:Menlo,'DejaVu Sans Mono',consolas,'Courier New',monospace\"></pre>\n"
      ],
      "text/plain": []
     },
     "metadata": {},
     "output_type": "display_data"
    },
    {
     "data": {
      "text/html": [
       "<pre style=\"white-space:pre;overflow-x:auto;line-height:normal;font-family:Menlo,'DejaVu Sans Mono',consolas,'Courier New',monospace\">\n",
       "</pre>\n"
      ],
      "text/plain": [
       "\n"
      ]
     },
     "metadata": {},
     "output_type": "display_data"
    },
    {
     "data": {
      "application/vnd.jupyter.widget-view+json": {
       "model_id": "d3f3432d89c7423493993efcc029ce01",
       "version_major": 2,
       "version_minor": 0
      },
      "text/plain": [
       "Output()"
      ]
     },
     "metadata": {},
     "output_type": "display_data"
    },
    {
     "data": {
      "text/html": [
       "<pre style=\"white-space:pre;overflow-x:auto;line-height:normal;font-family:Menlo,'DejaVu Sans Mono',consolas,'Courier New',monospace\"></pre>\n"
      ],
      "text/plain": []
     },
     "metadata": {},
     "output_type": "display_data"
    },
    {
     "data": {
      "text/html": [
       "<pre style=\"white-space:pre;overflow-x:auto;line-height:normal;font-family:Menlo,'DejaVu Sans Mono',consolas,'Courier New',monospace\">\n",
       "</pre>\n"
      ],
      "text/plain": [
       "\n"
      ]
     },
     "metadata": {},
     "output_type": "display_data"
    },
    {
     "name": "stdout",
     "output_type": "stream",
     "text": [
      "Averaging co-accessibility scores across windows...\n",
      "Done !\n"
     ]
    }
   ],
   "source": [
    "final_score = ci.sliding_graphical_lasso(\n",
    "    atac,\n",
    "    window_size=distance_threshold,\n",
    "    unit_distance = 1000,\n",
    "    distance_constraint=distance_threshold/2,\n",
    "    n_samples=50,\n",
    "    n_samples_maxtry=100,\n",
    "    max_alpha_iteration=500\n",
    ")\n",
    "atac.varp['atac_network'] = final_score"
   ]
  },
  {
   "cell_type": "markdown",
   "id": "aad0c904-effe-43a0-b504-d12089176550",
   "metadata": {},
   "source": [
    "### 3. B. Extract list of edges"
   ]
  },
  {
   "cell_type": "code",
   "execution_count": 13,
   "id": "0a26c332-5a1e-4b10-bf0b-3e6339dace60",
   "metadata": {
    "scrolled": true,
    "tags": []
   },
   "outputs": [
    {
     "data": {
      "text/html": [
       "<div>\n",
       "<style scoped>\n",
       "    .dataframe tbody tr th:only-of-type {\n",
       "        vertical-align: middle;\n",
       "    }\n",
       "\n",
       "    .dataframe tbody tr th {\n",
       "        vertical-align: top;\n",
       "    }\n",
       "\n",
       "    .dataframe thead th {\n",
       "        text-align: right;\n",
       "    }\n",
       "</style>\n",
       "<table border=\"1\" class=\"dataframe\">\n",
       "  <thead>\n",
       "    <tr style=\"text-align: right;\">\n",
       "      <th></th>\n",
       "      <th>Peak1</th>\n",
       "      <th>Peak2</th>\n",
       "      <th>score</th>\n",
       "    </tr>\n",
       "  </thead>\n",
       "  <tbody>\n",
       "    <tr>\n",
       "      <th>493</th>\n",
       "      <td>chr1_800001_800151</td>\n",
       "      <td>chr1_900001_900151</td>\n",
       "      <td>0.165401</td>\n",
       "    </tr>\n",
       "    <tr>\n",
       "      <th>2285</th>\n",
       "      <td>chr1_3660001_3660151</td>\n",
       "      <td>chr1_3720001_3720151</td>\n",
       "      <td>0.127582</td>\n",
       "    </tr>\n",
       "    <tr>\n",
       "      <th>5339</th>\n",
       "      <td>chr3_90001_90151</td>\n",
       "      <td>chr3_180001_180151</td>\n",
       "      <td>0.113825</td>\n",
       "    </tr>\n",
       "    <tr>\n",
       "      <th>2062</th>\n",
       "      <td>chr1_3170001_3170151</td>\n",
       "      <td>chr1_3300001_3300151</td>\n",
       "      <td>0.112355</td>\n",
       "    </tr>\n",
       "    <tr>\n",
       "      <th>7544</th>\n",
       "      <td>chr3_3480001_3480151</td>\n",
       "      <td>chr3_3520001_3520151</td>\n",
       "      <td>0.112348</td>\n",
       "    </tr>\n",
       "    <tr>\n",
       "      <th>...</th>\n",
       "      <td>...</td>\n",
       "      <td>...</td>\n",
       "      <td>...</td>\n",
       "    </tr>\n",
       "    <tr>\n",
       "      <th>6336</th>\n",
       "      <td>chr3_1740001_1740151</td>\n",
       "      <td>chr3_1780001_1780151</td>\n",
       "      <td>-0.086076</td>\n",
       "    </tr>\n",
       "    <tr>\n",
       "      <th>10859</th>\n",
       "      <td>chr5_600001_600151</td>\n",
       "      <td>chr5_670001_670151</td>\n",
       "      <td>-0.095203</td>\n",
       "    </tr>\n",
       "    <tr>\n",
       "      <th>13263</th>\n",
       "      <td>chr5_3810001_3810151</td>\n",
       "      <td>chr5_3990001_3990151</td>\n",
       "      <td>-0.096495</td>\n",
       "    </tr>\n",
       "    <tr>\n",
       "      <th>3747</th>\n",
       "      <td>chr2_1480001_1480151</td>\n",
       "      <td>chr2_1500001_1500151</td>\n",
       "      <td>-0.097660</td>\n",
       "    </tr>\n",
       "    <tr>\n",
       "      <th>4813</th>\n",
       "      <td>chr2_3410001_3410151</td>\n",
       "      <td>chr2_3460001_3460151</td>\n",
       "      <td>-0.102974</td>\n",
       "    </tr>\n",
       "  </tbody>\n",
       "</table>\n",
       "<p>13358 rows × 3 columns</p>\n",
       "</div>"
      ],
      "text/plain": [
       "                      Peak1                 Peak2     score\n",
       "493      chr1_800001_800151    chr1_900001_900151  0.165401\n",
       "2285   chr1_3660001_3660151  chr1_3720001_3720151  0.127582\n",
       "5339       chr3_90001_90151    chr3_180001_180151  0.113825\n",
       "2062   chr1_3170001_3170151  chr1_3300001_3300151  0.112355\n",
       "7544   chr3_3480001_3480151  chr3_3520001_3520151  0.112348\n",
       "...                     ...                   ...       ...\n",
       "6336   chr3_1740001_1740151  chr3_1780001_1780151 -0.086076\n",
       "10859    chr5_600001_600151    chr5_670001_670151 -0.095203\n",
       "13263  chr5_3810001_3810151  chr5_3990001_3990151 -0.096495\n",
       "3747   chr2_1480001_1480151  chr2_1500001_1500151 -0.097660\n",
       "4813   chr2_3410001_3410151  chr2_3460001_3460151 -0.102974\n",
       "\n",
       "[13358 rows x 3 columns]"
      ]
     },
     "execution_count": 13,
     "metadata": {},
     "output_type": "execute_result"
    }
   ],
   "source": [
    "circe_network = ci.extract_atac_links(atac) #metacells)\n",
    "circe_network"
   ]
  },
  {
   "cell_type": "markdown",
   "id": "1c66dcfb-1a1d-4309-bf57-ee9b4ee1f3b4",
   "metadata": {},
   "source": [
    "### 4. Plot co-accessibility scores in a window"
   ]
  },
  {
   "cell_type": "code",
   "execution_count": 14,
   "id": "7e256844-e050-49fc-b811-191b0cf17561",
   "metadata": {},
   "outputs": [
    {
     "name": "stdout",
     "output_type": "stream",
     "text": [
      "0.06280730718762548\n"
     ]
    },
    {
     "data": {
      "image/png": "[encoded data removed]",
      "text/plain": [
       "<Figure size 2000x600 with 1 Axes>"
      ]
     },
     "metadata": {},
     "output_type": "display_data"
    }
   ],
   "source": [
    "ci.plot_connections(\n",
    "    circe_network,\n",
    "    chromosome=\"chr1\",\n",
    "    start=10_000,\n",
    "    end=200_000,\n",
    "    sep=(\"_\",\"_\"),\n",
    "    abs_threshold=0.01\n",
    ")"
   ]
  },
  {
   "cell_type": "markdown",
   "id": "78fad8f7",
   "metadata": {},
   "source": [
    "### 5. Subset the AnnData object to a given window"
   ]
  },
  {
   "cell_type": "code",
   "execution_count": 17,
   "id": "f699ad6c",
   "metadata": {},
   "outputs": [],
   "source": [
    "subset_atac = ci.subset_region(atac, \"chr1\", 10_000, 200_000)"
   ]
  },
  {
   "cell_type": "code",
   "execution_count": 18,
   "id": "39d41ca4",
   "metadata": {},
   "outputs": [
    {
     "name": "stderr",
     "output_type": "stream",
     "text": [
      "/home/rtrimbou/miniconda3/envs/test_circe_pip/lib/python3.12/site-packages/circe/circe.py:288: ImplicitModificationWarning: Setting element `.varp['atac_network']` of view, initializing view as actual.\n",
      "  anndata.varp[key] = anndata.varp[key].tocoo()\n"
     ]
    },
    {
     "data": {
      "text/html": [
       "<div>\n",
       "<style scoped>\n",
       "    .dataframe tbody tr th:only-of-type {\n",
       "        vertical-align: middle;\n",
       "    }\n",
       "\n",
       "    .dataframe tbody tr th {\n",
       "        vertical-align: top;\n",
       "    }\n",
       "\n",
       "    .dataframe thead th {\n",
       "        text-align: right;\n",
       "    }\n",
       "</style>\n",
       "<table border=\"1\" class=\"dataframe\">\n",
       "  <thead>\n",
       "    <tr style=\"text-align: right;\">\n",
       "      <th></th>\n",
       "      <th>Peak1</th>\n",
       "      <th>Peak2</th>\n",
       "      <th>score</th>\n",
       "    </tr>\n",
       "  </thead>\n",
       "  <tbody>\n",
       "    <tr>\n",
       "      <th>4</th>\n",
       "      <td>chr1_80001_80151</td>\n",
       "      <td>chr1_120001_120151</td>\n",
       "      <td>6.280731e-02</td>\n",
       "    </tr>\n",
       "    <tr>\n",
       "      <th>10</th>\n",
       "      <td>chr1_180001_180151</td>\n",
       "      <td>chr1_190001_190151</td>\n",
       "      <td>5.437575e-02</td>\n",
       "    </tr>\n",
       "    <tr>\n",
       "      <th>1</th>\n",
       "      <td>chr1_30001_30151</td>\n",
       "      <td>chr1_130001_130151</td>\n",
       "      <td>1.179966e-02</td>\n",
       "    </tr>\n",
       "    <tr>\n",
       "      <th>5</th>\n",
       "      <td>chr1_80001_80151</td>\n",
       "      <td>chr1_150001_150151</td>\n",
       "      <td>5.347813e-06</td>\n",
       "    </tr>\n",
       "    <tr>\n",
       "      <th>7</th>\n",
       "      <td>chr1_120001_120151</td>\n",
       "      <td>chr1_150001_150151</td>\n",
       "      <td>3.358818e-07</td>\n",
       "    </tr>\n",
       "    <tr>\n",
       "      <th>8</th>\n",
       "      <td>chr1_150001_150151</td>\n",
       "      <td>chr1_180001_180151</td>\n",
       "      <td>1.206201e-09</td>\n",
       "    </tr>\n",
       "    <tr>\n",
       "      <th>9</th>\n",
       "      <td>chr1_150001_150151</td>\n",
       "      <td>chr1_190001_190151</td>\n",
       "      <td>6.558811e-11</td>\n",
       "    </tr>\n",
       "    <tr>\n",
       "      <th>6</th>\n",
       "      <td>chr1_100001_100151</td>\n",
       "      <td>chr1_130001_130151</td>\n",
       "      <td>-3.479782e-04</td>\n",
       "    </tr>\n",
       "    <tr>\n",
       "      <th>3</th>\n",
       "      <td>chr1_50001_50151</td>\n",
       "      <td>chr1_160001_160151</td>\n",
       "      <td>-6.601273e-03</td>\n",
       "    </tr>\n",
       "    <tr>\n",
       "      <th>2</th>\n",
       "      <td>chr1_40001_40151</td>\n",
       "      <td>chr1_60001_60151</td>\n",
       "      <td>-6.983465e-03</td>\n",
       "    </tr>\n",
       "    <tr>\n",
       "      <th>0</th>\n",
       "      <td>chr1_30001_30151</td>\n",
       "      <td>chr1_100001_100151</td>\n",
       "      <td>-2.949052e-02</td>\n",
       "    </tr>\n",
       "  </tbody>\n",
       "</table>\n",
       "</div>"
      ],
      "text/plain": [
       "                 Peak1               Peak2         score\n",
       "4     chr1_80001_80151  chr1_120001_120151  6.280731e-02\n",
       "10  chr1_180001_180151  chr1_190001_190151  5.437575e-02\n",
       "1     chr1_30001_30151  chr1_130001_130151  1.179966e-02\n",
       "5     chr1_80001_80151  chr1_150001_150151  5.347813e-06\n",
       "7   chr1_120001_120151  chr1_150001_150151  3.358818e-07\n",
       "8   chr1_150001_150151  chr1_180001_180151  1.206201e-09\n",
       "9   chr1_150001_150151  chr1_190001_190151  6.558811e-11\n",
       "6   chr1_100001_100151  chr1_130001_130151 -3.479782e-04\n",
       "3     chr1_50001_50151  chr1_160001_160151 -6.601273e-03\n",
       "2     chr1_40001_40151    chr1_60001_60151 -6.983465e-03\n",
       "0     chr1_30001_30151  chr1_100001_100151 -2.949052e-02"
      ]
     },
     "execution_count": 18,
     "metadata": {},
     "output_type": "execute_result"
    }
   ],
   "source": [
    "df = ci.extract_atac_links(subset_atac)\n",
    "df"
   ]
  }
 ],
 "metadata": {
  "kernelspec": {
   "display_name": "Python 3 (ipykernel)",
   "language": "python",
   "name": "python3"
  },
  "language_info": {
   "codemirror_mode": {
    "name": "ipython",
    "version": 3
   },
   "file_extension": ".py",
   "mimetype": "text/x-python",
   "name": "python",
   "nbconvert_exporter": "python",
   "pygments_lexer": "ipython3",
   "version": "3.12.4"
  }
 },
 "nbformat": 4,
 "nbformat_minor": 5
}
