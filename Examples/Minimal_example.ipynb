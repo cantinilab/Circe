{
 "cells": [
  {
   "cell_type": "code",
   "execution_count": 1,
   "id": "4f0a488c-3d0c-481b-a63f-0d4e76f89c95",
   "metadata": {
    "scrolled": true,
    "tags": []
   },
   "outputs": [
    {
     "name": "stdout",
     "output_type": "stream",
     "text": [
      "Requirement already satisfied: circe-py in /home/rtrimbou/miniconda3/envs/circe/lib/python3.12/site-packages (0.2.1)\n",
      "Requirement already satisfied: joblib<2.0.0,>=1.1.0 in /home/rtrimbou/miniconda3/envs/circe/lib/python3.12/site-packages (from circe-py) (1.4.2)\n",
      "Requirement already satisfied: numpy<2.0.0,>=1.25.0 in /home/rtrimbou/miniconda3/envs/circe/lib/python3.12/site-packages (from circe-py) (1.26.4)\n",
      "Requirement already satisfied: pandas<3.0.0,>=2.1.1 in /home/rtrimbou/miniconda3/envs/circe/lib/python3.12/site-packages (from circe-py) (2.2.2)\n",
      "Requirement already satisfied: rich<11.0.0,>=10.12.0 in /home/rtrimbou/miniconda3/envs/circe/lib/python3.12/site-packages (from circe-py) (10.16.2)\n",
      "Requirement already satisfied: scanpy<2.0.0,>=1.8.1 in /home/rtrimbou/miniconda3/envs/circe/lib/python3.12/site-packages (from circe-py) (1.10.2)\n",
      "Requirement already satisfied: scikit-learn<2.0.0,>=1.3.1 in /home/rtrimbou/miniconda3/envs/circe/lib/python3.12/site-packages (from circe-py) (1.5.1)\n",
      "Requirement already satisfied: python-dateutil>=2.8.2 in /home/rtrimbou/miniconda3/envs/circe/lib/python3.12/site-packages (from pandas<3.0.0,>=2.1.1->circe-py) (2.9.0.post0)\n",
      "Requirement already satisfied: pytz>=2020.1 in /home/rtrimbou/miniconda3/envs/circe/lib/python3.12/site-packages (from pandas<3.0.0,>=2.1.1->circe-py) (2024.1)\n",
      "Requirement already satisfied: tzdata>=2022.7 in /home/rtrimbou/miniconda3/envs/circe/lib/python3.12/site-packages (from pandas<3.0.0,>=2.1.1->circe-py) (2024.1)\n",
      "Requirement already satisfied: colorama<0.5.0,>=0.4.0 in /home/rtrimbou/miniconda3/envs/circe/lib/python3.12/site-packages (from rich<11.0.0,>=10.12.0->circe-py) (0.4.6)\n",
      "Requirement already satisfied: commonmark<0.10.0,>=0.9.0 in /home/rtrimbou/miniconda3/envs/circe/lib/python3.12/site-packages (from rich<11.0.0,>=10.12.0->circe-py) (0.9.1)\n",
      "Requirement already satisfied: pygments<3.0.0,>=2.6.0 in /home/rtrimbou/miniconda3/envs/circe/lib/python3.12/site-packages (from rich<11.0.0,>=10.12.0->circe-py) (2.15.1)\n",
      "Requirement already satisfied: anndata>=0.8 in /home/rtrimbou/miniconda3/envs/circe/lib/python3.12/site-packages (from scanpy<2.0.0,>=1.8.1->circe-py) (0.10.8)\n",
      "Requirement already satisfied: h5py>=3.1 in /home/rtrimbou/miniconda3/envs/circe/lib/python3.12/site-packages (from scanpy<2.0.0,>=1.8.1->circe-py) (3.11.0)\n",
      "Requirement already satisfied: legacy-api-wrap>=1.4 in /home/rtrimbou/miniconda3/envs/circe/lib/python3.12/site-packages (from scanpy<2.0.0,>=1.8.1->circe-py) (1.4)\n",
      "Requirement already satisfied: matplotlib>=3.6 in /home/rtrimbou/miniconda3/envs/circe/lib/python3.12/site-packages (from scanpy<2.0.0,>=1.8.1->circe-py) (3.9.1)\n",
      "Requirement already satisfied: natsort in /home/rtrimbou/miniconda3/envs/circe/lib/python3.12/site-packages (from scanpy<2.0.0,>=1.8.1->circe-py) (8.4.0)\n",
      "Requirement already satisfied: networkx>=2.7 in /home/rtrimbou/miniconda3/envs/circe/lib/python3.12/site-packages (from scanpy<2.0.0,>=1.8.1->circe-py) (3.3)\n",
      "Requirement already satisfied: numba>=0.56 in /home/rtrimbou/miniconda3/envs/circe/lib/python3.12/site-packages (from scanpy<2.0.0,>=1.8.1->circe-py) (0.60.0)\n",
      "Requirement already satisfied: packaging>=21.3 in /home/rtrimbou/miniconda3/envs/circe/lib/python3.12/site-packages (from scanpy<2.0.0,>=1.8.1->circe-py) (24.1)\n",
      "Requirement already satisfied: patsy in /home/rtrimbou/miniconda3/envs/circe/lib/python3.12/site-packages (from scanpy<2.0.0,>=1.8.1->circe-py) (0.5.6)\n",
      "Requirement already satisfied: pynndescent>=0.5 in /home/rtrimbou/miniconda3/envs/circe/lib/python3.12/site-packages (from scanpy<2.0.0,>=1.8.1->circe-py) (0.5.13)\n",
      "Requirement already satisfied: scipy>=1.8 in /home/rtrimbou/miniconda3/envs/circe/lib/python3.12/site-packages (from scanpy<2.0.0,>=1.8.1->circe-py) (1.14.0)\n",
      "Requirement already satisfied: seaborn>=0.13 in /home/rtrimbou/miniconda3/envs/circe/lib/python3.12/site-packages (from scanpy<2.0.0,>=1.8.1->circe-py) (0.13.2)\n",
      "Requirement already satisfied: session-info in /home/rtrimbou/miniconda3/envs/circe/lib/python3.12/site-packages (from scanpy<2.0.0,>=1.8.1->circe-py) (1.0.0)\n",
      "Requirement already satisfied: statsmodels>=0.13 in /home/rtrimbou/miniconda3/envs/circe/lib/python3.12/site-packages (from scanpy<2.0.0,>=1.8.1->circe-py) (0.14.2)\n",
      "Requirement already satisfied: tqdm in /home/rtrimbou/miniconda3/envs/circe/lib/python3.12/site-packages (from scanpy<2.0.0,>=1.8.1->circe-py) (4.66.4)\n",
      "Requirement already satisfied: umap-learn!=0.5.0,>=0.5 in /home/rtrimbou/miniconda3/envs/circe/lib/python3.12/site-packages (from scanpy<2.0.0,>=1.8.1->circe-py) (0.5.6)\n",
      "Requirement already satisfied: threadpoolctl>=3.1.0 in /home/rtrimbou/miniconda3/envs/circe/lib/python3.12/site-packages (from scikit-learn<2.0.0,>=1.3.1->circe-py) (3.5.0)\n",
      "Requirement already satisfied: array-api-compat!=1.5,>1.4 in /home/rtrimbou/miniconda3/envs/circe/lib/python3.12/site-packages (from anndata>=0.8->scanpy<2.0.0,>=1.8.1->circe-py) (1.7.1)\n",
      "Requirement already satisfied: contourpy>=1.0.1 in /home/rtrimbou/miniconda3/envs/circe/lib/python3.12/site-packages (from matplotlib>=3.6->scanpy<2.0.0,>=1.8.1->circe-py) (1.2.1)\n",
      "Requirement already satisfied: cycler>=0.10 in /home/rtrimbou/miniconda3/envs/circe/lib/python3.12/site-packages (from matplotlib>=3.6->scanpy<2.0.0,>=1.8.1->circe-py) (0.12.1)\n",
      "Requirement already satisfied: fonttools>=4.22.0 in /home/rtrimbou/miniconda3/envs/circe/lib/python3.12/site-packages (from matplotlib>=3.6->scanpy<2.0.0,>=1.8.1->circe-py) (4.53.1)\n",
      "Requirement already satisfied: kiwisolver>=1.3.1 in /home/rtrimbou/miniconda3/envs/circe/lib/python3.12/site-packages (from matplotlib>=3.6->scanpy<2.0.0,>=1.8.1->circe-py) (1.4.5)\n",
      "Requirement already satisfied: pillow>=8 in /home/rtrimbou/miniconda3/envs/circe/lib/python3.12/site-packages (from matplotlib>=3.6->scanpy<2.0.0,>=1.8.1->circe-py) (10.4.0)\n",
      "Requirement already satisfied: pyparsing>=2.3.1 in /home/rtrimbou/miniconda3/envs/circe/lib/python3.12/site-packages (from matplotlib>=3.6->scanpy<2.0.0,>=1.8.1->circe-py) (3.1.2)\n",
      "Requirement already satisfied: llvmlite<0.44,>=0.43.0dev0 in /home/rtrimbou/miniconda3/envs/circe/lib/python3.12/site-packages (from numba>=0.56->scanpy<2.0.0,>=1.8.1->circe-py) (0.43.0)\n",
      "Requirement already satisfied: six>=1.5 in /home/rtrimbou/miniconda3/envs/circe/lib/python3.12/site-packages (from python-dateutil>=2.8.2->pandas<3.0.0,>=2.1.1->circe-py) (1.16.0)\n",
      "Requirement already satisfied: stdlib-list in /home/rtrimbou/miniconda3/envs/circe/lib/python3.12/site-packages (from session-info->scanpy<2.0.0,>=1.8.1->circe-py) (0.10.0)\n",
      "Note: you may need to restart the kernel to use updated packages.\n"
     ]
    }
   ],
   "source": [
    "pip install circe-py"
   ]
  },
  {
   "cell_type": "markdown",
   "id": "091be986-ff7a-4697-9c5a-7f8094642cda",
   "metadata": {},
   "source": [
    "# **Cis co-accessibility network with Circe**"
   ]
  },
  {
   "cell_type": "code",
   "execution_count": 4,
   "id": "9193a460-f984-4899-bb27-f428b64475a1",
   "metadata": {},
   "outputs": [
    {
     "name": "stdout",
     "output_type": "stream",
     "text": [
      "Obtaining file:///home/rtrimbou/ATACNet/circe\n",
      "  Installing build dependencies ... \u001b[?25ldone\n",
      "\u001b[?25h  Checking if build backend supports build_editable ... \u001b[?25ldone\n",
      "\u001b[?25h  Getting requirements to build editable ... \u001b[?25ldone\n",
      "\u001b[?25h  Preparing editable metadata (pyproject.toml) ... \u001b[?25ldone\n",
      "\u001b[?25hRequirement already satisfied: Cython in /home/rtrimbou/miniconda3/lib/python3.10/site-packages (from circe-py==0.3.5) (3.0.2)\n",
      "Requirement already satisfied: numpy<2.0.0 in /home/rtrimbou/miniconda3/lib/python3.10/site-packages (from circe-py==0.3.5) (1.26.4)\n",
      "Requirement already satisfied: pandas>=2.1.1 in /home/rtrimbou/miniconda3/lib/python3.10/site-packages (from circe-py==0.3.5) (2.2.2)\n",
      "Requirement already satisfied: scikit-learn>=1.3.1 in /home/rtrimbou/miniconda3/lib/python3.10/site-packages (from circe-py==0.3.5) (1.4.2)\n",
      "Requirement already satisfied: joblib>=1.1.0 in /home/rtrimbou/miniconda3/lib/python3.10/site-packages (from circe-py==0.3.5) (1.2.0)\n",
      "Requirement already satisfied: scanpy>=1.8.1 in /home/rtrimbou/miniconda3/lib/python3.10/site-packages (from circe-py==0.3.5) (1.10.1)\n",
      "Requirement already satisfied: rich>=10.12.0 in /home/rtrimbou/miniconda3/lib/python3.10/site-packages (from circe-py==0.3.5) (10.16.2)\n",
      "Requirement already satisfied: dask in /home/rtrimbou/miniconda3/lib/python3.10/site-packages (from circe-py==0.3.5) (2024.5.2)\n",
      "Requirement already satisfied: distributed in /home/rtrimbou/miniconda3/lib/python3.10/site-packages (from circe-py==0.3.5) (2024.5.2)\n",
      "Requirement already satisfied: python-dateutil>=2.8.2 in /home/rtrimbou/miniconda3/lib/python3.10/site-packages (from pandas>=2.1.1->circe-py==0.3.5) (2.8.2)\n",
      "Requirement already satisfied: pytz>=2020.1 in /home/rtrimbou/miniconda3/lib/python3.10/site-packages (from pandas>=2.1.1->circe-py==0.3.5) (2023.3.post1)\n",
      "Requirement already satisfied: tzdata>=2022.7 in /home/rtrimbou/miniconda3/lib/python3.10/site-packages (from pandas>=2.1.1->circe-py==0.3.5) (2023.3)\n",
      "Requirement already satisfied: colorama<0.5.0,>=0.4.0 in /home/rtrimbou/miniconda3/lib/python3.10/site-packages (from rich>=10.12.0->circe-py==0.3.5) (0.4.6)\n",
      "Requirement already satisfied: commonmark<0.10.0,>=0.9.0 in /home/rtrimbou/miniconda3/lib/python3.10/site-packages (from rich>=10.12.0->circe-py==0.3.5) (0.9.1)\n",
      "Requirement already satisfied: pygments<3.0.0,>=2.6.0 in /home/rtrimbou/miniconda3/lib/python3.10/site-packages (from rich>=10.12.0->circe-py==0.3.5) (2.15.1)\n",
      "Requirement already satisfied: anndata>=0.8 in /home/rtrimbou/miniconda3/lib/python3.10/site-packages (from scanpy>=1.8.1->circe-py==0.3.5) (0.10.7)\n",
      "Requirement already satisfied: h5py>=3.1 in /home/rtrimbou/miniconda3/lib/python3.10/site-packages (from scanpy>=1.8.1->circe-py==0.3.5) (3.11.0)\n",
      "Requirement already satisfied: legacy-api-wrap>=1.4 in /home/rtrimbou/miniconda3/lib/python3.10/site-packages (from scanpy>=1.8.1->circe-py==0.3.5) (1.4)\n",
      "Requirement already satisfied: matplotlib>=3.6 in /home/rtrimbou/miniconda3/lib/python3.10/site-packages (from scanpy>=1.8.1->circe-py==0.3.5) (3.9.2)\n",
      "Requirement already satisfied: natsort in /home/rtrimbou/miniconda3/lib/python3.10/site-packages (from scanpy>=1.8.1->circe-py==0.3.5) (8.4.0)\n",
      "Requirement already satisfied: networkx>=2.7 in /home/rtrimbou/miniconda3/lib/python3.10/site-packages (from scanpy>=1.8.1->circe-py==0.3.5) (3.3)\n",
      "Requirement already satisfied: numba>=0.56 in /home/rtrimbou/miniconda3/lib/python3.10/site-packages (from scanpy>=1.8.1->circe-py==0.3.5) (0.59.1)\n",
      "Requirement already satisfied: packaging>=21.3 in /home/rtrimbou/miniconda3/lib/python3.10/site-packages (from scanpy>=1.8.1->circe-py==0.3.5) (23.1)\n",
      "Requirement already satisfied: patsy in /home/rtrimbou/miniconda3/lib/python3.10/site-packages (from scanpy>=1.8.1->circe-py==0.3.5) (0.5.3)\n",
      "Requirement already satisfied: pynndescent>=0.5 in /home/rtrimbou/miniconda3/lib/python3.10/site-packages (from scanpy>=1.8.1->circe-py==0.3.5) (0.5.10)\n",
      "Requirement already satisfied: scipy>=1.8 in /home/rtrimbou/miniconda3/lib/python3.10/site-packages (from scanpy>=1.8.1->circe-py==0.3.5) (1.11.3)\n",
      "Requirement already satisfied: seaborn>=0.13 in /home/rtrimbou/miniconda3/lib/python3.10/site-packages (from scanpy>=1.8.1->circe-py==0.3.5) (0.13.2)\n",
      "Requirement already satisfied: session-info in /home/rtrimbou/miniconda3/lib/python3.10/site-packages (from scanpy>=1.8.1->circe-py==0.3.5) (1.0.0)\n",
      "Requirement already satisfied: statsmodels>=0.13 in /home/rtrimbou/miniconda3/lib/python3.10/site-packages (from scanpy>=1.8.1->circe-py==0.3.5) (0.14.0)\n",
      "Requirement already satisfied: tqdm in /home/rtrimbou/miniconda3/lib/python3.10/site-packages (from scanpy>=1.8.1->circe-py==0.3.5) (4.65.0)\n",
      "Requirement already satisfied: umap-learn!=0.5.0,>=0.5 in /home/rtrimbou/miniconda3/lib/python3.10/site-packages (from scanpy>=1.8.1->circe-py==0.3.5) (0.5.3)\n",
      "Requirement already satisfied: threadpoolctl>=2.0.0 in /home/rtrimbou/miniconda3/lib/python3.10/site-packages (from scikit-learn>=1.3.1->circe-py==0.3.5) (3.1.0)\n",
      "Requirement already satisfied: click>=8.1 in /home/rtrimbou/miniconda3/lib/python3.10/site-packages (from dask->circe-py==0.3.5) (8.1.4)\n",
      "Requirement already satisfied: cloudpickle>=1.5.0 in /home/rtrimbou/miniconda3/lib/python3.10/site-packages (from dask->circe-py==0.3.5) (3.0.0)\n",
      "Requirement already satisfied: fsspec>=2021.09.0 in /home/rtrimbou/miniconda3/lib/python3.10/site-packages (from dask->circe-py==0.3.5) (2023.6.0)\n",
      "Requirement already satisfied: partd>=1.2.0 in /home/rtrimbou/miniconda3/lib/python3.10/site-packages (from dask->circe-py==0.3.5) (1.4.2)\n",
      "Requirement already satisfied: pyyaml>=5.3.1 in /home/rtrimbou/miniconda3/lib/python3.10/site-packages (from dask->circe-py==0.3.5) (6.0.1)\n",
      "Requirement already satisfied: toolz>=0.10.0 in /home/rtrimbou/miniconda3/lib/python3.10/site-packages (from dask->circe-py==0.3.5) (0.12.0)\n",
      "Requirement already satisfied: importlib-metadata>=4.13.0 in /home/rtrimbou/miniconda3/lib/python3.10/site-packages (from dask->circe-py==0.3.5) (6.0.0)\n",
      "Requirement already satisfied: jinja2>=2.10.3 in /home/rtrimbou/miniconda3/lib/python3.10/site-packages (from distributed->circe-py==0.3.5) (3.1.2)\n",
      "Requirement already satisfied: locket>=1.0.0 in /home/rtrimbou/miniconda3/lib/python3.10/site-packages (from distributed->circe-py==0.3.5) (1.0.0)\n",
      "Requirement already satisfied: msgpack>=1.0.0 in /home/rtrimbou/miniconda3/lib/python3.10/site-packages (from distributed->circe-py==0.3.5) (1.0.8)\n",
      "Requirement already satisfied: psutil>=5.7.2 in /home/rtrimbou/miniconda3/lib/python3.10/site-packages (from distributed->circe-py==0.3.5) (5.9.0)\n",
      "Requirement already satisfied: sortedcontainers>=2.0.5 in /home/rtrimbou/miniconda3/lib/python3.10/site-packages (from distributed->circe-py==0.3.5) (2.4.0)\n",
      "Requirement already satisfied: tblib>=1.6.0 in /home/rtrimbou/miniconda3/lib/python3.10/site-packages (from distributed->circe-py==0.3.5) (3.0.0)\n",
      "Requirement already satisfied: tornado>=6.0.4 in /home/rtrimbou/miniconda3/lib/python3.10/site-packages (from distributed->circe-py==0.3.5) (6.3.3)\n",
      "Requirement already satisfied: urllib3>=1.24.3 in /home/rtrimbou/miniconda3/lib/python3.10/site-packages (from distributed->circe-py==0.3.5) (1.26.18)\n",
      "Requirement already satisfied: zict>=3.0.0 in /home/rtrimbou/miniconda3/lib/python3.10/site-packages (from distributed->circe-py==0.3.5) (3.0.0)\n",
      "Requirement already satisfied: array-api-compat!=1.5,>1.4 in /home/rtrimbou/miniconda3/lib/python3.10/site-packages (from anndata>=0.8->scanpy>=1.8.1->circe-py==0.3.5) (1.6)\n",
      "Requirement already satisfied: exceptiongroup in /home/rtrimbou/miniconda3/lib/python3.10/site-packages (from anndata>=0.8->scanpy>=1.8.1->circe-py==0.3.5) (1.0.4)\n",
      "Requirement already satisfied: zipp>=0.5 in /home/rtrimbou/miniconda3/lib/python3.10/site-packages (from importlib-metadata>=4.13.0->dask->circe-py==0.3.5) (3.11.0)\n",
      "Requirement already satisfied: MarkupSafe>=2.0 in /home/rtrimbou/miniconda3/lib/python3.10/site-packages (from jinja2>=2.10.3->distributed->circe-py==0.3.5) (2.1.1)\n",
      "Requirement already satisfied: contourpy>=1.0.1 in /home/rtrimbou/miniconda3/lib/python3.10/site-packages (from matplotlib>=3.6->scanpy>=1.8.1->circe-py==0.3.5) (1.2.1)\n",
      "Requirement already satisfied: cycler>=0.10 in /home/rtrimbou/miniconda3/lib/python3.10/site-packages (from matplotlib>=3.6->scanpy>=1.8.1->circe-py==0.3.5) (0.11.0)\n",
      "Requirement already satisfied: fonttools>=4.22.0 in /home/rtrimbou/miniconda3/lib/python3.10/site-packages (from matplotlib>=3.6->scanpy>=1.8.1->circe-py==0.3.5) (4.39.3)\n",
      "Requirement already satisfied: kiwisolver>=1.3.1 in /home/rtrimbou/miniconda3/lib/python3.10/site-packages (from matplotlib>=3.6->scanpy>=1.8.1->circe-py==0.3.5) (1.4.4)\n",
      "Requirement already satisfied: pillow>=8 in /home/rtrimbou/miniconda3/lib/python3.10/site-packages (from matplotlib>=3.6->scanpy>=1.8.1->circe-py==0.3.5) (9.5.0)\n",
      "Requirement already satisfied: pyparsing>=2.3.1 in /home/rtrimbou/miniconda3/lib/python3.10/site-packages (from matplotlib>=3.6->scanpy>=1.8.1->circe-py==0.3.5) (3.0.9)\n",
      "Requirement already satisfied: llvmlite<0.43,>=0.42.0dev0 in /home/rtrimbou/miniconda3/lib/python3.10/site-packages (from numba>=0.56->scanpy>=1.8.1->circe-py==0.3.5) (0.42.0)\n",
      "Requirement already satisfied: six>=1.5 in /home/rtrimbou/miniconda3/lib/python3.10/site-packages (from python-dateutil>=2.8.2->pandas>=2.1.1->circe-py==0.3.5) (1.16.0)\n",
      "Requirement already satisfied: stdlib-list in /home/rtrimbou/miniconda3/lib/python3.10/site-packages (from session-info->scanpy>=1.8.1->circe-py==0.3.5) (0.10.0)\n",
      "Building wheels for collected packages: circe-py\n",
      "  Building editable for circe-py (pyproject.toml) ... \u001b[?25ldone\n",
      "\u001b[?25h  Created wheel for circe-py: filename=circe_py-0.3.5-0.editable-cp310-cp310-linux_x86_64.whl size=14884 sha256=f597784fd384b2b087ce5a52c3f9ed34065ec2f0e57344e12302204b6946114a\n",
      "  Stored in directory: /tmp/pip-ephem-wheel-cache-4o11t6bo/wheels/06/5a/23/bdd6ba9528cfb814fe87ae531ac60685ff8b049382fd6df5e0\n",
      "Successfully built circe-py\n",
      "Installing collected packages: circe-py\n",
      "  Attempting uninstall: circe-py\n",
      "    Found existing installation: circe-py 0.3.2\n",
      "    Uninstalling circe-py-0.3.2:\n",
      "      Successfully uninstalled circe-py-0.3.2\n",
      "Successfully installed circe-py-0.3.5\n",
      "\n",
      "\u001b[1m[\u001b[0m\u001b[34;49mnotice\u001b[0m\u001b[1;39;49m]\u001b[0m\u001b[39;49m A new release of pip is available: \u001b[0m\u001b[31;49m24.2\u001b[0m\u001b[39;49m -> \u001b[0m\u001b[32;49m24.3.1\u001b[0m\n",
      "\u001b[1m[\u001b[0m\u001b[34;49mnotice\u001b[0m\u001b[1;39;49m]\u001b[0m\u001b[39;49m To update, run: \u001b[0m\u001b[32;49mpip3.10 install --upgrade pip\u001b[0m\n",
      "Note: you may need to restart the kernel to use updated packages.\n"
     ]
    }
   ],
   "source": [
    "pip install -e ../."
   ]
  },
  {
   "cell_type": "code",
   "execution_count": 1,
   "id": "18bcf460-6d87-487c-8433-7fa9f898970a",
   "metadata": {},
   "outputs": [],
   "source": [
    "import numpy as np\n",
    "import circe as ci\n",
    "import scanpy as sc\n",
    "import scipy as sp"
   ]
  },
  {
   "cell_type": "code",
   "execution_count": 2,
   "id": "1b067826-34bf-4f3e-808f-6752527ee714",
   "metadata": {},
   "outputs": [
    {
     "name": "stdout",
     "output_type": "stream",
     "text": [
      "Name: circe\n",
      "Version: 0.3.3\n",
      "Summary: \n",
      "Home-page: None\n",
      "Author: Remi-Trimbour\n",
      "Author-email: remi.trimbour@pasteur.fr\n",
      "License: \n",
      "Location: /home/rtrimbou/miniconda3/lib/python3.10/site-packages\n",
      "Requires: Cython, joblib, numpy, pandas, rich, scanpy, scikit-learn\n",
      "Required-by: \n",
      "Note: you may need to restart the kernel to use updated packages.\n"
     ]
    }
   ],
   "source": [
    "pip show circe"
   ]
  },
  {
   "cell_type": "markdown",
   "id": "3972a885-0c5c-4378-81c2-26b7cfdee1f6",
   "metadata": {
    "tags": []
   },
   "source": [
    "#### Create fake AnnData"
   ]
  },
  {
   "cell_type": "markdown",
   "id": "1d0ec88e-0410-4e5c-a2d1-beb196b02b16",
   "metadata": {},
   "source": [
    "This data doesn't contain strong correlation between fake regions, the score will then be low. \n",
    "\n",
    "It will still allow us to demonstrate how to use Circe. :)"
   ]
  },
  {
   "cell_type": "code",
   "execution_count": 3,
   "id": "79295862-9df3-4fa4-a32c-0931c73c705f",
   "metadata": {},
   "outputs": [],
   "source": [
    "atac = sc.datasets.blobs(n_centers=10, n_variables=2_000, n_observations=300, random_state=0)\n",
    "atac.X = np.random.poisson(lam=2, size=atac.X.shape)\n",
    "cell_names = [f\"cell_{i}\" for i in range(1, atac.shape[0]+1)]\n",
    "# number of chr_start_end region names\n",
    "region_names = [[f\"chr{i}_{str(j)}_{str(j+150)}\" \n",
    "                 for j in range(1, 10000*400+1, 10000)] \n",
    "                for i in range(1, 6)]\n",
    "regions_names = [item for sublist in region_names for item in sublist]\n",
    "atac.var_names = regions_names\n",
    "atac.obs_names = cell_names"
   ]
  },
  {
   "cell_type": "markdown",
   "id": "50a80d79-8423-473a-9810-6dc35b7e9900",
   "metadata": {
    "tags": []
   },
   "source": [
    "#### Filter the data"
   ]
  },
  {
   "cell_type": "code",
   "execution_count": 4,
   "id": "30d98f97-b3b5-4d21-ae8f-4de6c9797f29",
   "metadata": {
    "tags": []
   },
   "outputs": [
    {
     "data": {
      "text/plain": [
       "AnnData object with n_obs × n_vars = 300 × 2000\n",
       "    obs: 'blobs', 'n_genes'\n",
       "    var: 'n_cells'"
      ]
     },
     "execution_count": 4,
     "metadata": {},
     "output_type": "execute_result"
    }
   ],
   "source": [
    "sc.pp.filter_genes(atac, min_cells=1)\n",
    "sc.pp.filter_cells(atac, min_genes=1)\n",
    "atac"
   ]
  },
  {
   "cell_type": "markdown",
   "id": "56bbfdba-4447-4778-b4d7-83be18c8923f",
   "metadata": {
    "tags": []
   },
   "source": [
    "### 1. Add region position in AnnData.obs"
   ]
  },
  {
   "cell_type": "markdown",
   "id": "42c7fb90-ff33-4058-b1a0-aaf99ef0719f",
   "metadata": {},
   "source": [
    "Let's first run `add_region_infos` that will <font color=#F98128>**add coordinate annotations**</font> `chr`, `start`, `end` as columns in `atac.var` slot"
   ]
  },
  {
   "cell_type": "code",
   "execution_count": 5,
   "id": "2feb1282-0e2b-4e10-bb8b-8f448e4ca2a6",
   "metadata": {},
   "outputs": [],
   "source": [
    "atac = ci.add_region_infos(atac)"
   ]
  },
  {
   "cell_type": "markdown",
   "id": "6d5c7a34-66cc-4587-b8d5-e485dc975fd8",
   "metadata": {
    "tags": []
   },
   "source": [
    "### 2. Compute pseudocells"
   ]
  },
  {
   "cell_type": "markdown",
   "id": "b38f6946-9c5d-4462-be04-04a930dc5bd2",
   "metadata": {},
   "source": [
    "<font color=#F98128>**Compute metacells**</font> is an interesting step to reduce sparsity in our data, since scATAC-seq data have usually a lot of dropouts."
   ]
  },
  {
   "cell_type": "code",
   "execution_count": 6,
   "id": "2d8f7966-3f9c-4d73-bd67-5bef4fabd53f",
   "metadata": {
    "scrolled": true,
    "tags": []
   },
   "outputs": [
    {
     "name": "stderr",
     "output_type": "stream",
     "text": [
      "/home/rtrimbou/ATACNet/circe/circe/metacells.py:191: ImplicitModificationWarning: Setting element `.obsm['X_lsi']` of view, initializing view as actual.\n",
      "  adata.obsm[\"X_lsi\"] = X_lsi\n"
     ]
    },
    {
     "data": {
      "application/vnd.jupyter.widget-view+json": {
       "model_id": "64d42f7709c4405ab04bed5a0c89d416",
       "version_major": 2,
       "version_minor": 0
      },
      "text/plain": [
       "Output()"
      ]
     },
     "metadata": {},
     "output_type": "display_data"
    },
    {
     "data": {
      "text/html": [
       "<pre style=\"white-space:pre;overflow-x:auto;line-height:normal;font-family:Menlo,'DejaVu Sans Mono',consolas,'Courier New',monospace\"></pre>\n"
      ],
      "text/plain": []
     },
     "metadata": {},
     "output_type": "display_data"
    },
    {
     "data": {
      "text/html": [
       "<pre style=\"white-space:pre;overflow-x:auto;line-height:normal;font-family:Menlo,'DejaVu Sans Mono',consolas,'Courier New',monospace\">\n",
       "</pre>\n"
      ],
      "text/plain": [
       "\n"
      ]
     },
     "metadata": {},
     "output_type": "display_data"
    }
   ],
   "source": [
    "metacells = ci.metacells.compute_metacells(atac)"
   ]
  },
  {
   "cell_type": "markdown",
   "id": "85c4ee0a-eab8-4516-b37a-39504615484d",
   "metadata": {},
   "source": [
    "You can also use your own dimensionality reduction space, that would be stored in the atac.obsm slot"
   ]
  },
  {
   "cell_type": "code",
   "execution_count": 15,
   "id": "72d6916a-8006-4b98-a5ed-645167dbab79",
   "metadata": {},
   "outputs": [],
   "source": [
    "atac.obsm[\"dim\"] = atac.X"
   ]
  },
  {
   "cell_type": "code",
   "execution_count": 16,
   "id": "3ca0b58c-6e96-4847-8a42-f79e011df286",
   "metadata": {},
   "outputs": [
    {
     "name": "stdout",
     "output_type": "stream",
     "text": [
      "Using adata.obsm['dim'] to identify neighboring cells\n"
     ]
    },
    {
     "name": "stderr",
     "output_type": "stream",
     "text": [
      "/home/rtrimbou/miniconda3/lib/python3.10/site-packages/sklearn/neighbors/_base.py:584: UserWarning: cannot use tree with sparse input: using brute force\n",
      "  warnings.warn(\"cannot use tree with sparse input: using brute force\")\n"
     ]
    },
    {
     "data": {
      "application/vnd.jupyter.widget-view+json": {
       "model_id": "2edba2a19b5241d48d62a5d1ab149084",
       "version_major": 2,
       "version_minor": 0
      },
      "text/plain": [
       "Output()"
      ]
     },
     "metadata": {},
     "output_type": "display_data"
    },
    {
     "data": {
      "text/html": [
       "<pre style=\"white-space:pre;overflow-x:auto;line-height:normal;font-family:Menlo,'DejaVu Sans Mono',consolas,'Courier New',monospace\"></pre>\n"
      ],
      "text/plain": []
     },
     "metadata": {},
     "output_type": "display_data"
    },
    {
     "data": {
      "text/html": [
       "<pre style=\"white-space:pre;overflow-x:auto;line-height:normal;font-family:Menlo,'DejaVu Sans Mono',consolas,'Courier New',monospace\">\n",
       "</pre>\n"
      ],
      "text/plain": [
       "\n"
      ]
     },
     "metadata": {},
     "output_type": "display_data"
    },
    {
     "data": {
      "text/plain": [
       "AnnData object with n_obs × n_vars = 300 × 2000\n",
       "    var: 'n_cells', 'chromosome', 'start', 'end'\n",
       "    varp: 'atac_network'"
      ]
     },
     "execution_count": 16,
     "metadata": {},
     "output_type": "execute_result"
    }
   ],
   "source": [
    "ci.metacells.compute_metacells(atac, dim_reduction=\"dim\")"
   ]
  },
  {
   "cell_type": "markdown",
   "id": "23c4e2ef-c346-4c63-9efb-8e4bbeb95cb2",
   "metadata": {},
   "source": [
    "### 3. Calculate co-accessibility"
   ]
  },
  {
   "cell_type": "markdown",
   "id": "44cf4011-9929-432e-9d8c-59e903e4cb88",
   "metadata": {},
   "source": [
    "#### 3.A. Human datasets"
   ]
  },
  {
   "cell_type": "markdown",
   "id": "b8cab636-4a10-40cd-a347-5f3e3269f16e",
   "metadata": {},
   "source": [
    "We can finally <font color=#F98128>**compute all the cis co-accessibility scores**</font> ! <br>\n",
    "The default way is to <font color='#50B848'>**indicate your organism**</font> if among the one known by Circe.<br>\n",
    "The atac network is stored automatically as a sparse matrix in `atac.varp[\"atac_network\"]`"
   ]
  },
  {
   "cell_type": "code",
   "execution_count": 43,
   "id": "85035bc6-5fa6-4cef-839f-7a9f12926753",
   "metadata": {
    "scrolled": true,
    "tags": []
   },
   "outputs": [
    {
     "data": {
      "application/vnd.jupyter.widget-view+json": {
       "model_id": "8b06ff48cd23418986a96ecccc069427",
       "version_major": 2,
       "version_minor": 0
      },
      "text/plain": [
       "Output()"
      ]
     },
     "metadata": {},
     "output_type": "display_data"
    },
    {
     "data": {
      "text/html": [
       "<pre style=\"white-space:pre;overflow-x:auto;line-height:normal;font-family:Menlo,'DejaVu Sans Mono',consolas,'Courier New',monospace\"></pre>\n"
      ],
      "text/plain": []
     },
     "metadata": {},
     "output_type": "display_data"
    },
    {
     "data": {
      "text/html": [
       "<pre style=\"white-space:pre;overflow-x:auto;line-height:normal;font-family:Menlo,'DejaVu Sans Mono',consolas,'Courier New',monospace\">\n",
       "</pre>\n"
      ],
      "text/plain": [
       "\n"
      ]
     },
     "metadata": {},
     "output_type": "display_data"
    },
    {
     "name": "stderr",
     "output_type": "stream",
     "text": [
      "\n",
      "  0%|          | 0/8 [00:00<?, ?it/s]\u001b[A\n",
      "\n",
      "  0%|          | 0/8 [00:00<?, ?it/s]\u001b[A\u001b[A\n",
      "                                     \u001b[A\n",
      "  0%|          | 0/8 [00:00<?, ?it/s]\u001b[A\n",
      "\n",
      "                                     \u001b[A\u001b[A\n",
      "\n",
      "  0%|          | 0/8 [00:00<?, ?it/s]\u001b[A\u001b[A\n",
      "  0%|          | 0/8 [00:00<?, ?it/s]\u001b[A\n",
      "\n",
      "                                     \u001b[A\u001b[A\n",
      "\n",
      "\n",
      "  0%|          | 0/8 [00:00<?, ?it/s]\u001b[A\u001b[A\u001b[A\n",
      "\n",
      "\n",
      "\n",
      "  0%|          | 0/8 [00:00<?, ?it/s]\u001b[A\u001b[A\u001b[A\u001b[A\n",
      "\n",
      "\n",
      "                                     \u001b[A\u001b[A\u001b[A\n",
      "\n",
      "\n",
      "  0%|          | 0/8 [00:00<?, ?it/s]\u001b[A\u001b[A\u001b[A\n",
      "\n",
      "\n",
      "\n",
      " 75%|███████▌  | 6/8 [00:00<00:00, 57.89it/s]\u001b[A\u001b[A\u001b[A\u001b[A\n",
      "\n",
      "\n",
      "                                     \u001b[A\u001b[A\u001b[A\n",
      "\n",
      "\n",
      "\n",
      "                                             \u001b[A\u001b[A\u001b[A\u001b[A\n",
      "\n",
      "\n",
      "\n",
      "  0%|          | 0/8 [00:00<?, ?it/s]\u001b[A\u001b[A\u001b[A\u001b[A\n",
      "\n",
      "\n",
      "\n",
      "                                     \u001b[A\u001b[A\u001b[A\u001b[A"
     ]
    },
    {
     "data": {
      "text/plain": [
       "<2000x2000 sparse matrix of type '<class 'numpy.float64'>'\n",
       "\twith 114354 stored elements in COOrdinate format>"
      ]
     },
     "execution_count": 43,
     "metadata": {},
     "output_type": "execute_result"
    }
   ],
   "source": [
    "ci.compute_atac_network(\n",
    "    atac, #metacells,\n",
    "    organism=\"human\",\n",
    "    njobs=3\n",
    ")\n",
    "atac.varp[\"atac_network\"]"
   ]
  },
  {
   "cell_type": "markdown",
   "id": "9b5bfc6e-e0ae-4ffa-9ef3-d47648549483",
   "metadata": {},
   "source": [
    "#### 3.B. Other organisms"
   ]
  },
  {
   "cell_type": "markdown",
   "id": "92e27ea5-f8a8-4348-aaec-c8eb13b378cb",
   "metadata": {},
   "source": [
    "##### If your organism is **not** <font color=#50B848>\"human\"</font>, <font color=#50B848>\"mouse\"</font> or <font color=#50B848>\"drosophila\"</font>, human default values will be used for:\n",
    "`s`, `window_size` and `distance_constraint`.\n",
    "Distance constraint is usually half of the window size.\n",
    "\n",
    "If you know their values,\n",
    "you can also specify yourself the following parameters that are organism-specific."
   ]
  },
  {
   "cell_type": "code",
   "execution_count": 8,
   "id": "b0e0cb62-fab3-4d7f-bd0f-15ab43045b39",
   "metadata": {
    "scrolled": true,
    "tags": []
   },
   "outputs": [
    {
     "data": {
      "application/vnd.jupyter.widget-view+json": {
       "model_id": "7f0b2403d78d49bba1db3e787e45f98a",
       "version_major": 2,
       "version_minor": 0
      },
      "text/plain": [
       "Output()"
      ]
     },
     "metadata": {},
     "output_type": "display_data"
    },
    {
     "data": {
      "text/html": [
       "<pre style=\"white-space:pre;overflow-x:auto;line-height:normal;font-family:Menlo,'DejaVu Sans Mono',consolas,'Courier New',monospace\"></pre>\n"
      ],
      "text/plain": []
     },
     "metadata": {},
     "output_type": "display_data"
    },
    {
     "data": {
      "text/html": [
       "<pre style=\"white-space:pre;overflow-x:auto;line-height:normal;font-family:Menlo,'DejaVu Sans Mono',consolas,'Courier New',monospace\">\n",
       "</pre>\n"
      ],
      "text/plain": [
       "\n"
      ]
     },
     "metadata": {},
     "output_type": "display_data"
    },
    {
     "name": "stderr",
     "output_type": "stream",
     "text": [
      "                                                                                                                                                                         \n",
      "  0%|                                                                                                                                             | 0/40 [00:00<?, ?it/s]\u001b[A\n",
      " 57%|███████████████████████████████████████████████████████████████████████████▎                                                       | 23/40 [00:00<00:00, 220.72it/s]\u001b[A\n",
      "                                                                                                                                                                         \u001b[A\n",
      "  0%|                                                                                                                                             | 0/40 [00:00<?, ?it/s]\u001b[A\n",
      " 45%|██████████████████████████████████████████████████████████▉                                                                        | 18/40 [00:00<00:00, 179.34it/s]\u001b[A\n",
      "                                                                                                                                                                         \u001b[A\n",
      "\n",
      "  0%|                                                                                                                                             | 0/40 [00:00<?, ?it/s]\u001b[A\u001b[A\n",
      "\n",
      " 65%|█████████████████████████████████████████████████████████████████████████████████████▏                                             | 26/40 [00:00<00:00, 255.97it/s]\u001b[A\u001b[A\n",
      "\n",
      "                                                                                                                                                                         \u001b[A\u001b[A\n",
      "\n",
      "  0%|                                                                                                                                             | 0/40 [00:00<?, ?it/s]\u001b[A\u001b[A\n",
      "\n",
      " 62%|█████████████████████████████████████████████████████████████████████████████████▉                                                 | 25/40 [00:00<00:00, 243.03it/s]\u001b[A\u001b[A\n",
      "\n",
      "                                                                                                                                                                         \u001b[A\u001b[A\n",
      "\n",
      "\n",
      "  0%|                                                                                                                                             | 0/40 [00:00<?, ?it/s]\u001b[A\u001b[A\u001b[A\n",
      "\n",
      "\n",
      "                                                                                                                                                                         \u001b[A\u001b[A\u001b[A\n",
      "\n",
      "\n",
      "  0%|                                                                                                                                             | 0/40 [00:00<?, ?it/s]\u001b[A\u001b[A\u001b[A\n",
      "\n",
      "\n",
      " 42%|███████████████████████████████████████████████████████▋                                                                           | 17/40 [00:00<00:00, 165.85it/s]\u001b[A\u001b[A\u001b[A\n",
      "\n",
      "\n",
      " 85%|███████████████████████████████████████████████████████████████████████████████████████████████████████████████▎                   | 34/40 [00:00<00:00, 155.40it/s]\u001b[A\u001b[A\u001b[A\n",
      "\n",
      "\n",
      "                                                                                                                                                                         \u001b[A\u001b[A\u001b[A\n",
      "\n",
      "\n",
      "\n",
      "  0%|                                                                                                                                             | 0/40 [00:00<?, ?it/s]\u001b[A\u001b[A\u001b[A\u001b[A\n",
      "\n",
      "\n",
      "\n",
      " 65%|█████████████████████████████████████████████████████████████████████████████████████▏                                             | 26/40 [00:00<00:00, 254.27it/s]\u001b[A\u001b[A\u001b[A\u001b[A\n",
      "\n",
      "\n",
      "\n",
      "                                                                                                                                                                         \u001b[A\u001b[A\u001b[A\u001b[A\n",
      "\n",
      "\n",
      "\n",
      "  0%|                                                                                                                                             | 0/40 [00:00<?, ?it/s]\u001b[A\u001b[A\u001b[A\u001b[A\n",
      "\n",
      "\n",
      "\n",
      " 42%|███████████████████████████████████████████████████████▋                                                                           | 17/40 [00:00<00:00, 162.69it/s]\u001b[A\u001b[A\u001b[A\u001b[A\n",
      "\n",
      "\n",
      "\n",
      " 85%|███████████████████████████████████████████████████████████████████████████████████████████████████████████████▎                   | 34/40 [00:00<00:00, 162.06it/s]\u001b[A\u001b[A\u001b[A\u001b[A\n",
      "\n",
      "\n",
      "\n",
      "                                                                                                                                                                         \u001b[A\u001b[A\u001b[A\u001b[A"
     ]
    }
   ],
   "source": [
    "window_size = 100_000\n",
    "distance_constraint=50_000\n",
    "s = 0.85\n",
    "ci.compute_atac_network(\n",
    "    atac, #metacells,\n",
    "    window_size=window_size,\n",
    "    s=s,\n",
    "    distance_constraint=distance_constraint,\n",
    "    unit_distance = 1000,\n",
    "    n_samples=50,\n",
    "    n_samples_maxtry=100,\n",
    "    max_alpha_iteration=100\n",
    ")"
   ]
  },
  {
   "cell_type": "markdown",
   "id": "343cff05-6b69-4e58-9e71-144e15122adb",
   "metadata": {},
   "source": [
    "#### 3.C. Use of sparse matrix"
   ]
  },
  {
   "cell_type": "markdown",
   "id": "69f7dc04-4e27-4b18-a368-8306078e6e46",
   "metadata": {},
   "source": [
    "1. Circe can also work with `sparse covariance matrix`.<br>"
   ]
  },
  {
   "cell_type": "code",
   "execution_count": 9,
   "id": "415223fa-1643-47cf-a1d8-bc8ae52578fd",
   "metadata": {},
   "outputs": [],
   "source": [
    "atac.X = sp.sparse.csr_matrix(atac.X)\n",
    "# atac.X = atac.X.toarray()"
   ]
  },
  {
   "cell_type": "markdown",
   "id": "447e0022-56cc-4585-bf0e-0f651a85ac01",
   "metadata": {},
   "source": [
    "2. Connections can also be stored externally from your `AnnData` object using `sliding_graphical_lasso`."
   ]
  },
  {
   "cell_type": "code",
   "execution_count": 10,
   "id": "1825591f-5177-4429-8791-54ef15537e66",
   "metadata": {
    "scrolled": true,
    "tags": []
   },
   "outputs": [
    {
     "data": {
      "application/vnd.jupyter.widget-view+json": {
       "model_id": "044bae8aab7d41168a9d82ef98b66bf5",
       "version_major": 2,
       "version_minor": 0
      },
      "text/plain": [
       "Output()"
      ]
     },
     "metadata": {},
     "output_type": "display_data"
    },
    {
     "name": "stderr",
     "output_type": "stream",
     "text": [
      "/home/rtrimbou/ATACNet/circe/circe/circe.py:919: UserWarning: \n",
      "                No organism, nor value passed for the parameters: ['window_size', 'distance_constraint', 's'],\n",
      "                using default values.\n",
      "                The default values are defined from human and mouse data,\n",
      "                you might want to change them if you are working with\n",
      "                another organisms.\n",
      "\n",
      "                Default values used:\n",
      "                {'window_size': 500000, 'distance_constraint': 250000, 's': 0.75}\n",
      "\n",
      "                You can check how to define them in https://cole-trapnell-lab.github.io/cicero-release/docs_m3/#important-considerations-for-non-human-data.\n",
      "                \n",
      "  warnings.warn(\n"
     ]
    },
    {
     "data": {
      "text/html": [
       "<pre style=\"white-space:pre;overflow-x:auto;line-height:normal;font-family:Menlo,'DejaVu Sans Mono',consolas,'Courier New',monospace\"></pre>\n"
      ],
      "text/plain": []
     },
     "metadata": {},
     "output_type": "display_data"
    },
    {
     "data": {
      "text/html": [
       "<pre style=\"white-space:pre;overflow-x:auto;line-height:normal;font-family:Menlo,'DejaVu Sans Mono',consolas,'Courier New',monospace\">\n",
       "</pre>\n"
      ],
      "text/plain": [
       "\n"
      ]
     },
     "metadata": {},
     "output_type": "display_data"
    },
    {
     "name": "stdout",
     "output_type": "stream",
     "text": [
      "Alpha coefficient calculated : 0.22623883655161847\n",
      "http://10.0.2.15:8787/status\n"
     ]
    },
    {
     "name": "stderr",
     "output_type": "stream",
     "text": [
      "                                                                                                                                                                         \n",
      "  0%|                                                                                                                                              | 0/8 [00:00<?, ?it/s]\u001b[A\n",
      " 50%|███████████████████████████████████████████████████████████████████                                                                   | 4/8 [00:00<00:00, 28.99it/s]\u001b[A\n",
      " 88%|█████████████████████████████████████████████████████████████████████████████████████████████████████████████████████▎                | 7/8 [00:00<00:00, 19.87it/s]\u001b[A\n",
      "                                                                                                                                                                         \u001b[A\n",
      "  0%|                                                                                                                                              | 0/8 [00:00<?, ?it/s]\u001b[A\n",
      " 38%|██████████████████████████████████████████████████▎                                                                                   | 3/8 [00:00<00:00, 29.75it/s]\u001b[A\n",
      " 75%|████████████████████████████████████████████████████████████████████████████████████████████████████▌                                 | 6/8 [00:00<00:00, 24.85it/s]\u001b[A\n",
      "                                                                                                                                                                         \u001b[A\n",
      "\n",
      "  0%|                                                                                                                                              | 0/8 [00:00<?, ?it/s]\u001b[A\u001b[A\n",
      "\n",
      " 25%|█████████████████████████████████▌                                                                                                    | 2/8 [00:00<00:00, 17.90it/s]\u001b[A\u001b[A\n",
      "\n",
      " 62%|███████████████████████████████████████████████████████████████████████████████████▊                                                  | 5/8 [00:00<00:00, 22.48it/s]\u001b[A\u001b[A\n",
      "\n",
      "100%|██████████████████████████████████████████████████████████████████████████████████████████████████████████████████████████████████████| 8/8 [00:00<00:00, 19.57it/s]\u001b[A\u001b[A\n",
      "\n",
      "                                                                                                                                                                         \u001b[A\u001b[A\n",
      "\n",
      "  0%|                                                                                                                                              | 0/8 [00:00<?, ?it/s]\u001b[A\u001b[A\n",
      "\n",
      " 38%|██████████████████████████████████████████████████▎                                                                                   | 3/8 [00:00<00:00, 27.68it/s]\u001b[A\u001b[A\n",
      "\n",
      " 75%|████████████████████████████████████████████████████████████████████████████████████████████████████▌                                 | 6/8 [00:00<00:00, 27.54it/s]\u001b[A\u001b[A\n",
      "\n",
      "                                                                                                                                                                         \u001b[A\u001b[A\n",
      "\n",
      "\n",
      "  0%|                                                                                                                                              | 0/8 [00:00<?, ?it/s]\u001b[A\u001b[A\u001b[A\n",
      "\n",
      "\n",
      " 25%|█████████████████████████████████▌                                                                                                    | 2/8 [00:00<00:00, 19.54it/s]\u001b[A\u001b[A\u001b[A\n",
      "\n",
      "\n",
      " 50%|███████████████████████████████████████████████████████████████████                                                                   | 4/8 [00:00<00:00, 14.39it/s]\u001b[A\u001b[A\u001b[A\n",
      "\n",
      "\n",
      " 88%|█████████████████████████████████████████████████████████████████████████████████████████████████████████████████████▎                | 7/8 [00:00<00:00, 18.15it/s]\u001b[A\u001b[A\u001b[A\n",
      "\n",
      "\n",
      "                                                                                                                                                                         \u001b[A\u001b[A\u001b[A\n",
      "\n",
      "\n",
      "  0%|                                                                                                                                              | 0/8 [00:00<?, ?it/s]\u001b[A\u001b[A\u001b[A\n",
      "\n",
      "\n",
      " 25%|█████████████████████████████████▌                                                                                                    | 2/8 [00:00<00:00, 13.54it/s]\u001b[A\u001b[A\u001b[A\n",
      "\n",
      "\n",
      " 62%|███████████████████████████████████████████████████████████████████████████████████▊                                                  | 5/8 [00:00<00:00, 21.14it/s]\u001b[A\u001b[A\u001b[A\n",
      "\n",
      "\n",
      "100%|██████████████████████████████████████████████████████████████████████████████████████████████████████████████████████████████████████| 8/8 [00:00<00:00, 23.38it/s]\u001b[A\u001b[A\u001b[A\n",
      "\n",
      "\n",
      "                                                                                                                                                                         \u001b[A\u001b[A\u001b[A\n",
      "\n",
      "\n",
      "\n",
      "  0%|                                                                                                                                              | 0/8 [00:00<?, ?it/s]\u001b[A\u001b[A\u001b[A\u001b[A\n",
      "\n",
      "\n",
      "\n",
      " 38%|██████████████████████████████████████████████████▎                                                                                   | 3/8 [00:00<00:00, 28.70it/s]\u001b[A\u001b[A\u001b[A\u001b[A\n",
      "\n",
      "\n",
      "\n",
      " 75%|████████████████████████████████████████████████████████████████████████████████████████████████████▌                                 | 6/8 [00:00<00:00, 27.30it/s]\u001b[A\u001b[A\u001b[A\u001b[A\n",
      "\n",
      "\n",
      "\n",
      "                                                                                                                                                                         \u001b[A\u001b[A\u001b[A\u001b[A\n",
      "\n",
      "\n",
      "\n",
      "  0%|                                                                                                                                              | 0/8 [00:00<?, ?it/s]\u001b[A\u001b[A\u001b[A\u001b[A\n",
      "\n",
      "\n",
      "\n",
      " 38%|██████████████████████████████████████████████████▎                                                                                   | 3/8 [00:00<00:00, 27.54it/s]\u001b[A\u001b[A\u001b[A\u001b[A\n",
      "\n",
      "\n",
      "\n",
      " 75%|████████████████████████████████████████████████████████████████████████████████████████████████████▌                                 | 6/8 [00:00<00:00, 26.44it/s]\u001b[A\u001b[A\u001b[A\u001b[A\n",
      "\n",
      "\n",
      "\n",
      "                                                                                                                                                                         \u001b[A\u001b[A\u001b[A\u001b[A"
     ]
    }
   ],
   "source": [
    "final_score = ci.sliding_graphical_lasso(\n",
    "    atac,\n",
    "    n_samples=50,\n",
    "    n_samples_maxtry=100,\n",
    "    max_alpha_iteration=500,\n",
    "    verbose=True\n",
    ")\n",
    "atac.varp['atac_network'] = final_score"
   ]
  },
  {
   "cell_type": "markdown",
   "id": "aad0c904-effe-43a0-b504-d12089176550",
   "metadata": {},
   "source": [
    "### 4. Extract connections"
   ]
  },
  {
   "cell_type": "markdown",
   "id": "735f7800-4f9a-4526-853c-d878f031dbf5",
   "metadata": {},
   "source": [
    "#### 4.A.Get the whole genome cis-coaccessible network\n",
    "\n",
    "You can <font color='#F98128'>**extract connections**</font> from the atac.varp slot (sparse matrix), as a `DataFrame object` with `extract_atac_links`."
   ]
  },
  {
   "cell_type": "code",
   "execution_count": 11,
   "id": "0a26c332-5a1e-4b10-bf0b-3e6339dace60",
   "metadata": {
    "scrolled": true,
    "tags": []
   },
   "outputs": [
    {
     "data": {
      "text/html": [
       "<div>\n",
       "<style scoped>\n",
       "    .dataframe tbody tr th:only-of-type {\n",
       "        vertical-align: middle;\n",
       "    }\n",
       "\n",
       "    .dataframe tbody tr th {\n",
       "        vertical-align: top;\n",
       "    }\n",
       "\n",
       "    .dataframe thead th {\n",
       "        text-align: right;\n",
       "    }\n",
       "</style>\n",
       "<table border=\"1\" class=\"dataframe\">\n",
       "  <thead>\n",
       "    <tr style=\"text-align: right;\">\n",
       "      <th></th>\n",
       "      <th>Peak1</th>\n",
       "      <th>Peak2</th>\n",
       "      <th>score</th>\n",
       "    </tr>\n",
       "  </thead>\n",
       "  <tbody>\n",
       "    <tr>\n",
       "      <th>0</th>\n",
       "      <td>chr3_3250001_3250151</td>\n",
       "      <td>chr3_3360001_3360151</td>\n",
       "      <td>0.126982</td>\n",
       "    </tr>\n",
       "    <tr>\n",
       "      <th>1</th>\n",
       "      <td>chr4_270001_270151</td>\n",
       "      <td>chr4_290001_290151</td>\n",
       "      <td>0.123584</td>\n",
       "    </tr>\n",
       "    <tr>\n",
       "      <th>2</th>\n",
       "      <td>chr2_840001_840151</td>\n",
       "      <td>chr2_1060001_1060151</td>\n",
       "      <td>0.121827</td>\n",
       "    </tr>\n",
       "  </tbody>\n",
       "</table>\n",
       "</div>"
      ],
      "text/plain": [
       "                  Peak1                 Peak2     score\n",
       "0  chr3_3250001_3250151  chr3_3360001_3360151  0.126982\n",
       "1    chr4_270001_270151    chr4_290001_290151  0.123584\n",
       "2    chr2_840001_840151  chr2_1060001_1060151  0.121827"
      ]
     },
     "execution_count": 11,
     "metadata": {},
     "output_type": "execute_result"
    }
   ],
   "source": [
    "circe_network = ci.extract_atac_links(atac) #metacells)\n",
    "circe_network.head(3)"
   ]
  },
  {
   "cell_type": "markdown",
   "id": "07516731-4de2-48c6-bd59-5fcffca34084",
   "metadata": {},
   "source": [
    "#### 4.B. Subset the AnnData object to a given window"
   ]
  },
  {
   "cell_type": "markdown",
   "id": "f8a1bc5a-dfc0-4437-aed6-2e6606165378",
   "metadata": {},
   "source": [
    "If you're interested in a specific genomic region only, you can also <font color='#F98128'>**subset your anndata object**</font> on this specific window"
   ]
  },
  {
   "cell_type": "code",
   "execution_count": 31,
   "id": "f699ad6c",
   "metadata": {},
   "outputs": [],
   "source": [
    "subset_atac = ci.subset_region(atac, \"chr1\", 10_000, 200_000).copy()"
   ]
  },
  {
   "cell_type": "code",
   "execution_count": 33,
   "id": "39d41ca4",
   "metadata": {},
   "outputs": [
    {
     "data": {
      "text/html": [
       "<div>\n",
       "<style scoped>\n",
       "    .dataframe tbody tr th:only-of-type {\n",
       "        vertical-align: middle;\n",
       "    }\n",
       "\n",
       "    .dataframe tbody tr th {\n",
       "        vertical-align: top;\n",
       "    }\n",
       "\n",
       "    .dataframe thead th {\n",
       "        text-align: right;\n",
       "    }\n",
       "</style>\n",
       "<table border=\"1\" class=\"dataframe\">\n",
       "  <thead>\n",
       "    <tr style=\"text-align: right;\">\n",
       "      <th></th>\n",
       "      <th>Peak1</th>\n",
       "      <th>Peak2</th>\n",
       "      <th>score</th>\n",
       "    </tr>\n",
       "  </thead>\n",
       "  <tbody>\n",
       "    <tr>\n",
       "      <th>0</th>\n",
       "      <td>chr1_40001_40151</td>\n",
       "      <td>chr1_60001_60151</td>\n",
       "      <td>0.052407</td>\n",
       "    </tr>\n",
       "    <tr>\n",
       "      <th>1</th>\n",
       "      <td>chr1_20001_20151</td>\n",
       "      <td>chr1_50001_50151</td>\n",
       "      <td>0.046906</td>\n",
       "    </tr>\n",
       "    <tr>\n",
       "      <th>2</th>\n",
       "      <td>chr1_20001_20151</td>\n",
       "      <td>chr1_30001_30151</td>\n",
       "      <td>0.032684</td>\n",
       "    </tr>\n",
       "  </tbody>\n",
       "</table>\n",
       "</div>"
      ],
      "text/plain": [
       "              Peak1             Peak2     score\n",
       "0  chr1_40001_40151  chr1_60001_60151  0.052407\n",
       "1  chr1_20001_20151  chr1_50001_50151  0.046906\n",
       "2  chr1_20001_20151  chr1_30001_30151  0.032684"
      ]
     },
     "execution_count": 33,
     "metadata": {},
     "output_type": "execute_result"
    }
   ],
   "source": [
    "circe_network_subset = ci.extract_atac_links(subset_atac)\n",
    "circe_network_subset.head(3)"
   ]
  },
  {
   "cell_type": "markdown",
   "id": "1c66dcfb-1a1d-4309-bf57-ee9b4ee1f3b4",
   "metadata": {},
   "source": [
    "### 5. Plot co-accessibility scores in a window"
   ]
  },
  {
   "cell_type": "markdown",
   "id": "a2beae63-65f4-4642-a876-e01a271db740",
   "metadata": {},
   "source": [
    "You can pass either your `anndata` object or your freshly extracted `dataframe` into `plot_connections` to <font color=#F98128>**visualize all Circe scores**</font>.<br>\n",
    "<font color='#4584b6'>**Blue edges**</font> correspond to positive co-accessibility scores, while <font color='#ffde57'>**yellow ones**</font> are for negative scores"
   ]
  },
  {
   "cell_type": "code",
   "execution_count": 34,
   "id": "7e256844-e050-49fc-b811-191b0cf17561",
   "metadata": {},
   "outputs": [
    {
     "data": {
      "image/png": "[encoded data removed]",
      "text/plain": [
       "<Figure size 2000x600 with 1 Axes>"
      ]
     },
     "metadata": {},
     "output_type": "display_data"
    }
   ],
   "source": [
    "ci.plot_connections(\n",
    "    circe_network,\n",
    "    chromosome=\"chr1\",\n",
    "    start=10_000,\n",
    "    end=200_000,\n",
    "    sep=(\"_\",\"_\"),\n",
    "    abs_threshold=0.01\n",
    ")"
   ]
  },
  {
   "cell_type": "markdown",
   "id": "bdcb097f-a019-4caa-8b0d-b393bc737156",
   "metadata": {},
   "source": [
    "### 6. Find cis-coaccessible connected modules"
   ]
  },
  {
   "cell_type": "markdown",
   "id": "366c168b-3f25-41a8-96f3-ae876f20715e",
   "metadata": {},
   "source": [
    "In addition to pairwise co-accessibility scores, Circe can also be used to <font color=#F98128>**define cis co-accessibility modules**</font> (called CCANs by Cicero), which are modules of sites that are highly co-accessible with one another. We use the Louvain community detection algorithm (Blondel et al., 2008) to find clusters of sites that tended to be co-accessible.<br>\n",
    "- The function `find_ccans` takes as input a `connection data frame` or the `anndata object` once again, and outputs a data frame with CCAN assignments for each input peak.<br>\n",
    "- You can also use `add_ccans` to directly add CCAN assignments to your anndata object as `anndata.var['CCAN']`. The regions that aren't assigned to a CCAN will contain `None`."
   ]
  },
  {
   "cell_type": "code",
   "execution_count": 35,
   "id": "f8ef9ec3-d93f-4dfe-b92c-6aaae9f7e921",
   "metadata": {
    "scrolled": true
   },
   "outputs": [
    {
     "name": "stdout",
     "output_type": "stream",
     "text": [
      "Coaccessibility cutoff used: 0.02\n",
      "Number of CCANs generated: 123\n"
     ]
    },
    {
     "data": {
      "text/html": [
       "<div>\n",
       "<style scoped>\n",
       "    .dataframe tbody tr th:only-of-type {\n",
       "        vertical-align: middle;\n",
       "    }\n",
       "\n",
       "    .dataframe tbody tr th {\n",
       "        vertical-align: top;\n",
       "    }\n",
       "\n",
       "    .dataframe thead th {\n",
       "        text-align: right;\n",
       "    }\n",
       "</style>\n",
       "<table border=\"1\" class=\"dataframe\">\n",
       "  <thead>\n",
       "    <tr style=\"text-align: right;\">\n",
       "      <th></th>\n",
       "      <th>Peak</th>\n",
       "      <th>CCAN</th>\n",
       "    </tr>\n",
       "  </thead>\n",
       "  <tbody>\n",
       "    <tr>\n",
       "      <th>0</th>\n",
       "      <td>chr3_3360001_3360151</td>\n",
       "      <td>0</td>\n",
       "    </tr>\n",
       "    <tr>\n",
       "      <th>1</th>\n",
       "      <td>chr3_2760001_2760151</td>\n",
       "      <td>0</td>\n",
       "    </tr>\n",
       "    <tr>\n",
       "      <th>2</th>\n",
       "      <td>chr3_3050001_3050151</td>\n",
       "      <td>0</td>\n",
       "    </tr>\n",
       "  </tbody>\n",
       "</table>\n",
       "</div>"
      ],
      "text/plain": [
       "                   Peak  CCAN\n",
       "0  chr3_3360001_3360151     0\n",
       "1  chr3_2760001_2760151     0\n",
       "2  chr3_3050001_3050151     0"
      ]
     },
     "execution_count": 35,
     "metadata": {},
     "output_type": "execute_result"
    }
   ],
   "source": [
    "ccans = ci.find_ccans(circe_network, seed=0)\n",
    "ccans.head(3)"
   ]
  },
  {
   "cell_type": "code",
   "execution_count": 36,
   "id": "7e1f81d1-bb58-48aa-8d67-ec4720cad498",
   "metadata": {
    "scrolled": true
   },
   "outputs": [
    {
     "name": "stdout",
     "output_type": "stream",
     "text": [
      "Coaccessibility cutoff used: 0.02\n"
     ]
    },
    {
     "data": {
      "text/html": [
       "<div>\n",
       "<style scoped>\n",
       "    .dataframe tbody tr th:only-of-type {\n",
       "        vertical-align: middle;\n",
       "    }\n",
       "\n",
       "    .dataframe tbody tr th {\n",
       "        vertical-align: top;\n",
       "    }\n",
       "\n",
       "    .dataframe thead th {\n",
       "        text-align: right;\n",
       "    }\n",
       "</style>\n",
       "<table border=\"1\" class=\"dataframe\">\n",
       "  <thead>\n",
       "    <tr style=\"text-align: right;\">\n",
       "      <th></th>\n",
       "      <th>n_cells</th>\n",
       "      <th>chromosome</th>\n",
       "      <th>start</th>\n",
       "      <th>end</th>\n",
       "      <th>CCAN</th>\n",
       "    </tr>\n",
       "  </thead>\n",
       "  <tbody>\n",
       "    <tr>\n",
       "      <th>chr1_1_151</th>\n",
       "      <td>266</td>\n",
       "      <td>chr1</td>\n",
       "      <td>1</td>\n",
       "      <td>151</td>\n",
       "      <td>0</td>\n",
       "    </tr>\n",
       "    <tr>\n",
       "      <th>chr1_10001_10151</th>\n",
       "      <td>255</td>\n",
       "      <td>chr1</td>\n",
       "      <td>10001</td>\n",
       "      <td>10151</td>\n",
       "      <td>None</td>\n",
       "    </tr>\n",
       "    <tr>\n",
       "      <th>chr1_20001_20151</th>\n",
       "      <td>270</td>\n",
       "      <td>chr1</td>\n",
       "      <td>20001</td>\n",
       "      <td>20151</td>\n",
       "      <td>0</td>\n",
       "    </tr>\n",
       "    <tr>\n",
       "      <th>chr1_30001_30151</th>\n",
       "      <td>262</td>\n",
       "      <td>chr1</td>\n",
       "      <td>30001</td>\n",
       "      <td>30151</td>\n",
       "      <td>0</td>\n",
       "    </tr>\n",
       "    <tr>\n",
       "      <th>chr1_40001_40151</th>\n",
       "      <td>252</td>\n",
       "      <td>chr1</td>\n",
       "      <td>40001</td>\n",
       "      <td>40151</td>\n",
       "      <td>0</td>\n",
       "    </tr>\n",
       "  </tbody>\n",
       "</table>\n",
       "</div>"
      ],
      "text/plain": [
       "                  n_cells chromosome  start    end  CCAN\n",
       "chr1_1_151            266       chr1      1    151     0\n",
       "chr1_10001_10151      255       chr1  10001  10151  None\n",
       "chr1_20001_20151      270       chr1  20001  20151     0\n",
       "chr1_30001_30151      262       chr1  30001  30151     0\n",
       "chr1_40001_40151      252       chr1  40001  40151     0"
      ]
     },
     "execution_count": 36,
     "metadata": {},
     "output_type": "execute_result"
    }
   ],
   "source": [
    "atac = ci.add_ccans(atac)\n",
    "atac.var.head()"
   ]
  },
  {
   "cell_type": "markdown",
   "id": "538af36a-102d-475d-80cb-4e7aaa1212ed",
   "metadata": {},
   "source": [
    "With default `coaccess_cutoff_override=None`, the function will determine and report an appropriate co-accessibility score cutoff value for CCAN generation based on the number of overall CCANs at varying cutoffs. You can also set `coaccess_cutoff_override` to be a numeric between 0 and 1, to override the cutoff-finding part of the function. This option is useful if you feel that the cutoff found automatically was too strict or loose, or for speed if you are rerunning the code and know what the cutoff will be, since the cutoff finding procedure can be slow. "
   ]
  },
  {
   "cell_type": "code",
   "execution_count": 37,
   "id": "38c8d848-287b-4200-b7be-434b65bf0dbf",
   "metadata": {},
   "outputs": [
    {
     "name": "stdout",
     "output_type": "stream",
     "text": [
      "Coaccessibility cutoff used: 1e-07\n",
      "Number of CCANs generated: 45\n"
     ]
    }
   ],
   "source": [
    "ccans = ci.find_ccans(circe_network, seed=0, coaccess_cutoff_override=1e-7)"
   ]
  },
  {
   "cell_type": "code",
   "execution_count": 38,
   "id": "2a5b25df-08f0-4604-8500-7ed237b44423",
   "metadata": {
    "scrolled": true
   },
   "outputs": [
    {
     "data": {
      "text/html": [
       "<div>\n",
       "<style scoped>\n",
       "    .dataframe tbody tr th:only-of-type {\n",
       "        vertical-align: middle;\n",
       "    }\n",
       "\n",
       "    .dataframe tbody tr th {\n",
       "        vertical-align: top;\n",
       "    }\n",
       "\n",
       "    .dataframe thead th {\n",
       "        text-align: right;\n",
       "    }\n",
       "</style>\n",
       "<table border=\"1\" class=\"dataframe\">\n",
       "  <thead>\n",
       "    <tr style=\"text-align: right;\">\n",
       "      <th></th>\n",
       "      <th>n_cells</th>\n",
       "      <th>chromosome</th>\n",
       "      <th>start</th>\n",
       "      <th>end</th>\n",
       "      <th>CCAN</th>\n",
       "    </tr>\n",
       "  </thead>\n",
       "  <tbody>\n",
       "    <tr>\n",
       "      <th>chr1_130001_130151</th>\n",
       "      <td>252</td>\n",
       "      <td>chr1</td>\n",
       "      <td>130001</td>\n",
       "      <td>130151</td>\n",
       "      <td>2</td>\n",
       "    </tr>\n",
       "    <tr>\n",
       "      <th>chr1_170001_170151</th>\n",
       "      <td>254</td>\n",
       "      <td>chr1</td>\n",
       "      <td>170001</td>\n",
       "      <td>170151</td>\n",
       "      <td>2</td>\n",
       "    </tr>\n",
       "    <tr>\n",
       "      <th>chr1_260001_260151</th>\n",
       "      <td>271</td>\n",
       "      <td>chr1</td>\n",
       "      <td>260001</td>\n",
       "      <td>260151</td>\n",
       "      <td>2</td>\n",
       "    </tr>\n",
       "  </tbody>\n",
       "</table>\n",
       "</div>"
      ],
      "text/plain": [
       "                    n_cells chromosome   start     end CCAN\n",
       "chr1_130001_130151      252       chr1  130001  130151    2\n",
       "chr1_170001_170151      254       chr1  170001  170151    2\n",
       "chr1_260001_260151      271       chr1  260001  260151    2"
      ]
     },
     "execution_count": 38,
     "metadata": {},
     "output_type": "execute_result"
    }
   ],
   "source": [
    "atac.var[atac.var['CCAN']==2].head(3)"
   ]
  },
  {
   "cell_type": "code",
   "execution_count": 39,
   "id": "9c795c97-91fd-4512-89c8-b931296c7abc",
   "metadata": {},
   "outputs": [
    {
     "data": {
      "text/plain": [
       "CCAN\n",
       "91     35\n",
       "30     35\n",
       "124    34\n",
       "90     26\n",
       "74     26\n",
       "Name: count, dtype: int64"
      ]
     },
     "execution_count": 39,
     "metadata": {},
     "output_type": "execute_result"
    }
   ],
   "source": [
    "atac.var['CCAN'].value_counts().head()"
   ]
  },
  {
   "cell_type": "code",
   "execution_count": 40,
   "id": "b4813003-c760-4b00-9d21-b4f2c5ed049d",
   "metadata": {},
   "outputs": [
    {
     "data": {
      "text/plain": [
       "91"
      ]
     },
     "execution_count": 40,
     "metadata": {},
     "output_type": "execute_result"
    }
   ],
   "source": [
    "atac.var['CCAN'].value_counts().index[0]"
   ]
  },
  {
   "cell_type": "markdown",
   "id": "1b02d2de-2d7c-41ad-85cc-34c1179e2c90",
   "metadata": {},
   "source": [
    "#### 6.B. Plot only a CCAN module"
   ]
  },
  {
   "cell_type": "markdown",
   "id": "df4a6121-0aad-4563-925d-bdd0b06e96de",
   "metadata": {},
   "source": [
    "If you're interested in a specific CCAN module, you can use `circe.draw.plot_ccan` function, precising its CCAN name. Only the connections between regions belonging to this CCAN module will be plotted."
   ]
  },
  {
   "cell_type": "code",
   "execution_count": 41,
   "id": "4d2d830d-c3f8-4417-b441-697a8eb43c4d",
   "metadata": {},
   "outputs": [
    {
     "name": "stdout",
     "output_type": "stream",
     "text": [
      "This CCAN module is on the chromosome: chr3\n"
     ]
    },
    {
     "name": "stderr",
     "output_type": "stream",
     "text": [
      "/home/rtrimbou/ATACNet/circe/circe/circe.py:328: ImplicitModificationWarning: Setting element `.varp['atac_network']` of view, initializing view as actual.\n",
      "  adata.varp[key] = adata.varp[key].tocoo()\n",
      "/home/rtrimbou/ATACNet/circe/circe/draw.py:101: UserWarning: varp parameter is ignored for DataFrame input.\n",
      "  warnings.warn(\n"
     ]
    },
    {
     "data": {
      "image/png": "[encoded data removed]",
      "text/plain": [
       "<Figure size 1500x500 with 1 Axes>"
      ]
     },
     "metadata": {},
     "output_type": "display_data"
    }
   ],
   "source": [
    "ci.draw.plot_ccan(\n",
    "    atac,\n",
    "    ccan_module=atac.var['CCAN'].value_counts().index[0],\n",
    "    sep=('_', '_'),\n",
    "    abs_threshold=0,\n",
    "    figsize=(15,5),\n",
    "    only_positive=False)"
   ]
  },
  {
   "cell_type": "markdown",
   "id": "af6228fc-9bb2-4fda-9467-b739d8d6a54b",
   "metadata": {},
   "source": [
    "### 7. Work in progress! Happy to get feedbacks :)"
   ]
  },
  {
   "cell_type": "markdown",
   "id": "79257a67-9d1e-4b22-8dc6-40a95b1b1ede",
   "metadata": {},
   "source": [
    "If you feel any function could be useful for you on others, don't hesitate to write me at `remi.trimbour@pasteur.fr` or to submit an issue on `github.com/cantinilab/Circe`."
   ]
  },
  {
   "cell_type": "code",
   "execution_count": null,
   "id": "940e051b-13de-406a-8b14-934a2d4e247b",
   "metadata": {},
   "outputs": [],
   "source": []
  }
 ],
 "metadata": {
  "kernelspec": {
   "display_name": "Python 3 (ipykernel)",
   "language": "python",
   "name": "python3"
  },
  "language_info": {
   "codemirror_mode": {
    "name": "ipython",
    "version": 3
   },
   "file_extension": ".py",
   "mimetype": "text/x-python",
   "name": "python",
   "nbconvert_exporter": "python",
   "pygments_lexer": "ipython3",
   "version": "3.10.13"
  }
 },
 "nbformat": 4,
 "nbformat_minor": 5
}
