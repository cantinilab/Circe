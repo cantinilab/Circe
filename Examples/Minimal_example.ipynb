{
 "cells": [
  {
   "cell_type": "code",
   "execution_count": 19,
   "id": "4f0a488c-3d0c-481b-a63f-0d4e76f89c95",
   "metadata": {
    "scrolled": true,
    "tags": []
   },
   "outputs": [
    {
     "name": "stdout",
     "output_type": "stream",
     "text": [
      "Requirement already satisfied: circe-py in /home/rtrimbou/miniconda3/envs/test_circe_pip/lib/python3.12/site-packages (0.1.8)\n",
      "Requirement already satisfied: joblib<2.0.0,>=1.1.0 in /home/rtrimbou/miniconda3/envs/test_circe_pip/lib/python3.12/site-packages (from circe-py) (1.4.2)\n",
      "Requirement already satisfied: numpy<2.0.0,>=1.25.0 in /home/rtrimbou/miniconda3/envs/test_circe_pip/lib/python3.12/site-packages (from circe-py) (1.26.4)\n",
      "Requirement already satisfied: pandas<3.0.0,>=2.1.1 in /home/rtrimbou/miniconda3/envs/test_circe_pip/lib/python3.12/site-packages (from circe-py) (2.2.2)\n",
      "Requirement already satisfied: rich<11.0.0,>=10.12.0 in /home/rtrimbou/miniconda3/envs/test_circe_pip/lib/python3.12/site-packages (from circe-py) (10.16.2)\n",
      "Requirement already satisfied: scanpy<2.0.0,>=1.8.1 in /home/rtrimbou/miniconda3/envs/test_circe_pip/lib/python3.12/site-packages (from circe-py) (1.10.2)\n",
      "Requirement already satisfied: scikit-learn<2.0.0,>=1.3.1 in /home/rtrimbou/miniconda3/envs/test_circe_pip/lib/python3.12/site-packages (from circe-py) (1.5.1)\n",
      "Requirement already satisfied: python-dateutil>=2.8.2 in /home/rtrimbou/miniconda3/envs/test_circe_pip/lib/python3.12/site-packages (from pandas<3.0.0,>=2.1.1->circe-py) (2.9.0)\n",
      "Requirement already satisfied: pytz>=2020.1 in /home/rtrimbou/miniconda3/envs/test_circe_pip/lib/python3.12/site-packages (from pandas<3.0.0,>=2.1.1->circe-py) (2024.1)\n",
      "Requirement already satisfied: tzdata>=2022.7 in /home/rtrimbou/miniconda3/envs/test_circe_pip/lib/python3.12/site-packages (from pandas<3.0.0,>=2.1.1->circe-py) (2024.1)\n",
      "Requirement already satisfied: colorama<0.5.0,>=0.4.0 in /home/rtrimbou/miniconda3/envs/test_circe_pip/lib/python3.12/site-packages (from rich<11.0.0,>=10.12.0->circe-py) (0.4.6)\n",
      "Requirement already satisfied: commonmark<0.10.0,>=0.9.0 in /home/rtrimbou/miniconda3/envs/test_circe_pip/lib/python3.12/site-packages (from rich<11.0.0,>=10.12.0->circe-py) (0.9.1)\n",
      "Requirement already satisfied: pygments<3.0.0,>=2.6.0 in /home/rtrimbou/miniconda3/envs/test_circe_pip/lib/python3.12/site-packages (from rich<11.0.0,>=10.12.0->circe-py) (2.18.0)\n",
      "Requirement already satisfied: anndata>=0.8 in /home/rtrimbou/miniconda3/envs/test_circe_pip/lib/python3.12/site-packages (from scanpy<2.0.0,>=1.8.1->circe-py) (0.10.8)\n",
      "Requirement already satisfied: h5py>=3.1 in /home/rtrimbou/miniconda3/envs/test_circe_pip/lib/python3.12/site-packages (from scanpy<2.0.0,>=1.8.1->circe-py) (3.11.0)\n",
      "Requirement already satisfied: legacy-api-wrap>=1.4 in /home/rtrimbou/miniconda3/envs/test_circe_pip/lib/python3.12/site-packages (from scanpy<2.0.0,>=1.8.1->circe-py) (1.4)\n",
      "Requirement already satisfied: matplotlib>=3.6 in /home/rtrimbou/miniconda3/envs/test_circe_pip/lib/python3.12/site-packages (from scanpy<2.0.0,>=1.8.1->circe-py) (3.9.1)\n",
      "Requirement already satisfied: natsort in /home/rtrimbou/miniconda3/envs/test_circe_pip/lib/python3.12/site-packages (from scanpy<2.0.0,>=1.8.1->circe-py) (8.4.0)\n",
      "Requirement already satisfied: networkx>=2.7 in /home/rtrimbou/miniconda3/envs/test_circe_pip/lib/python3.12/site-packages (from scanpy<2.0.0,>=1.8.1->circe-py) (3.3)\n",
      "Requirement already satisfied: numba>=0.56 in /home/rtrimbou/miniconda3/envs/test_circe_pip/lib/python3.12/site-packages (from scanpy<2.0.0,>=1.8.1->circe-py) (0.60.0)\n",
      "Requirement already satisfied: packaging>=21.3 in /home/rtrimbou/miniconda3/envs/test_circe_pip/lib/python3.12/site-packages (from scanpy<2.0.0,>=1.8.1->circe-py) (24.1)\n",
      "Requirement already satisfied: patsy in /home/rtrimbou/miniconda3/envs/test_circe_pip/lib/python3.12/site-packages (from scanpy<2.0.0,>=1.8.1->circe-py) (0.5.6)\n",
      "Requirement already satisfied: pynndescent>=0.5 in /home/rtrimbou/miniconda3/envs/test_circe_pip/lib/python3.12/site-packages (from scanpy<2.0.0,>=1.8.1->circe-py) (0.5.13)\n",
      "Requirement already satisfied: scipy>=1.8 in /home/rtrimbou/miniconda3/envs/test_circe_pip/lib/python3.12/site-packages (from scanpy<2.0.0,>=1.8.1->circe-py) (1.14.0)\n",
      "Requirement already satisfied: seaborn>=0.13 in /home/rtrimbou/miniconda3/envs/test_circe_pip/lib/python3.12/site-packages (from scanpy<2.0.0,>=1.8.1->circe-py) (0.13.2)\n",
      "Requirement already satisfied: session-info in /home/rtrimbou/miniconda3/envs/test_circe_pip/lib/python3.12/site-packages (from scanpy<2.0.0,>=1.8.1->circe-py) (1.0.0)\n",
      "Requirement already satisfied: statsmodels>=0.13 in /home/rtrimbou/miniconda3/envs/test_circe_pip/lib/python3.12/site-packages (from scanpy<2.0.0,>=1.8.1->circe-py) (0.14.2)\n",
      "Requirement already satisfied: tqdm in /home/rtrimbou/miniconda3/envs/test_circe_pip/lib/python3.12/site-packages (from scanpy<2.0.0,>=1.8.1->circe-py) (4.66.4)\n",
      "Requirement already satisfied: umap-learn!=0.5.0,>=0.5 in /home/rtrimbou/miniconda3/envs/test_circe_pip/lib/python3.12/site-packages (from scanpy<2.0.0,>=1.8.1->circe-py) (0.5.6)\n",
      "Requirement already satisfied: threadpoolctl>=3.1.0 in /home/rtrimbou/miniconda3/envs/test_circe_pip/lib/python3.12/site-packages (from scikit-learn<2.0.0,>=1.3.1->circe-py) (3.5.0)\n",
      "Requirement already satisfied: array-api-compat!=1.5,>1.4 in /home/rtrimbou/miniconda3/envs/test_circe_pip/lib/python3.12/site-packages (from anndata>=0.8->scanpy<2.0.0,>=1.8.1->circe-py) (1.7.1)\n",
      "Requirement already satisfied: contourpy>=1.0.1 in /home/rtrimbou/miniconda3/envs/test_circe_pip/lib/python3.12/site-packages (from matplotlib>=3.6->scanpy<2.0.0,>=1.8.1->circe-py) (1.2.1)\n",
      "Requirement already satisfied: cycler>=0.10 in /home/rtrimbou/miniconda3/envs/test_circe_pip/lib/python3.12/site-packages (from matplotlib>=3.6->scanpy<2.0.0,>=1.8.1->circe-py) (0.12.1)\n",
      "Requirement already satisfied: fonttools>=4.22.0 in /home/rtrimbou/miniconda3/envs/test_circe_pip/lib/python3.12/site-packages (from matplotlib>=3.6->scanpy<2.0.0,>=1.8.1->circe-py) (4.53.1)\n",
      "Requirement already satisfied: kiwisolver>=1.3.1 in /home/rtrimbou/miniconda3/envs/test_circe_pip/lib/python3.12/site-packages (from matplotlib>=3.6->scanpy<2.0.0,>=1.8.1->circe-py) (1.4.5)\n",
      "Requirement already satisfied: pillow>=8 in /home/rtrimbou/miniconda3/envs/test_circe_pip/lib/python3.12/site-packages (from matplotlib>=3.6->scanpy<2.0.0,>=1.8.1->circe-py) (10.4.0)\n",
      "Requirement already satisfied: pyparsing>=2.3.1 in /home/rtrimbou/miniconda3/envs/test_circe_pip/lib/python3.12/site-packages (from matplotlib>=3.6->scanpy<2.0.0,>=1.8.1->circe-py) (3.1.2)\n",
      "Requirement already satisfied: llvmlite<0.44,>=0.43.0dev0 in /home/rtrimbou/miniconda3/envs/test_circe_pip/lib/python3.12/site-packages (from numba>=0.56->scanpy<2.0.0,>=1.8.1->circe-py) (0.43.0)\n",
      "Requirement already satisfied: six>=1.5 in /home/rtrimbou/miniconda3/envs/test_circe_pip/lib/python3.12/site-packages (from python-dateutil>=2.8.2->pandas<3.0.0,>=2.1.1->circe-py) (1.16.0)\n",
      "Requirement already satisfied: stdlib-list in /home/rtrimbou/miniconda3/envs/test_circe_pip/lib/python3.12/site-packages (from session-info->scanpy<2.0.0,>=1.8.1->circe-py) (0.10.0)\n",
      "Note: you may need to restart the kernel to use updated packages.\n"
     ]
    }
   ],
   "source": [
    "pip install circe-py"
   ]
  },
  {
   "cell_type": "code",
   "execution_count": 2,
   "id": "18bcf460-6d87-487c-8433-7fa9f898970a",
   "metadata": {},
   "outputs": [],
   "source": [
    "import numpy as np\n",
    "import circe as ci\n",
    "import circe.metacells as circe_metacells\n",
    "import scanpy as sc\n",
    "import scipy as sp"
   ]
  },
  {
   "cell_type": "markdown",
   "id": "b5b35075-2b58-4011-944d-316379912fe0",
   "metadata": {},
   "source": [
    "# Test with sparse covariance true matrix as GT"
   ]
  },
  {
   "cell_type": "markdown",
   "id": "3972a885-0c5c-4378-81c2-26b7cfdee1f6",
   "metadata": {
    "tags": []
   },
   "source": [
    "### 0. Create fake AnnData"
   ]
  },
  {
   "cell_type": "markdown",
   "id": "1d0ec88e-0410-4e5c-a2d1-beb196b02b16",
   "metadata": {},
   "source": [
    "This data doesn't contain strong correlation between fake regions, the score will then be low. \n",
    "\n",
    "It will still allow us to demonstrate how to use Circe. :)"
   ]
  },
  {
   "cell_type": "code",
   "execution_count": 3,
   "id": "79295862-9df3-4fa4-a32c-0931c73c705f",
   "metadata": {},
   "outputs": [],
   "source": [
    "atac = sc.datasets.blobs(n_centers=10, n_variables=2_000, n_observations=300, random_state=0)\n",
    "atac.X = np.random.poisson(lam=1, size=atac.X.shape)\n",
    "cell_names = [f\"cell_{i}\" for i in range(1, atac.shape[0]+1)]\n",
    "# number of chr_start_end region names\n",
    "region_names = [[f\"chr{i}_{str(j)}_{str(j+150)}\" \n",
    "                 for j in range(1, 10000*400+1, 10000)] \n",
    "                for i in range(1, 6)]\n",
    "regions_names = [item for sublist in region_names for item in sublist]\n",
    "atac.var_names = regions_names\n",
    "atac.obs_names = cell_names"
   ]
  },
  {
   "cell_type": "code",
   "execution_count": 4,
   "id": "f1707268-8d8f-49bb-ae0a-75c037392b22",
   "metadata": {},
   "outputs": [],
   "source": [
    "distance_threshold = 250_000"
   ]
  },
  {
   "cell_type": "markdown",
   "id": "56bbfdba-4447-4778-b4d7-83be18c8923f",
   "metadata": {
    "tags": []
   },
   "source": [
    "### 1. Add region position in AnnData.obs"
   ]
  },
  {
   "cell_type": "code",
   "execution_count": 5,
   "id": "2feb1282-0e2b-4e10-bb8b-8f448e4ca2a6",
   "metadata": {},
   "outputs": [],
   "source": [
    "atac = ci.add_region_infos(atac)"
   ]
  },
  {
   "cell_type": "markdown",
   "id": "d3ac14f6-fd5e-46cd-89fd-1b583802998c",
   "metadata": {
    "tags": []
   },
   "source": [
    "### 2. Replace random data with fake cov matrix"
   ]
  },
  {
   "cell_type": "markdown",
   "id": "ec6c2bcd-2549-43f1-bef3-f8fe6489d369",
   "metadata": {
    "tags": []
   },
   "source": [
    "### 2.A. Remove Null rows"
   ]
  },
  {
   "cell_type": "code",
   "execution_count": 6,
   "id": "30d98f97-b3b5-4d21-ae8f-4de6c9797f29",
   "metadata": {
    "tags": []
   },
   "outputs": [
    {
     "name": "stderr",
     "output_type": "stream",
     "text": [
      "/home/rtrimbou/miniconda3/envs/test_circe_pip/lib/python3.12/site-packages/scanpy/preprocessing/_simple.py:282: ImplicitModificationWarning: Trying to modify attribute `.var` of view, initializing view as actual.\n",
      "  adata.var[\"n_cells\"] = number\n"
     ]
    },
    {
     "data": {
      "text/plain": [
       "AnnData object with n_obs × n_vars = 300 × 2000\n",
       "    obs: 'blobs', 'n_genes'\n",
       "    var: 'chromosome', 'start', 'end', 'n_cells'"
      ]
     },
     "execution_count": 6,
     "metadata": {},
     "output_type": "execute_result"
    }
   ],
   "source": [
    "sc.pp.filter_genes(atac, min_cells=1,)\n",
    "sc.pp.filter_cells(atac, min_genes=1,)\n",
    "atac"
   ]
  },
  {
   "cell_type": "markdown",
   "id": "6d5c7a34-66cc-4587-b8d5-e485dc975fd8",
   "metadata": {
    "tags": []
   },
   "source": [
    "### 2.B. Compute pseudocells"
   ]
  },
  {
   "cell_type": "code",
   "execution_count": 7,
   "id": "2d8f7966-3f9c-4d73-bd67-5bef4fabd53f",
   "metadata": {
    "scrolled": true,
    "tags": []
   },
   "outputs": [
    {
     "data": {
      "application/vnd.jupyter.widget-view+json": {
       "model_id": "35014ed27d1e427489177e8f0f8d2dfc",
       "version_major": 2,
       "version_minor": 0
      },
      "text/plain": [
       "Output()"
      ]
     },
     "metadata": {},
     "output_type": "display_data"
    },
    {
     "data": {
      "text/html": [
       "<pre style=\"white-space:pre;overflow-x:auto;line-height:normal;font-family:Menlo,'DejaVu Sans Mono',consolas,'Courier New',monospace\"></pre>\n"
      ],
      "text/plain": []
     },
     "metadata": {},
     "output_type": "display_data"
    },
    {
     "data": {
      "text/html": [
       "<pre style=\"white-space:pre;overflow-x:auto;line-height:normal;font-family:Menlo,'DejaVu Sans Mono',consolas,'Courier New',monospace\">\n",
       "</pre>\n"
      ],
      "text/plain": [
       "\n"
      ]
     },
     "metadata": {},
     "output_type": "display_data"
    }
   ],
   "source": [
    "metacells = circe_metacells.compute_metacells(atac)"
   ]
  },
  {
   "cell_type": "markdown",
   "id": "23c4e2ef-c346-4c63-9efb-8e4bbeb95cb2",
   "metadata": {},
   "source": [
    "### 3 Calculate co-accessibility"
   ]
  },
  {
   "cell_type": "code",
   "execution_count": 9,
   "id": "b0e0cb62-fab3-4d7f-bd0f-15ab43045b39",
   "metadata": {
    "scrolled": true,
    "tags": []
   },
   "outputs": [
    {
     "data": {
      "application/vnd.jupyter.widget-view+json": {
       "model_id": "a8ae2597c1e2404086acbb13aa4e1c5f",
       "version_major": 2,
       "version_minor": 0
      },
      "text/plain": [
       "Output()"
      ]
     },
     "metadata": {},
     "output_type": "display_data"
    },
    {
     "data": {
      "text/html": [
       "<pre style=\"white-space:pre;overflow-x:auto;line-height:normal;font-family:Menlo,'DejaVu Sans Mono',consolas,'Courier New',monospace\"></pre>\n"
      ],
      "text/plain": []
     },
     "metadata": {},
     "output_type": "display_data"
    },
    {
     "data": {
      "text/html": [
       "<pre style=\"white-space:pre;overflow-x:auto;line-height:normal;font-family:Menlo,'DejaVu Sans Mono',consolas,'Courier New',monospace\">\n",
       "</pre>\n"
      ],
      "text/plain": [
       "\n"
      ]
     },
     "metadata": {},
     "output_type": "display_data"
    },
    {
     "data": {
      "application/vnd.jupyter.widget-view+json": {
       "model_id": "ac3c78f76b524f13b55a07bc22c73891",
       "version_major": 2,
       "version_minor": 0
      },
      "text/plain": [
       "Output()"
      ]
     },
     "metadata": {},
     "output_type": "display_data"
    },
    {
     "data": {
      "text/html": [
       "<pre style=\"white-space:pre;overflow-x:auto;line-height:normal;font-family:Menlo,'DejaVu Sans Mono',consolas,'Courier New',monospace\"></pre>\n"
      ],
      "text/plain": []
     },
     "metadata": {},
     "output_type": "display_data"
    },
    {
     "data": {
      "text/html": [
       "<pre style=\"white-space:pre;overflow-x:auto;line-height:normal;font-family:Menlo,'DejaVu Sans Mono',consolas,'Courier New',monospace\">\n",
       "</pre>\n"
      ],
      "text/plain": [
       "\n"
      ]
     },
     "metadata": {},
     "output_type": "display_data"
    },
    {
     "data": {
      "application/vnd.jupyter.widget-view+json": {
       "model_id": "915a14e49b2b435b85f44e5ce4bb7711",
       "version_major": 2,
       "version_minor": 0
      },
      "text/plain": [
       "Output()"
      ]
     },
     "metadata": {},
     "output_type": "display_data"
    },
    {
     "data": {
      "text/html": [
       "<pre style=\"white-space:pre;overflow-x:auto;line-height:normal;font-family:Menlo,'DejaVu Sans Mono',consolas,'Courier New',monospace\"></pre>\n"
      ],
      "text/plain": []
     },
     "metadata": {},
     "output_type": "display_data"
    },
    {
     "data": {
      "text/html": [
       "<pre style=\"white-space:pre;overflow-x:auto;line-height:normal;font-family:Menlo,'DejaVu Sans Mono',consolas,'Courier New',monospace\">\n",
       "</pre>\n"
      ],
      "text/plain": [
       "\n"
      ]
     },
     "metadata": {},
     "output_type": "display_data"
    },
    {
     "name": "stdout",
     "output_type": "stream",
     "text": [
      "Averaging co-accessibility scores across windows...\n",
      "Done !\n"
     ]
    }
   ],
   "source": [
    "ci.compute_atac_network(\n",
    "    atac, #metacells,\n",
    "    window_size=distance_threshold,\n",
    "    unit_distance = 1000,\n",
    "    distance_constraint=distance_threshold/2,\n",
    "    n_samples=50,\n",
    "    n_samples_maxtry=100,\n",
    "    max_alpha_iteration=100\n",
    ")"
   ]
  },
  {
   "cell_type": "markdown",
   "id": "69f7dc04-4e27-4b18-a368-8306078e6e46",
   "metadata": {},
   "source": [
    "*1. Circe can also work with sparse covariance matrix.*<br>\n",
    "*2. Connections can also be stored externally using 'sliding_graphical_lasso'.*"
   ]
  },
  {
   "cell_type": "code",
   "execution_count": 10,
   "id": "415223fa-1643-47cf-a1d8-bc8ae52578fd",
   "metadata": {},
   "outputs": [],
   "source": [
    "atac.X = sp.sparse.csr_matrix(atac.X)\n",
    "# atac.X = atac.X.toarray()"
   ]
  },
  {
   "cell_type": "code",
   "execution_count": 11,
   "id": "1825591f-5177-4429-8791-54ef15537e66",
   "metadata": {
    "scrolled": true,
    "tags": []
   },
   "outputs": [
    {
     "data": {
      "application/vnd.jupyter.widget-view+json": {
       "model_id": "18d0fb48087a476195a71770c84fc04e",
       "version_major": 2,
       "version_minor": 0
      },
      "text/plain": [
       "Output()"
      ]
     },
     "metadata": {},
     "output_type": "display_data"
    },
    {
     "data": {
      "text/html": [
       "<pre style=\"white-space:pre;overflow-x:auto;line-height:normal;font-family:Menlo,'DejaVu Sans Mono',consolas,'Courier New',monospace\"></pre>\n"
      ],
      "text/plain": []
     },
     "metadata": {},
     "output_type": "display_data"
    },
    {
     "data": {
      "text/html": [
       "<pre style=\"white-space:pre;overflow-x:auto;line-height:normal;font-family:Menlo,'DejaVu Sans Mono',consolas,'Courier New',monospace\">\n",
       "</pre>\n"
      ],
      "text/plain": [
       "\n"
      ]
     },
     "metadata": {},
     "output_type": "display_data"
    },
    {
     "data": {
      "application/vnd.jupyter.widget-view+json": {
       "model_id": "c5c1f2dc97b343fbaca7547fc8e29916",
       "version_major": 2,
       "version_minor": 0
      },
      "text/plain": [
       "Output()"
      ]
     },
     "metadata": {},
     "output_type": "display_data"
    },
    {
     "data": {
      "text/html": [
       "<pre style=\"white-space:pre;overflow-x:auto;line-height:normal;font-family:Menlo,'DejaVu Sans Mono',consolas,'Courier New',monospace\"></pre>\n"
      ],
      "text/plain": []
     },
     "metadata": {},
     "output_type": "display_data"
    },
    {
     "data": {
      "text/html": [
       "<pre style=\"white-space:pre;overflow-x:auto;line-height:normal;font-family:Menlo,'DejaVu Sans Mono',consolas,'Courier New',monospace\">\n",
       "</pre>\n"
      ],
      "text/plain": [
       "\n"
      ]
     },
     "metadata": {},
     "output_type": "display_data"
    },
    {
     "data": {
      "application/vnd.jupyter.widget-view+json": {
       "model_id": "eeddae24fc8e4be7a8a1c8c25e8db383",
       "version_major": 2,
       "version_minor": 0
      },
      "text/plain": [
       "Output()"
      ]
     },
     "metadata": {},
     "output_type": "display_data"
    },
    {
     "data": {
      "text/html": [
       "<pre style=\"white-space:pre;overflow-x:auto;line-height:normal;font-family:Menlo,'DejaVu Sans Mono',consolas,'Courier New',monospace\"></pre>\n"
      ],
      "text/plain": []
     },
     "metadata": {},
     "output_type": "display_data"
    },
    {
     "data": {
      "text/html": [
       "<pre style=\"white-space:pre;overflow-x:auto;line-height:normal;font-family:Menlo,'DejaVu Sans Mono',consolas,'Courier New',monospace\">\n",
       "</pre>\n"
      ],
      "text/plain": [
       "\n"
      ]
     },
     "metadata": {},
     "output_type": "display_data"
    },
    {
     "name": "stdout",
     "output_type": "stream",
     "text": [
      "Averaging co-accessibility scores across windows...\n",
      "Done !\n"
     ]
    }
   ],
   "source": [
    "final_score = ci.sliding_graphical_lasso(\n",
    "    atac,\n",
    "    window_size=distance_threshold,\n",
    "    unit_distance = 1000,\n",
    "    distance_constraint=distance_threshold/2,\n",
    "    n_samples=50,\n",
    "    n_samples_maxtry=100,\n",
    "    max_alpha_iteration=500\n",
    ")\n",
    "atac.varp['atac_network'] = final_score"
   ]
  },
  {
   "cell_type": "markdown",
   "id": "aad0c904-effe-43a0-b504-d12089176550",
   "metadata": {},
   "source": [
    "### 3. B. Extract list of edges"
   ]
  },
  {
   "cell_type": "code",
   "execution_count": 12,
   "id": "0a26c332-5a1e-4b10-bf0b-3e6339dace60",
   "metadata": {
    "scrolled": true,
    "tags": []
   },
   "outputs": [
    {
     "data": {
      "text/html": [
       "<div>\n",
       "<style scoped>\n",
       "    .dataframe tbody tr th:only-of-type {\n",
       "        vertical-align: middle;\n",
       "    }\n",
       "\n",
       "    .dataframe tbody tr th {\n",
       "        vertical-align: top;\n",
       "    }\n",
       "\n",
       "    .dataframe thead th {\n",
       "        text-align: right;\n",
       "    }\n",
       "</style>\n",
       "<table border=\"1\" class=\"dataframe\">\n",
       "  <thead>\n",
       "    <tr style=\"text-align: right;\">\n",
       "      <th></th>\n",
       "      <th>Peak1</th>\n",
       "      <th>Peak2</th>\n",
       "      <th>score</th>\n",
       "    </tr>\n",
       "  </thead>\n",
       "  <tbody>\n",
       "    <tr>\n",
       "      <th>304</th>\n",
       "      <td>chr1_1130001_1130151</td>\n",
       "      <td>chr1_1360001_1360151</td>\n",
       "      <td>0.131203</td>\n",
       "    </tr>\n",
       "    <tr>\n",
       "      <th>7765</th>\n",
       "      <td>chr5_2680001_2680151</td>\n",
       "      <td>chr5_2810001_2810151</td>\n",
       "      <td>0.120076</td>\n",
       "    </tr>\n",
       "    <tr>\n",
       "      <th>3535</th>\n",
       "      <td>chr3_540001_540151</td>\n",
       "      <td>chr3_640001_640151</td>\n",
       "      <td>0.117660</td>\n",
       "    </tr>\n",
       "    <tr>\n",
       "      <th>551</th>\n",
       "      <td>chr1_1580001_1580151</td>\n",
       "      <td>chr1_1620001_1620151</td>\n",
       "      <td>0.098067</td>\n",
       "    </tr>\n",
       "    <tr>\n",
       "      <th>7360</th>\n",
       "      <td>chr5_1620001_1620151</td>\n",
       "      <td>chr5_1740001_1740151</td>\n",
       "      <td>0.098064</td>\n",
       "    </tr>\n",
       "    <tr>\n",
       "      <th>...</th>\n",
       "      <td>...</td>\n",
       "      <td>...</td>\n",
       "      <td>...</td>\n",
       "    </tr>\n",
       "    <tr>\n",
       "      <th>5341</th>\n",
       "      <td>chr4_940001_940151</td>\n",
       "      <td>chr4_1060001_1060151</td>\n",
       "      <td>-0.100063</td>\n",
       "    </tr>\n",
       "    <tr>\n",
       "      <th>5230</th>\n",
       "      <td>chr4_300001_300151</td>\n",
       "      <td>chr4_460001_460151</td>\n",
       "      <td>-0.102714</td>\n",
       "    </tr>\n",
       "    <tr>\n",
       "      <th>5564</th>\n",
       "      <td>chr4_1880001_1880151</td>\n",
       "      <td>chr4_2000001_2000151</td>\n",
       "      <td>-0.105041</td>\n",
       "    </tr>\n",
       "    <tr>\n",
       "      <th>4980</th>\n",
       "      <td>chr3_3440001_3440151</td>\n",
       "      <td>chr3_3450001_3450151</td>\n",
       "      <td>-0.109209</td>\n",
       "    </tr>\n",
       "    <tr>\n",
       "      <th>1156</th>\n",
       "      <td>chr1_3170001_3170151</td>\n",
       "      <td>chr1_3210001_3210151</td>\n",
       "      <td>-0.116541</td>\n",
       "    </tr>\n",
       "  </tbody>\n",
       "</table>\n",
       "<p>8500 rows × 3 columns</p>\n",
       "</div>"
      ],
      "text/plain": [
       "                     Peak1                 Peak2     score\n",
       "304   chr1_1130001_1130151  chr1_1360001_1360151  0.131203\n",
       "7765  chr5_2680001_2680151  chr5_2810001_2810151  0.120076\n",
       "3535    chr3_540001_540151    chr3_640001_640151  0.117660\n",
       "551   chr1_1580001_1580151  chr1_1620001_1620151  0.098067\n",
       "7360  chr5_1620001_1620151  chr5_1740001_1740151  0.098064\n",
       "...                    ...                   ...       ...\n",
       "5341    chr4_940001_940151  chr4_1060001_1060151 -0.100063\n",
       "5230    chr4_300001_300151    chr4_460001_460151 -0.102714\n",
       "5564  chr4_1880001_1880151  chr4_2000001_2000151 -0.105041\n",
       "4980  chr3_3440001_3440151  chr3_3450001_3450151 -0.109209\n",
       "1156  chr1_3170001_3170151  chr1_3210001_3210151 -0.116541\n",
       "\n",
       "[8500 rows x 3 columns]"
      ]
     },
     "execution_count": 12,
     "metadata": {},
     "output_type": "execute_result"
    }
   ],
   "source": [
    "circe_network = ci.extract_atac_links(atac) #metacells)\n",
    "circe_network"
   ]
  },
  {
   "cell_type": "markdown",
   "id": "1c66dcfb-1a1d-4309-bf57-ee9b4ee1f3b4",
   "metadata": {},
   "source": [
    "### 4. Plot co-accessibility scores in a window"
   ]
  },
  {
   "cell_type": "code",
   "execution_count": 15,
   "id": "7e256844-e050-49fc-b811-191b0cf17561",
   "metadata": {},
   "outputs": [
    {
     "name": "stdout",
     "output_type": "stream",
     "text": [
      "0.05506910617832078\n"
     ]
    },
    {
     "data": {
      "image/png": "[encoded data removed]",
      "text/plain": [
       "<Figure size 2000x600 with 1 Axes>"
      ]
     },
     "metadata": {},
     "output_type": "display_data"
    }
   ],
   "source": [
    "ci.plot_connections(\n",
    "    circe_network,\n",
    "    chromosome=\"chr1\",\n",
    "    start=10_000,\n",
    "    end=200_000,\n",
    "    sep=(\"_\",\"_\"),\n",
    "    abs_threshold=0.01\n",
    ")"
   ]
  },
  {
   "cell_type": "code",
   "execution_count": 16,
   "id": "f699ad6c",
   "metadata": {},
   "outputs": [],
   "source": [
    "atac2 = ci.subset_region(atac, \"chr1\", 10_000, 100_000)"
   ]
  },
  {
   "cell_type": "code",
   "execution_count": 17,
   "id": "39d41ca4",
   "metadata": {},
   "outputs": [
    {
     "name": "stderr",
     "output_type": "stream",
     "text": [
      "/home/rtrimbou/miniconda3/envs/test_circe_pip/lib/python3.12/site-packages/circe/circe.py:288: ImplicitModificationWarning: Setting element `.varp['atac_network']` of view, initializing view as actual.\n",
      "  anndata.varp[key] = anndata.varp[key].tocoo()\n"
     ]
    },
    {
     "data": {
      "text/html": [
       "<div>\n",
       "<style scoped>\n",
       "    .dataframe tbody tr th:only-of-type {\n",
       "        vertical-align: middle;\n",
       "    }\n",
       "\n",
       "    .dataframe tbody tr th {\n",
       "        vertical-align: top;\n",
       "    }\n",
       "\n",
       "    .dataframe thead th {\n",
       "        text-align: right;\n",
       "    }\n",
       "</style>\n",
       "<table border=\"1\" class=\"dataframe\">\n",
       "  <thead>\n",
       "    <tr style=\"text-align: right;\">\n",
       "      <th></th>\n",
       "      <th>Peak1</th>\n",
       "      <th>Peak2</th>\n",
       "      <th>score</th>\n",
       "    </tr>\n",
       "  </thead>\n",
       "  <tbody>\n",
       "    <tr>\n",
       "      <th>3</th>\n",
       "      <td>chr1_40001_40151</td>\n",
       "      <td>chr1_50001_50151</td>\n",
       "      <td>1.327766e-02</td>\n",
       "    </tr>\n",
       "    <tr>\n",
       "      <th>4</th>\n",
       "      <td>chr1_70001_70151</td>\n",
       "      <td>chr1_80001_80151</td>\n",
       "      <td>6.105672e-03</td>\n",
       "    </tr>\n",
       "    <tr>\n",
       "      <th>0</th>\n",
       "      <td>chr1_10001_10151</td>\n",
       "      <td>chr1_40001_40151</td>\n",
       "      <td>-7.513865e-08</td>\n",
       "    </tr>\n",
       "    <tr>\n",
       "      <th>1</th>\n",
       "      <td>chr1_10001_10151</td>\n",
       "      <td>chr1_50001_50151</td>\n",
       "      <td>-5.659026e-06</td>\n",
       "    </tr>\n",
       "    <tr>\n",
       "      <th>2</th>\n",
       "      <td>chr1_20001_20151</td>\n",
       "      <td>chr1_90001_90151</td>\n",
       "      <td>-4.610871e-02</td>\n",
       "    </tr>\n",
       "  </tbody>\n",
       "</table>\n",
       "</div>"
      ],
      "text/plain": [
       "              Peak1             Peak2         score\n",
       "3  chr1_40001_40151  chr1_50001_50151  1.327766e-02\n",
       "4  chr1_70001_70151  chr1_80001_80151  6.105672e-03\n",
       "0  chr1_10001_10151  chr1_40001_40151 -7.513865e-08\n",
       "1  chr1_10001_10151  chr1_50001_50151 -5.659026e-06\n",
       "2  chr1_20001_20151  chr1_90001_90151 -4.610871e-02"
      ]
     },
     "execution_count": 17,
     "metadata": {},
     "output_type": "execute_result"
    }
   ],
   "source": [
    "df = ci.extract_atac_links(atac2)\n",
    "df"
   ]
  },
  {
   "cell_type": "code",
   "execution_count": 18,
   "id": "49ea4915-730b-44a6-b726-58866031aeac",
   "metadata": {},
   "outputs": [
    {
     "data": {
      "text/html": [
       "<div>\n",
       "<style scoped>\n",
       "    .dataframe tbody tr th:only-of-type {\n",
       "        vertical-align: middle;\n",
       "    }\n",
       "\n",
       "    .dataframe tbody tr th {\n",
       "        vertical-align: top;\n",
       "    }\n",
       "\n",
       "    .dataframe thead th {\n",
       "        text-align: right;\n",
       "    }\n",
       "</style>\n",
       "<table border=\"1\" class=\"dataframe\">\n",
       "  <thead>\n",
       "    <tr style=\"text-align: right;\">\n",
       "      <th></th>\n",
       "      <th>Peak1</th>\n",
       "      <th>Peak2</th>\n",
       "      <th>score</th>\n",
       "    </tr>\n",
       "  </thead>\n",
       "  <tbody>\n",
       "    <tr>\n",
       "      <th>304</th>\n",
       "      <td>chr1_1130001_1130151</td>\n",
       "      <td>chr1_1360001_1360151</td>\n",
       "      <td>0.131203</td>\n",
       "    </tr>\n",
       "    <tr>\n",
       "      <th>7765</th>\n",
       "      <td>chr5_2680001_2680151</td>\n",
       "      <td>chr5_2810001_2810151</td>\n",
       "      <td>0.120076</td>\n",
       "    </tr>\n",
       "    <tr>\n",
       "      <th>3535</th>\n",
       "      <td>chr3_540001_540151</td>\n",
       "      <td>chr3_640001_640151</td>\n",
       "      <td>0.117660</td>\n",
       "    </tr>\n",
       "    <tr>\n",
       "      <th>551</th>\n",
       "      <td>chr1_1580001_1580151</td>\n",
       "      <td>chr1_1620001_1620151</td>\n",
       "      <td>0.098067</td>\n",
       "    </tr>\n",
       "    <tr>\n",
       "      <th>7360</th>\n",
       "      <td>chr5_1620001_1620151</td>\n",
       "      <td>chr5_1740001_1740151</td>\n",
       "      <td>0.098064</td>\n",
       "    </tr>\n",
       "    <tr>\n",
       "      <th>...</th>\n",
       "      <td>...</td>\n",
       "      <td>...</td>\n",
       "      <td>...</td>\n",
       "    </tr>\n",
       "    <tr>\n",
       "      <th>5341</th>\n",
       "      <td>chr4_940001_940151</td>\n",
       "      <td>chr4_1060001_1060151</td>\n",
       "      <td>-0.100063</td>\n",
       "    </tr>\n",
       "    <tr>\n",
       "      <th>5230</th>\n",
       "      <td>chr4_300001_300151</td>\n",
       "      <td>chr4_460001_460151</td>\n",
       "      <td>-0.102714</td>\n",
       "    </tr>\n",
       "    <tr>\n",
       "      <th>5564</th>\n",
       "      <td>chr4_1880001_1880151</td>\n",
       "      <td>chr4_2000001_2000151</td>\n",
       "      <td>-0.105041</td>\n",
       "    </tr>\n",
       "    <tr>\n",
       "      <th>4980</th>\n",
       "      <td>chr3_3440001_3440151</td>\n",
       "      <td>chr3_3450001_3450151</td>\n",
       "      <td>-0.109209</td>\n",
       "    </tr>\n",
       "    <tr>\n",
       "      <th>1156</th>\n",
       "      <td>chr1_3170001_3170151</td>\n",
       "      <td>chr1_3210001_3210151</td>\n",
       "      <td>-0.116541</td>\n",
       "    </tr>\n",
       "  </tbody>\n",
       "</table>\n",
       "<p>8500 rows × 3 columns</p>\n",
       "</div>"
      ],
      "text/plain": [
       "                     Peak1                 Peak2     score\n",
       "304   chr1_1130001_1130151  chr1_1360001_1360151  0.131203\n",
       "7765  chr5_2680001_2680151  chr5_2810001_2810151  0.120076\n",
       "3535    chr3_540001_540151    chr3_640001_640151  0.117660\n",
       "551   chr1_1580001_1580151  chr1_1620001_1620151  0.098067\n",
       "7360  chr5_1620001_1620151  chr5_1740001_1740151  0.098064\n",
       "...                    ...                   ...       ...\n",
       "5341    chr4_940001_940151  chr4_1060001_1060151 -0.100063\n",
       "5230    chr4_300001_300151    chr4_460001_460151 -0.102714\n",
       "5564  chr4_1880001_1880151  chr4_2000001_2000151 -0.105041\n",
       "4980  chr3_3440001_3440151  chr3_3450001_3450151 -0.109209\n",
       "1156  chr1_3170001_3170151  chr1_3210001_3210151 -0.116541\n",
       "\n",
       "[8500 rows x 3 columns]"
      ]
     },
     "execution_count": 18,
     "metadata": {},
     "output_type": "execute_result"
    }
   ],
   "source": [
    "circe_network"
   ]
  },
  {
   "cell_type": "code",
   "execution_count": 23,
   "id": "b723b363-8451-464f-9fab-f68941eedd2f",
   "metadata": {},
   "outputs": [],
   "source": [
    "from rich.progress import Progress"
   ]
  },
  {
   "cell_type": "code",
   "execution_count": 25,
   "id": "db95d9f3-41fe-420b-8c13-0ac04b3865d5",
   "metadata": {},
   "outputs": [
    {
     "data": {
      "text/plain": [
       "\u001b[0;31mInit signature:\u001b[0m\n",
       "\u001b[0mProgress\u001b[0m\u001b[0;34m(\u001b[0m\u001b[0;34m\u001b[0m\n",
       "\u001b[0;34m\u001b[0m    \u001b[0;34m*\u001b[0m\u001b[0mcolumns\u001b[0m\u001b[0;34m:\u001b[0m \u001b[0mUnion\u001b[0m\u001b[0;34m[\u001b[0m\u001b[0mstr\u001b[0m\u001b[0;34m,\u001b[0m \u001b[0mrich\u001b[0m\u001b[0;34m.\u001b[0m\u001b[0mprogress\u001b[0m\u001b[0;34m.\u001b[0m\u001b[0mProgressColumn\u001b[0m\u001b[0;34m]\u001b[0m\u001b[0;34m,\u001b[0m\u001b[0;34m\u001b[0m\n",
       "\u001b[0;34m\u001b[0m    \u001b[0mconsole\u001b[0m\u001b[0;34m:\u001b[0m \u001b[0mOptional\u001b[0m\u001b[0;34m[\u001b[0m\u001b[0mrich\u001b[0m\u001b[0;34m.\u001b[0m\u001b[0mconsole\u001b[0m\u001b[0;34m.\u001b[0m\u001b[0mConsole\u001b[0m\u001b[0;34m]\u001b[0m \u001b[0;34m=\u001b[0m \u001b[0;32mNone\u001b[0m\u001b[0;34m,\u001b[0m\u001b[0;34m\u001b[0m\n",
       "\u001b[0;34m\u001b[0m    \u001b[0mauto_refresh\u001b[0m\u001b[0;34m:\u001b[0m \u001b[0mbool\u001b[0m \u001b[0;34m=\u001b[0m \u001b[0;32mTrue\u001b[0m\u001b[0;34m,\u001b[0m\u001b[0;34m\u001b[0m\n",
       "\u001b[0;34m\u001b[0m    \u001b[0mrefresh_per_second\u001b[0m\u001b[0;34m:\u001b[0m \u001b[0mfloat\u001b[0m \u001b[0;34m=\u001b[0m \u001b[0;36m10\u001b[0m\u001b[0;34m,\u001b[0m\u001b[0;34m\u001b[0m\n",
       "\u001b[0;34m\u001b[0m    \u001b[0mspeed_estimate_period\u001b[0m\u001b[0;34m:\u001b[0m \u001b[0mfloat\u001b[0m \u001b[0;34m=\u001b[0m \u001b[0;36m30.0\u001b[0m\u001b[0;34m,\u001b[0m\u001b[0;34m\u001b[0m\n",
       "\u001b[0;34m\u001b[0m    \u001b[0mtransient\u001b[0m\u001b[0;34m:\u001b[0m \u001b[0mbool\u001b[0m \u001b[0;34m=\u001b[0m \u001b[0;32mFalse\u001b[0m\u001b[0;34m,\u001b[0m\u001b[0;34m\u001b[0m\n",
       "\u001b[0;34m\u001b[0m    \u001b[0mredirect_stdout\u001b[0m\u001b[0;34m:\u001b[0m \u001b[0mbool\u001b[0m \u001b[0;34m=\u001b[0m \u001b[0;32mTrue\u001b[0m\u001b[0;34m,\u001b[0m\u001b[0;34m\u001b[0m\n",
       "\u001b[0;34m\u001b[0m    \u001b[0mredirect_stderr\u001b[0m\u001b[0;34m:\u001b[0m \u001b[0mbool\u001b[0m \u001b[0;34m=\u001b[0m \u001b[0;32mTrue\u001b[0m\u001b[0;34m,\u001b[0m\u001b[0;34m\u001b[0m\n",
       "\u001b[0;34m\u001b[0m    \u001b[0mget_time\u001b[0m\u001b[0;34m:\u001b[0m \u001b[0mOptional\u001b[0m\u001b[0;34m[\u001b[0m\u001b[0mCallable\u001b[0m\u001b[0;34m[\u001b[0m\u001b[0;34m[\u001b[0m\u001b[0;34m]\u001b[0m\u001b[0;34m,\u001b[0m \u001b[0mfloat\u001b[0m\u001b[0;34m]\u001b[0m\u001b[0;34m]\u001b[0m \u001b[0;34m=\u001b[0m \u001b[0;32mNone\u001b[0m\u001b[0;34m,\u001b[0m\u001b[0;34m\u001b[0m\n",
       "\u001b[0;34m\u001b[0m    \u001b[0mdisable\u001b[0m\u001b[0;34m:\u001b[0m \u001b[0mbool\u001b[0m \u001b[0;34m=\u001b[0m \u001b[0;32mFalse\u001b[0m\u001b[0;34m,\u001b[0m\u001b[0;34m\u001b[0m\n",
       "\u001b[0;34m\u001b[0m    \u001b[0mexpand\u001b[0m\u001b[0;34m:\u001b[0m \u001b[0mbool\u001b[0m \u001b[0;34m=\u001b[0m \u001b[0;32mFalse\u001b[0m\u001b[0;34m,\u001b[0m\u001b[0;34m\u001b[0m\n",
       "\u001b[0;34m\u001b[0m\u001b[0;34m)\u001b[0m \u001b[0;34m->\u001b[0m \u001b[0;32mNone\u001b[0m\u001b[0;34m\u001b[0m\u001b[0;34m\u001b[0m\u001b[0m\n",
       "\u001b[0;31mDocstring:\u001b[0m     \n",
       "Renders an auto-updating progress bar(s).\n",
       "\n",
       "Args:\n",
       "    console (Console, optional): Optional Console instance. Default will an internal Console instance writing to stdout.\n",
       "    auto_refresh (bool, optional): Enable auto refresh. If disabled, you will need to call `refresh()`.\n",
       "    refresh_per_second (Optional[float], optional): Number of times per second to refresh the progress information or None to use default (10). Defaults to None.\n",
       "    speed_estimate_period: (float, optional): Period (in seconds) used to calculate the speed estimate. Defaults to 30.\n",
       "    transient: (bool, optional): Clear the progress on exit. Defaults to False.\n",
       "    redirect_stdout: (bool, optional): Enable redirection of stdout, so ``print`` may be used. Defaults to True.\n",
       "    redirect_stderr: (bool, optional): Enable redirection of stderr. Defaults to True.\n",
       "    get_time: (Callable, optional): A callable that gets the current time, or None to use Console.get_time. Defaults to None.\n",
       "    disable (bool, optional): Disable progress display. Defaults to False\n",
       "    expand (bool, optional): Expand tasks table to fit width. Defaults to False.\n",
       "\u001b[0;31mFile:\u001b[0m           ~/miniconda3/envs/test_circe_pip/lib/python3.12/site-packages/rich/progress.py\n",
       "\u001b[0;31mType:\u001b[0m           type\n",
       "\u001b[0;31mSubclasses:\u001b[0m     "
      ]
     },
     "metadata": {},
     "output_type": "display_data"
    }
   ],
   "source": [
    "?Progress"
   ]
  },
  {
   "cell_type": "code",
   "execution_count": 26,
   "id": "832070e5-b3d3-4e55-9298-fb7ec9847378",
   "metadata": {},
   "outputs": [
    {
     "data": {
      "text/plain": [
       "\u001b[0;31mSignature:\u001b[0m\n",
       "\u001b[0mProgress\u001b[0m\u001b[0;34m.\u001b[0m\u001b[0madd_task\u001b[0m\u001b[0;34m(\u001b[0m\u001b[0;34m\u001b[0m\n",
       "\u001b[0;34m\u001b[0m    \u001b[0mself\u001b[0m\u001b[0;34m,\u001b[0m\u001b[0;34m\u001b[0m\n",
       "\u001b[0;34m\u001b[0m    \u001b[0mdescription\u001b[0m\u001b[0;34m:\u001b[0m \u001b[0mstr\u001b[0m\u001b[0;34m,\u001b[0m\u001b[0;34m\u001b[0m\n",
       "\u001b[0;34m\u001b[0m    \u001b[0mstart\u001b[0m\u001b[0;34m:\u001b[0m \u001b[0mbool\u001b[0m \u001b[0;34m=\u001b[0m \u001b[0;32mTrue\u001b[0m\u001b[0;34m,\u001b[0m\u001b[0;34m\u001b[0m\n",
       "\u001b[0;34m\u001b[0m    \u001b[0mtotal\u001b[0m\u001b[0;34m:\u001b[0m \u001b[0mfloat\u001b[0m \u001b[0;34m=\u001b[0m \u001b[0;36m100.0\u001b[0m\u001b[0;34m,\u001b[0m\u001b[0;34m\u001b[0m\n",
       "\u001b[0;34m\u001b[0m    \u001b[0mcompleted\u001b[0m\u001b[0;34m:\u001b[0m \u001b[0mint\u001b[0m \u001b[0;34m=\u001b[0m \u001b[0;36m0\u001b[0m\u001b[0;34m,\u001b[0m\u001b[0;34m\u001b[0m\n",
       "\u001b[0;34m\u001b[0m    \u001b[0mvisible\u001b[0m\u001b[0;34m:\u001b[0m \u001b[0mbool\u001b[0m \u001b[0;34m=\u001b[0m \u001b[0;32mTrue\u001b[0m\u001b[0;34m,\u001b[0m\u001b[0;34m\u001b[0m\n",
       "\u001b[0;34m\u001b[0m    \u001b[0;34m**\u001b[0m\u001b[0mfields\u001b[0m\u001b[0;34m:\u001b[0m \u001b[0mAny\u001b[0m\u001b[0;34m,\u001b[0m\u001b[0;34m\u001b[0m\n",
       "\u001b[0;34m\u001b[0m\u001b[0;34m)\u001b[0m \u001b[0;34m->\u001b[0m \u001b[0mrich\u001b[0m\u001b[0;34m.\u001b[0m\u001b[0mprogress\u001b[0m\u001b[0;34m.\u001b[0m\u001b[0mTaskID\u001b[0m\u001b[0;34m\u001b[0m\u001b[0;34m\u001b[0m\u001b[0m\n",
       "\u001b[0;31mDocstring:\u001b[0m\n",
       "Add a new 'task' to the Progress display.\n",
       "\n",
       "Args:\n",
       "    description (str): A description of the task.\n",
       "    start (bool, optional): Start the task immediately (to calculate elapsed time). If set to False,\n",
       "        you will need to call `start` manually. Defaults to True.\n",
       "    total (float, optional): Number of total steps in the progress if know. Defaults to 100.\n",
       "    completed (int, optional): Number of steps completed so far.. Defaults to 0.\n",
       "    visible (bool, optional): Enable display of the task. Defaults to True.\n",
       "    **fields (str): Additional data fields required for rendering.\n",
       "\n",
       "Returns:\n",
       "    TaskID: An ID you can use when calling `update`.\n",
       "\u001b[0;31mFile:\u001b[0m      ~/miniconda3/envs/test_circe_pip/lib/python3.12/site-packages/rich/progress.py\n",
       "\u001b[0;31mType:\u001b[0m      function"
      ]
     },
     "metadata": {},
     "output_type": "display_data"
    }
   ],
   "source": [
    "?Progress.add_task"
   ]
  },
  {
   "cell_type": "code",
   "execution_count": 27,
   "id": "76771abf-290a-4058-af23-48c7ba7d9978",
   "metadata": {},
   "outputs": [],
   "source": [
    "import rich.progress"
   ]
  },
  {
   "cell_type": "code",
   "execution_count": 29,
   "id": "7efb65be-47a4-4bb1-b216-bb0bf66163bd",
   "metadata": {},
   "outputs": [
    {
     "data": {
      "text/plain": [
       "\u001b[0;31mSignature:\u001b[0m   \u001b[0mrich\u001b[0m\u001b[0;34m.\u001b[0m\u001b[0mprogress\u001b[0m\u001b[0;34m.\u001b[0m\u001b[0mTaskID\u001b[0m\u001b[0;34m(\u001b[0m\u001b[0mx\u001b[0m\u001b[0;34m,\u001b[0m \u001b[0;34m/\u001b[0m\u001b[0;34m)\u001b[0m\u001b[0;34m\u001b[0m\u001b[0;34m\u001b[0m\u001b[0m\n",
       "\u001b[0;31mType:\u001b[0m        NewType\n",
       "\u001b[0;31mString form:\u001b[0m rich.progress.TaskID\n",
       "\u001b[0;31mFile:\u001b[0m        ~/miniconda3/envs/test_circe_pip/lib/python3.12/typing.py\n",
       "\u001b[0;31mDocstring:\u001b[0m  \n",
       "NewType creates simple unique types with almost zero runtime overhead.\n",
       "\n",
       "NewType(name, tp) is considered a subtype of tp\n",
       "by static type checkers. At runtime, NewType(name, tp) returns\n",
       "a dummy callable that simply returns its argument.\n",
       "\n",
       "Usage::\n",
       "\n",
       "    UserId = NewType('UserId', int)\n",
       "\n",
       "    def name_by_id(user_id: UserId) -> str:\n",
       "        ...\n",
       "\n",
       "    UserId('user')          # Fails type check\n",
       "\n",
       "    name_by_id(42)          # Fails type check\n",
       "    name_by_id(UserId(42))  # OK\n",
       "\n",
       "    num = UserId(5) + 1     # type: int"
      ]
     },
     "metadata": {},
     "output_type": "display_data"
    }
   ],
   "source": [
    "?rich.progress.TaskID"
   ]
  },
  {
   "cell_type": "code",
   "execution_count": null,
   "id": "d185432b-bffe-44e9-b0b4-83d92faf033a",
   "metadata": {},
   "outputs": [],
   "source": []
  }
 ],
 "metadata": {
  "kernelspec": {
   "display_name": "Python 3 (ipykernel)",
   "language": "python",
   "name": "python3"
  },
  "language_info": {
   "codemirror_mode": {
    "name": "ipython",
    "version": 3
   },
   "file_extension": ".py",
   "mimetype": "text/x-python",
   "name": "python",
   "nbconvert_exporter": "python",
   "pygments_lexer": "ipython3",
   "version": "3.12.4"
  }
 },
 "nbformat": 4,
 "nbformat_minor": 5
}
